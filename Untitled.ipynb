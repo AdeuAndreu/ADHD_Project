{
 "cells": [
  {
   "cell_type": "code",
   "execution_count": 5,
   "metadata": {
    "collapsed": false
   },
   "outputs": [
    {
     "name": "stdout",
     "output_type": "stream",
     "text": [
      "Supervised_Learning_AD_plots-V2.ipynb   sLearningRandomForest.py\r\n",
      "Supervised_Learning_AD_plots-V22.ipynb  sLearningSVM.py\r\n",
      "Supervised_Learning_AD_plots.ipynb      supervisedLearning.py\r\n",
      "\u001b[34m__pycache__\u001b[m\u001b[m/                            supervisedLearning.txt\r\n",
      "sLearningLogisticRegression.py          supervisedLearning_commons.py\r\n"
     ]
    }
   ],
   "source": [
    "%ls\n",
    "\n"
   ]
  },
  {
   "cell_type": "code",
   "execution_count": 4,
   "metadata": {
    "collapsed": false
   },
   "outputs": [
    {
     "name": "stdout",
     "output_type": "stream",
     "text": [
      "/Users/and_ma/Documents/DataScience/UB_DataScience/DataScience_Project/gitHub/ADHD_Project/SupervisedLearning\n"
     ]
    }
   ],
   "source": [
    "cd SupervisedLearning/\n"
   ]
  },
  {
   "cell_type": "code",
   "execution_count": null,
   "metadata": {
    "collapsed": true
   },
   "outputs": [],
   "source": []
  }
 ],
 "metadata": {
  "kernelspec": {
   "display_name": "Python PycharmEnv",
   "language": "python",
   "name": "pycharmenv"
  },
  "language_info": {
   "codemirror_mode": {
    "name": "ipython",
    "version": 3
   },
   "file_extension": ".py",
   "mimetype": "text/x-python",
   "name": "python",
   "nbconvert_exporter": "python",
   "pygments_lexer": "ipython3",
   "version": "3.5.1"
  }
 },
 "nbformat": 4,
 "nbformat_minor": 0
}
