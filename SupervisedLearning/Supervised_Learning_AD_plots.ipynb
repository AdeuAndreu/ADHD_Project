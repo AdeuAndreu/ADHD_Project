{
 "cells": [
  {
   "cell_type": "code",
   "execution_count": 17,
   "metadata": {
    "collapsed": true
   },
   "outputs": [],
   "source": [
    "import pandas as pd\n",
    "import numpy as np\n",
    "#from sklearn.preprocessing import OneHotEncoder\n",
    "from sklearn.feature_extraction import DictVectorizer as DV\n",
    "from sklearn import svm,tree\n",
    "from sklearn.ensemble import RandomForestClassifier\n",
    "from sklearn.svm import SVC\n",
    "from sklearn import metrics\n",
    "import matplotlib.pyplot as plt\n",
    "from sklearn import cross_validation\n",
    "from sklearn.preprocessing import StandardScaler\n",
    "from sklearn.cross_validation import train_test_split\n",
    "import supervisedLearning_commons\n",
    "from sklearn.linear_model import LogisticRegression\n",
    "\n",
    "\n",
    "from matplotlib.colors import ListedColormap"
   ]
  },
  {
   "cell_type": "code",
   "execution_count": 3,
   "metadata": {
    "collapsed": true
   },
   "outputs": [],
   "source": [
    "def oneHotEncoding(train, numeric_cols):\n",
    "    # receives the clean tain and test data\n",
    "    # in: train and test numpy matrix\n",
    "    x_num_train = train[numeric_cols].as_matrix()\n",
    "    #x_num_test = test[numeric_cols].as_matrix()\n",
    "    cat_train = train.drop(numeric_cols, axis=1)\n",
    "    #cat_test = test.drop(numeric_cols, axis=1)\n",
    "    x_cat_train = cat_train.T.to_dict().values()\n",
    "    #x_cat_test = cat_test.T.to_dict().values()\n",
    "    # 5.1 vectorize\n",
    "    vectorizer = DV(sparse=False)\n",
    "    vec_x_cat_train = vectorizer.fit_transform(x_cat_train)\n",
    "    #vec_x_cat_test = vectorizer.transform(x_cat_test)\n",
    "    # complete x\n",
    "    x_train = np.hstack((x_num_train, vec_x_cat_train))\n",
    "    #x_test = np.hstack((x_num_test, vec_x_cat_test))\n",
    "    return x_train\n",
    "\n",
    "def randomization_train_2_twoSet(x_train,y_train,PRC):\n",
    "    #Alternative:\n",
    "    #from sklearn.cross_validation import train_test_split\n",
    "    #X_train, X_test, y_train, y_test = train_test_split(X, y, test_size=PRC)\n",
    "    perm = np.random.permutation(x_train.shape[0])\n",
    "    split_point = int(np.ceil(y_train.shape[0]*PRC))\n",
    "\n",
    "    X_train = x_train[perm[:split_point].ravel(),:]\n",
    "    Y_train = y_train[perm[:split_point].ravel()]\n",
    "\n",
    "    X_test = x_train[perm[split_point:].ravel(),:]\n",
    "    Y_test = y_train[perm[split_point:].ravel()]\n",
    "\n",
    "    return (X_train, Y_train, X_test, Y_test)\n"
   ]
  },
  {
   "cell_type": "code",
   "execution_count": 103,
   "metadata": {
    "collapsed": true
   },
   "outputs": [],
   "source": [
    "#1.Read DAta\n",
    "path_data = '/Users/mirta/BIGDATA/PROJECT/ADHD_Project-master/SupervisedLearning/data_for_learning/'\n",
    "train = pd.read_csv(path_data+'SupervisedLearningDataSet_Lunes11.csv')\n",
    "\n",
    "train = train[train.experiment == 'B']"
   ]
  },
  {
   "cell_type": "code",
   "execution_count": 104,
   "metadata": {
    "collapsed": false
   },
   "outputs": [
    {
     "data": {
      "text/html": [
       "<div>\n",
       "<table border=\"1\" class=\"dataframe\">\n",
       "  <thead>\n",
       "    <tr style=\"text-align: right;\">\n",
       "      <th></th>\n",
       "      <th>Unnamed: 0</th>\n",
       "      <th>BPR_C3</th>\n",
       "      <th>BPR_C4</th>\n",
       "      <th>BPR_Cz</th>\n",
       "      <th>BPR_F3</th>\n",
       "      <th>BPR_F4</th>\n",
       "      <th>BPR_Fp1</th>\n",
       "      <th>BPR_Fp2</th>\n",
       "      <th>BPR_Fz</th>\n",
       "      <th>C3_(Alpha)</th>\n",
       "      <th>...</th>\n",
       "      <th>Fz_(Beta_Global)</th>\n",
       "      <th>Fz_(Gamma)</th>\n",
       "      <th>Fz_(Theta)</th>\n",
       "      <th>Fz_(Theta2+Alpha1)</th>\n",
       "      <th>experiment</th>\n",
       "      <th>norm64comp_PCA_x</th>\n",
       "      <th>norm64comp_PCA_y</th>\n",
       "      <th>norm64comp_PCA_z</th>\n",
       "      <th>patientName</th>\n",
       "      <th>Best_Cluster</th>\n",
       "    </tr>\n",
       "  </thead>\n",
       "  <tbody>\n",
       "    <tr>\n",
       "      <th>0</th>\n",
       "      <td>0</td>\n",
       "      <td>16.554281</td>\n",
       "      <td>6.789196</td>\n",
       "      <td>20.152363</td>\n",
       "      <td>9.927679</td>\n",
       "      <td>13.822268</td>\n",
       "      <td>9.465081</td>\n",
       "      <td>10.287247</td>\n",
       "      <td>0.000000</td>\n",
       "      <td>1.781468</td>\n",
       "      <td>...</td>\n",
       "      <td>0.000000</td>\n",
       "      <td>0.000000</td>\n",
       "      <td>0.000000</td>\n",
       "      <td>0.000000</td>\n",
       "      <td>B</td>\n",
       "      <td>-0.530249</td>\n",
       "      <td>-3.289800</td>\n",
       "      <td>1.370542</td>\n",
       "      <td>S100_B</td>\n",
       "      <td>1</td>\n",
       "    </tr>\n",
       "    <tr>\n",
       "      <th>2</th>\n",
       "      <td>2</td>\n",
       "      <td>19.213702</td>\n",
       "      <td>24.777468</td>\n",
       "      <td>25.793031</td>\n",
       "      <td>14.806750</td>\n",
       "      <td>15.325136</td>\n",
       "      <td>10.182399</td>\n",
       "      <td>12.103343</td>\n",
       "      <td>15.733937</td>\n",
       "      <td>1.289775</td>\n",
       "      <td>...</td>\n",
       "      <td>0.457749</td>\n",
       "      <td>0.159458</td>\n",
       "      <td>4.923992</td>\n",
       "      <td>2.601960</td>\n",
       "      <td>B</td>\n",
       "      <td>1.905199</td>\n",
       "      <td>-6.992737</td>\n",
       "      <td>0.310811</td>\n",
       "      <td>S101_B</td>\n",
       "      <td>1</td>\n",
       "    </tr>\n",
       "    <tr>\n",
       "      <th>5</th>\n",
       "      <td>5</td>\n",
       "      <td>13.408050</td>\n",
       "      <td>21.453597</td>\n",
       "      <td>23.529602</td>\n",
       "      <td>11.064114</td>\n",
       "      <td>14.225991</td>\n",
       "      <td>11.041689</td>\n",
       "      <td>10.486719</td>\n",
       "      <td>16.418801</td>\n",
       "      <td>2.351850</td>\n",
       "      <td>...</td>\n",
       "      <td>0.373856</td>\n",
       "      <td>0.211185</td>\n",
       "      <td>3.869544</td>\n",
       "      <td>3.144678</td>\n",
       "      <td>B</td>\n",
       "      <td>1.225918</td>\n",
       "      <td>-0.075368</td>\n",
       "      <td>1.469183</td>\n",
       "      <td>S102_B</td>\n",
       "      <td>1</td>\n",
       "    </tr>\n",
       "    <tr>\n",
       "      <th>7</th>\n",
       "      <td>7</td>\n",
       "      <td>22.739612</td>\n",
       "      <td>15.554675</td>\n",
       "      <td>23.285264</td>\n",
       "      <td>23.821072</td>\n",
       "      <td>12.947290</td>\n",
       "      <td>13.554576</td>\n",
       "      <td>13.480529</td>\n",
       "      <td>13.433892</td>\n",
       "      <td>1.937868</td>\n",
       "      <td>...</td>\n",
       "      <td>0.515978</td>\n",
       "      <td>0.235098</td>\n",
       "      <td>3.978490</td>\n",
       "      <td>3.034652</td>\n",
       "      <td>B</td>\n",
       "      <td>1.211349</td>\n",
       "      <td>-3.472660</td>\n",
       "      <td>-0.778755</td>\n",
       "      <td>S103_B</td>\n",
       "      <td>1</td>\n",
       "    </tr>\n",
       "    <tr>\n",
       "      <th>10</th>\n",
       "      <td>10</td>\n",
       "      <td>20.104660</td>\n",
       "      <td>16.025724</td>\n",
       "      <td>25.382202</td>\n",
       "      <td>18.209489</td>\n",
       "      <td>16.298085</td>\n",
       "      <td>15.717418</td>\n",
       "      <td>13.721229</td>\n",
       "      <td>20.871859</td>\n",
       "      <td>1.616361</td>\n",
       "      <td>...</td>\n",
       "      <td>0.462846</td>\n",
       "      <td>0.193141</td>\n",
       "      <td>4.436727</td>\n",
       "      <td>3.184091</td>\n",
       "      <td>B</td>\n",
       "      <td>0.718661</td>\n",
       "      <td>-4.954779</td>\n",
       "      <td>-1.124442</td>\n",
       "      <td>S104_B</td>\n",
       "      <td>1</td>\n",
       "    </tr>\n",
       "  </tbody>\n",
       "</table>\n",
       "<p>5 rows × 71 columns</p>\n",
       "</div>"
      ],
      "text/plain": [
       "    Unnamed: 0     BPR_C3     BPR_C4     BPR_Cz     BPR_F3     BPR_F4  \\\n",
       "0            0  16.554281   6.789196  20.152363   9.927679  13.822268   \n",
       "2            2  19.213702  24.777468  25.793031  14.806750  15.325136   \n",
       "5            5  13.408050  21.453597  23.529602  11.064114  14.225991   \n",
       "7            7  22.739612  15.554675  23.285264  23.821072  12.947290   \n",
       "10          10  20.104660  16.025724  25.382202  18.209489  16.298085   \n",
       "\n",
       "      BPR_Fp1    BPR_Fp2     BPR_Fz  C3_(Alpha)      ...       \\\n",
       "0    9.465081  10.287247   0.000000    1.781468      ...        \n",
       "2   10.182399  12.103343  15.733937    1.289775      ...        \n",
       "5   11.041689  10.486719  16.418801    2.351850      ...        \n",
       "7   13.554576  13.480529  13.433892    1.937868      ...        \n",
       "10  15.717418  13.721229  20.871859    1.616361      ...        \n",
       "\n",
       "    Fz_(Beta_Global)  Fz_(Gamma)  Fz_(Theta)  Fz_(Theta2+Alpha1)  experiment  \\\n",
       "0           0.000000    0.000000    0.000000            0.000000           B   \n",
       "2           0.457749    0.159458    4.923992            2.601960           B   \n",
       "5           0.373856    0.211185    3.869544            3.144678           B   \n",
       "7           0.515978    0.235098    3.978490            3.034652           B   \n",
       "10          0.462846    0.193141    4.436727            3.184091           B   \n",
       "\n",
       "    norm64comp_PCA_x  norm64comp_PCA_y  norm64comp_PCA_z  patientName  \\\n",
       "0          -0.530249         -3.289800          1.370542       S100_B   \n",
       "2           1.905199         -6.992737          0.310811       S101_B   \n",
       "5           1.225918         -0.075368          1.469183       S102_B   \n",
       "7           1.211349         -3.472660         -0.778755       S103_B   \n",
       "10          0.718661         -4.954779         -1.124442       S104_B   \n",
       "\n",
       "    Best_Cluster  \n",
       "0              1  \n",
       "2              1  \n",
       "5              1  \n",
       "7              1  \n",
       "10             1  \n",
       "\n",
       "[5 rows x 71 columns]"
      ]
     },
     "execution_count": 104,
     "metadata": {},
     "output_type": "execute_result"
    }
   ],
   "source": [
    "train.head()"
   ]
  },
  {
   "cell_type": "code",
   "execution_count": 105,
   "metadata": {
    "collapsed": true
   },
   "outputs": [],
   "source": [
    "y= train['Best_Cluster'].values"
   ]
  },
  {
   "cell_type": "code",
   "execution_count": 106,
   "metadata": {
    "collapsed": false
   },
   "outputs": [
    {
     "name": "stdout",
     "output_type": "stream",
     "text": [
      "[1 1 1 1 1 0 1 1 0 1 1 1 1 0 0 1 1 0 1 0 1 1 1 0 1 1 0 1 1 1 1 1 1 1 1 1 0\n",
      " 1 1 0 1 1 1 0 1 0 0 1 1 1 1 1 1 1 1 1 0 0 1 1 1 1 0 1 1 1 0 0 1 1 0 1 1 1\n",
      " 0 0 0 1 1 0 1 1 1 1 1 1 0 1 1 1 1 1 1 1 1 0 1 0 1 0 1 1 1 1 1 0 0 0 1 1 1\n",
      " 1 1 0 1 1 0 1 1 1 0 0 0 0 1 1 1 1 0 1 0 0]\n"
     ]
    }
   ],
   "source": [
    "print y"
   ]
  },
  {
   "cell_type": "code",
   "execution_count": 107,
   "metadata": {
    "collapsed": true
   },
   "outputs": [],
   "source": [
    "###################################################drop Cols\n",
    "numeric_cols=['Fp1_(Theta2+Alpha1)', 'Fp1_(Theta)', 'Fp1_(Alpha)',\n",
    "       'Fp1_(Beta_Global)', 'Fp1_(Beta_Alta)', 'Fp1_(Beta_Baja)',\n",
    "       'Fp1_(Gamma)', 'F3_(Theta2+Alpha1)', 'F3_(Theta)', 'F3_(Alpha)',\n",
    "       'F3_(Beta_Global)', 'F3_(Beta_Alta)', 'F3_(Beta_Baja)', 'F3_(Gamma)',\n",
    "       'C3_(Theta2+Alpha1)', 'C3_(Theta)', 'C3_(Alpha)', 'C3_(Beta_Global)',\n",
    "       'C3_(Beta_Alta)', 'C3_(Beta_Baja)', 'C3_(Gamma)', 'Fz_(Theta2+Alpha1)',\n",
    "       'Fz_(Theta)', 'Fz_(Alpha)', 'Fz_(Beta_Global)', 'Fz_(Beta_Alta)',\n",
    "       'Fz_(Beta_Baja)', 'Fz_(Gamma)', 'Cz_(Theta2+Alpha1)', 'Cz_(Theta)',\n",
    "       'Cz_(Alpha)', 'Cz_(Beta_Global)', 'Cz_(Beta_Alta)', 'Cz_(Beta_Baja)',\n",
    "       'Cz_(Gamma)', 'Fp2_(Theta2+Alpha1)', 'Fp2_(Theta)', 'Fp2_(Alpha)',\n",
    "       'Fp2_(Beta_Global)', 'Fp2_(Beta_Alta)', 'Fp2_(Beta_Baja)',\n",
    "       'Fp2_(Gamma)', 'F4_(Theta2+Alpha1)', 'F4_(Theta)', 'F4_(Alpha)',\n",
    "       'F4_(Beta_Global)', 'F4_(Beta_Alta)', 'F4_(Beta_Baja)', 'F4_(Gamma)',\n",
    "       'C4_(Theta2+Alpha1)', 'C4_(Theta)', 'C4_(Alpha)', 'C4_(Beta_Global)',\n",
    "       'C4_(Beta_Alta)', 'C4_(Beta_Baja)', 'C4_(Gamma)', 'BPR_Fp1', 'BPR_F3',\n",
    "       'BPR_C3', 'BPR_Fz', 'BPR_Cz', 'BPR_Fp2', 'BPR_F4', 'BPR_C4']"
   ]
  },
  {
   "cell_type": "code",
   "execution_count": 108,
   "metadata": {
    "collapsed": false
   },
   "outputs": [],
   "source": [
    "X = oneHotEncoding(train, numeric_cols) "
   ]
  },
  {
   "cell_type": "code",
   "execution_count": 104,
   "metadata": {
    "collapsed": false
   },
   "outputs": [],
   "source": [
    "## Separate train and test\n",
    "#PRC=0.3\n",
    "#X_train, y_train, X_test, y_test = randomization_train_2_twoSet(X,y,PRC=PRC)"
   ]
  },
  {
   "cell_type": "code",
   "execution_count": 110,
   "metadata": {
    "collapsed": false
   },
   "outputs": [
    {
     "name": "stdout",
     "output_type": "stream",
     "text": [
      "18584\n",
      "92\n",
      "8080\n",
      "40\n",
      "26664\n",
      "132\n"
     ]
    }
   ],
   "source": [
    "from sklearn.cross_validation import train_test_split\n",
    "X_train, X_test, y_train, y_test = train_test_split(X, y, test_size=0.3)\n",
    "\n",
    "print X_train.size\n",
    "print y_train.size\n",
    "print X_test.size\n",
    "print y_test.size\n",
    "print X.size\n",
    "print y.size\n"
   ]
  },
  {
   "cell_type": "markdown",
   "metadata": {},
   "source": [
    "# SVM"
   ]
  },
  {
   "cell_type": "code",
   "execution_count": 111,
   "metadata": {
    "collapsed": false
   },
   "outputs": [
    {
     "name": "stdout",
     "output_type": "stream",
     "text": [
      "Training SVM...\n"
     ]
    }
   ],
   "source": [
    "print (\"Training SVM...\")\n",
    "C = 20\n",
    "gamma = 1.31e-5\n",
    "shrinking = True\n",
    "probability = True\n",
    "verbose = True\n",
    "#scaler = StandardScaler()\n",
    "#x_train = scaler.fit_transform(x_train)\n",
    "\n",
    "svc = SVC( C = C, gamma = gamma, shrinking = shrinking, probability = probability, verbose = verbose,class_weight='balanced')"
   ]
  },
  {
   "cell_type": "code",
   "execution_count": 113,
   "metadata": {
    "collapsed": false
   },
   "outputs": [
    {
     "name": "stdout",
     "output_type": "stream",
     "text": [
      "[LibSVM]"
     ]
    },
    {
     "data": {
      "text/plain": [
       "SVC(C=20, cache_size=200, class_weight='balanced', coef0=0.0,\n",
       "  decision_function_shape=None, degree=3, gamma=1.31e-05, kernel='rbf',\n",
       "  max_iter=-1, probability=True, random_state=None, shrinking=True,\n",
       "  tol=0.001, verbose=True)"
      ]
     },
     "execution_count": 113,
     "metadata": {},
     "output_type": "execute_result"
    }
   ],
   "source": [
    "svc.fit(X_train, y_train)"
   ]
  },
  {
   "cell_type": "code",
   "execution_count": 114,
   "metadata": {
    "collapsed": false
   },
   "outputs": [
    {
     "name": "stdout",
     "output_type": "stream",
     "text": [
      "SVM results \n",
      "[1 1 0 0 0 1 1 0 1 1 1 0 1 0 1 0 1 0 0 1 1 0 1 0 0 1 1 1 1 1 1 1 1 1 1 1 0\n",
      " 1 1 0]\n",
      "True values\n",
      "[1 1 1 0 0 1 1 0 1 1 1 0 1 1 0 0 1 0 1 1 1 0 1 0 0 1 1 1 1 1 1 1 1 1 1 1 0\n",
      " 1 1 1]\n",
      "Performance Evaluation\n"
     ]
    }
   ],
   "source": [
    "#x_test = scaler.transform(x_test)\n",
    "my_prediction = svc.predict(X_test)\n",
    "\n",
    "print ('SVM results ')\n",
    "print my_prediction\n",
    "print ('True values')\n",
    "print y_test\n",
    "print ('Performance Evaluation')"
   ]
  },
  {
   "cell_type": "code",
   "execution_count": 115,
   "metadata": {
    "collapsed": false
   },
   "outputs": [
    {
     "name": "stdout",
     "output_type": "stream",
     "text": [
      "SVM mean accuracy: 0.976923076923\n",
      "SVM mean F1-Score: 0.981162181472\n",
      "SVM mean precision: 0.978888888889\n",
      "SVM mean recall: 0.985714285714\n"
     ]
    }
   ],
   "source": [
    "# Using k-fold cross validations\n",
    "\n",
    "n_folds = 10\n",
    "kf=cross_validation.KFold(n=y.shape[0], n_folds=n_folds, shuffle=False, random_state=0)\n",
    "acc = np.zeros((n_folds,))\n",
    "f1 = np.zeros((n_folds,))\n",
    "precision = np.zeros((n_folds,))\n",
    "recall = np.zeros((n_folds,))\n",
    "i = 0\n",
    "X = X\n",
    "y = y\n",
    "yhat = y.copy()\n",
    "for train_index, test_index in kf:\n",
    "    X_train, X_test = X[train_index], X[test_index]\n",
    "    y_train, y_test = y[train_index], y[test_index]\n",
    "    scaler = StandardScaler()\n",
    "    X_train = scaler.fit_transform(X_train)\n",
    "    #dt = RandomForestClassifier(max_depth = max_depth, min_samples_split=min_samples_split, n_estimators=n_estimators, random_state = random_state,class_weight=class_weight)\n",
    "#    svc = SVC( C = C, gamma = gamma, shrinking = shrinking, probability = probability, verbose = verbose,class_weight='balanced')\n",
    "    svc = svm.SVC(C=C,kernel='rbf',class_weight='balanced')        \n",
    "    svc.fit(X_train,y_train)\n",
    "    X_test = scaler.transform(X_test)\n",
    "    yhat[test_index] = svc.predict(X_test)\n",
    "    acc[i] = metrics.accuracy_score(yhat[test_index], y_test)\n",
    "    f1[i]  = metrics.f1_score(yhat[test_index], y_test)\n",
    "    precision[i] = metrics.precision_score(yhat[test_index], y_test)\n",
    "    recall[i] = metrics.recall_score(yhat[test_index], y_test)\n",
    "    i=i+1\n",
    "\n",
    "print ('SVM mean accuracy: '+ str(np.mean(acc)))\n",
    "print ('SVM mean F1-Score: '+ str(np.mean(f1)))\n",
    "print ('SVM mean precision: '+ str(np.mean(precision)))\n",
    "print ('SVM mean recall: '+ str(np.mean(recall)))"
   ]
  },
  {
   "cell_type": "code",
   "execution_count": 116,
   "metadata": {
    "collapsed": false
   },
   "outputs": [
    {
     "name": "stderr",
     "output_type": "stream",
     "text": [
      "/Users/mirta/anaconda/lib/python2.7/site-packages/sklearn/metrics/classification.py:1076: UndefinedMetricWarning: F-score is ill-defined and being set to 0.0 due to no true samples.\n",
      "  'recall', 'true', average, warn_for)\n",
      "/Users/mirta/anaconda/lib/python2.7/site-packages/sklearn/metrics/classification.py:1076: UndefinedMetricWarning: Recall is ill-defined and being set to 0.0 due to no true samples.\n",
      "  'recall', 'true', average, warn_for)\n"
     ]
    },
    {
     "name": "stdout",
     "output_type": "stream",
     "text": [
      "SVM mean accuracy: 0.984848484848\n",
      "SVM mean F1-Score: 0.69696969697\n",
      "SVM mean precision: 0.69696969697\n",
      "SVM mean recall: 0.69696969697\n"
     ]
    }
   ],
   "source": [
    "n_loo=y.size\n",
    "loo=cross_validation.LeaveOneOut(n_loo)\n",
    "\n",
    "acc = np.zeros((n_loo,))\n",
    "f1 = np.zeros((n_loo,))\n",
    "precision = np.zeros((n_loo,))\n",
    "recall = np.zeros((n_loo,))\n",
    "i = 0\n",
    "X = X\n",
    "y = y\n",
    "yhat = y.copy()\n",
    "for train_index, test_index in loo:\n",
    "    X_train, X_test = X[train_index], X[test_index]\n",
    "    y_train, y_test = y[train_index], y[test_index]\n",
    "    scaler = StandardScaler()\n",
    "    X_train = scaler.fit_transform(X_train)\n",
    "    #dt = RandomForestClassifier(max_depth = max_depth, min_samples_split=min_samples_split, n_estimators=n_estimators, random_state = random_state,class_weight=class_weight)\n",
    "#    svc = SVC( C = C, gamma = gamma, shrinking = shrinking, probability = probability, verbose = verbose,class_weight='balanced')\n",
    "    svc = svm.SVC(C=C,kernel='rbf',class_weight='balanced')        \n",
    "    svc.fit(X_train,y_train)\n",
    "    X_test = scaler.transform(X_test)\n",
    "    yhat[test_index] = svc.predict(X_test)\n",
    "    acc[i] = metrics.accuracy_score(yhat[test_index], y_test)\n",
    "    f1[i]  = metrics.f1_score(yhat[test_index], y_test)\n",
    "    precision[i] = metrics.precision_score(yhat[test_index], y_test)\n",
    "    recall[i] = metrics.recall_score(yhat[test_index], y_test)\n",
    "    i=i+1\n",
    "\n",
    "print ('SVM mean accuracy: '+ str(np.mean(acc)))\n",
    "print ('SVM mean F1-Score: '+ str(np.mean(f1)))\n",
    "print ('SVM mean precision: '+ str(np.mean(precision)))\n",
    "print ('SVM mean recall: '+ str(np.mean(recall)))"
   ]
  },
  {
   "cell_type": "markdown",
   "metadata": {},
   "source": [
    "# plots"
   ]
  },
  {
   "cell_type": "code",
   "execution_count": 118,
   "metadata": {
    "collapsed": false
   },
   "outputs": [
    {
     "data": {
      "text/plain": [
       "<matplotlib.text.Text at 0x11b119a10>"
      ]
     },
     "execution_count": 118,
     "metadata": {},
     "output_type": "execute_result"
    },
    {
     "data": {
      "image/png": "[encoded data removed]",
      "text/plain": [
       "<matplotlib.figure.Figure at 0x118e6c050>"
      ]
     },
     "metadata": {},
     "output_type": "display_data"
    }
   ],
   "source": [
    "X = StandardScaler().fit_transform(X)\n",
    "X_train, X_test, y_train, y_test = train_test_split(X, y, test_size=.5)\n",
    "\n",
    "## plot grid\n",
    "h = .02  # step size in the mesh\n",
    "x_min, x_max = X[:, 0].min() - .5, X[:, 0].max() + .5\n",
    "y_min, y_max = X[:, 1].min() - .5, X[:, 1].max() + .5\n",
    "xx, yy = np.meshgrid(np.arange(x_min, x_max, h),np.arange(y_min, y_max, h))\n",
    "\n",
    "cm = plt.cm.RdBu\n",
    "cm_bright = ListedColormap(['#FF0000', '#008000'])\n",
    "cm_dark = ListedColormap(['#8A2BE2','#D2691E'])\n",
    "\n",
    "%matplotlib inline\n",
    "\n",
    "ax = plt.subplot(1, 2, 1)\n",
    "# Plot the training points\n",
    "ax.scatter(X_train[:, 0], X_train[:, 1], c=y_train, cmap=cm_bright)\n",
    "    # and testing points\n",
    "ax.scatter(X_test[:, 0], X_test[:, 1], c=y_test, cmap=cm_bright, alpha=0.2)\n",
    "ax.set_xlim(xx.min(), xx.max())\n",
    "ax.set_ylim(yy.min(), yy.max())\n",
    "ax.set_xticks(())\n",
    "ax.set_yticks(())\n",
    "\n",
    "\n",
    "ax = plt.subplot(1, 2, 2)\n",
    "\n",
    "svc = svm.SVC(C=1,kernel='rbf',class_weight='balanced')        \n",
    "svc.fit(X_train,y_train)\n",
    "\n",
    "score = svc.score(X_test, y_test)\n",
    "\n",
    "y_predict=svc.predict(X_test)\n",
    "\n",
    "        # Plot also the training points\n",
    "#ax.scatter(X_train[:, 0], X_train[:, 1], c=y_train, cmap=cm_bright)\n",
    "        # and testing points\n",
    "ax.scatter(X_test[:, 0], X_test[:, 1], c=y_predict, cmap=cm_dark,marker='x')\n",
    "ax.scatter(X_test[:, 0], X_test[:, 1], c=y_test, cmap=cm_bright,alpha=0.2)\n",
    "\n",
    "\n",
    "\n",
    "ax.set_xlim(xx.min(), xx.max())\n",
    "ax.set_ylim(yy.min(), yy.max())\n",
    "ax.set_xticks(())\n",
    "ax.set_yticks(())\n",
    "ax.set_title(score)\n",
    "\n",
    "#plt.figure()"
   ]
  },
  {
   "cell_type": "code",
   "execution_count": 120,
   "metadata": {
    "collapsed": false
   },
   "outputs": [
    {
     "name": "stdout",
     "output_type": "stream",
     "text": [
      "[ 0  0  0  0  0  0  0  0  0  0  0  0  0  0  0  0  0  0  0  0  0  0  0  0  0\n",
      "  0  0 -1  0  0 -1  0  0  0  0  0  0  0  0  0  0  0  0  0  0  0  0  0  0  0\n",
      "  0  0  0  0  0  0  0  0  0  0  0  0  0  0  0  0]\n"
     ]
    }
   ],
   "source": [
    "print y_test-y_predict"
   ]
  },
  {
   "cell_type": "markdown",
   "metadata": {},
   "source": [
    "# RANDOM FOREST"
   ]
  },
  {
   "cell_type": "code",
   "execution_count": 121,
   "metadata": {
    "collapsed": false
   },
   "outputs": [],
   "source": [
    "PRC=0.7\n",
    "X_train, y_train, X_test, y_test = randomization_train_2_twoSet(X,y,PRC=PRC)"
   ]
  },
  {
   "cell_type": "code",
   "execution_count": 122,
   "metadata": {
    "collapsed": false
   },
   "outputs": [
    {
     "name": "stdout",
     "output_type": "stream",
     "text": [
      "Training Random Forest ..\n"
     ]
    }
   ],
   "source": [
    "print ('Training Random Forest ..')\n",
    "n_estimators = 51\n",
    "max_depth = 12\n",
    "min_samples_split = 2\n",
    "random_state = 1\n",
    "max_features = 'auto'\n",
    "verbose = 1\n",
    "n_jobs = 1\n",
    "\n",
    "w_0 = y_train[np.where(y_train==0)].shape[0] / y_train.shape[0]\n",
    "w_1 = y_train[np.where(y_train==1)].shape[0] / y_train.shape[0]\n",
    "\n",
    "#class_weight = {0:w_1,1:w_0}\n",
    "class_weight = 'balanced'\n"
   ]
  },
  {
   "cell_type": "code",
   "execution_count": 123,
   "metadata": {
    "collapsed": false
   },
   "outputs": [
    {
     "name": "stdout",
     "output_type": "stream",
     "text": [
      "('Random forest training score ', 1.0)\n",
      "RandomForestClassifier(bootstrap=True, class_weight='balanced',\n",
      "            criterion='gini', max_depth=12, max_features='auto',\n",
      "            max_leaf_nodes=None, min_samples_leaf=1, min_samples_split=2,\n",
      "            min_weight_fraction_leaf=0.0, n_estimators=51, n_jobs=1,\n",
      "            oob_score=False, random_state=1, verbose=0, warm_start=False)\n"
     ]
    }
   ],
   "source": [
    "#normalization\n",
    "scaler = StandardScaler()\n",
    "X_train = scaler.fit_transform(X_train)\n",
    "forest = RandomForestClassifier(max_depth = max_depth, min_samples_split=min_samples_split, n_estimators=n_estimators, random_state = random_state,class_weight=class_weight)\n",
    "##forest = RandomForestClassifier(n_estimators=n_estimators,max_depth = max_depth,min_samples_split=min_samples_split,class_weight=class_weight)\n",
    "my_forest = forest.fit(X_train,y_train)\n",
    "print ('Random forest training score ',my_forest.score(X_train,y_train))\n",
    "print my_forest\n",
    "#"
   ]
  },
  {
   "cell_type": "code",
   "execution_count": 124,
   "metadata": {
    "collapsed": false
   },
   "outputs": [
    {
     "name": "stdout",
     "output_type": "stream",
     "text": [
      "Random Forest mean accuracy: 0.968888888889\n",
      "Random Forest mean F1-Score: 0.977334430276\n",
      "Random Forest mean precision: 0.983333333333\n",
      "Random Forest mean recall: 0.974603174603\n"
     ]
    }
   ],
   "source": [
    "## Using k-fold cross validation to measure performance\n",
    "n_folds = 10\n",
    "kf=cross_validation.KFold(n=y_train.shape[0], n_folds=n_folds, shuffle=False, random_state=0)\n",
    "\n",
    "acc = np.zeros((n_folds,))\n",
    "precision = np.zeros((n_folds,))\n",
    "recall = np.zeros((n_folds,))\n",
    "#thresholds = np.zeros((n_folds,))\n",
    "f1 = np.zeros((n_folds,))\n",
    "i = 0\n",
    "X = X\n",
    "y = y\n",
    "yhat = y.copy()\n",
    "for train_index, test_index in kf:\n",
    "    X_train, X_test = X[train_index], X[test_index]\n",
    "    y_train, y_test = y[train_index], y[test_index]\n",
    "    scaler = StandardScaler()\n",
    "    X_train = scaler.fit_transform(X_train)\n",
    "    dt = RandomForestClassifier(max_depth = max_depth, min_samples_split=min_samples_split, n_estimators=n_estimators, random_state = random_state,class_weight=class_weight)\n",
    "    \n",
    "    dt.fit(X_train,y_train)\n",
    "    X_test = scaler.transform(X_test)\n",
    "    yhat[test_index] = dt.predict(X_test)\n",
    "    acc[i] = metrics.accuracy_score(yhat[test_index], y_test)\n",
    "    precision[i] = metrics.precision_score(yhat[test_index], y_test)\n",
    "    recall[i] = metrics.recall_score(yhat[test_index], y_test)\n",
    "    f1[i]  = metrics.f1_score(yhat[test_index], y_test)\n",
    "    i=i+1\n",
    "\n",
    "print ('Random Forest mean accuracy: '+ str(np.mean(acc)))\n",
    "print ('Random Forest mean F1-Score: '+ str(np.mean(f1)))\n",
    "print ('Random Forest mean precision: '+ str(np.mean(precision)))\n",
    "print ('Random Forest mean recall: '+ str(np.mean(recall)))\n"
   ]
  },
  {
   "cell_type": "markdown",
   "metadata": {},
   "source": [
    "# plots"
   ]
  },
  {
   "cell_type": "code",
   "execution_count": 125,
   "metadata": {
    "collapsed": false
   },
   "outputs": [
    {
     "data": {
      "text/plain": [
       "<matplotlib.text.Text at 0x1192aac10>"
      ]
     },
     "execution_count": 125,
     "metadata": {},
     "output_type": "execute_result"
    },
    {
     "data": {
      "image/png": "[encoded data removed]",
      "text/plain": [
       "<matplotlib.figure.Figure at 0x118ca2950>"
      ]
     },
     "metadata": {},
     "output_type": "display_data"
    }
   ],
   "source": [
    "X = StandardScaler().fit_transform(X)\n",
    "X_train, X_test, y_train, y_test = train_test_split(X, y, test_size=.5)\n",
    "\n",
    "## plot grid\n",
    "h = .02  # step size in the mesh\n",
    "x_min, x_max = X[:, 0].min() - .5, X[:, 0].max() + .5\n",
    "y_min, y_max = X[:, 1].min() - .5, X[:, 1].max() + .5\n",
    "xx, yy = np.meshgrid(np.arange(x_min, x_max, h),np.arange(y_min, y_max, h))\n",
    "\n",
    "cm = plt.cm.RdBu\n",
    "cm_bright = ListedColormap(['#FF0000', '#008000'])\n",
    "cm_dark = ListedColormap(['#8A2BE2','#D2691E'])\n",
    "\n",
    "%matplotlib inline\n",
    "\n",
    "ax = plt.subplot(1, 2, 1)\n",
    "# Plot the training points\n",
    "ax.scatter(X_train[:, 0], X_train[:, 1], c=y_train, cmap=cm_bright)\n",
    "    # and testing points\n",
    "ax.scatter(X_test[:, 0], X_test[:, 1], c=y_test, cmap=cm_bright, alpha=0.2)\n",
    "ax.set_xlim(xx.min(), xx.max())\n",
    "ax.set_ylim(yy.min(), yy.max())\n",
    "ax.set_xticks(())\n",
    "ax.set_yticks(())\n",
    "\n",
    "\n",
    "ax = plt.subplot(1, 2, 2)\n",
    "\n",
    "dt = RandomForestClassifier(max_depth = max_depth, min_samples_split=min_samples_split, n_estimators=n_estimators, random_state = random_state,class_weight=class_weight)\n",
    "    \n",
    "dt.fit(X_train,y_train)\n",
    "\n",
    "score = svc.score(X_test, y_test)\n",
    "\n",
    "y_predict=dt.predict(X_test)\n",
    "\n",
    "        # Plot also the training points\n",
    "#ax.scatter(X_train[:, 0], X_train[:, 1], c=y_train, cmap=cm_bright)\n",
    "        # and testing points\n",
    "ax.scatter(X_test[:, 0], X_test[:, 1], c=y_predict, cmap=cm_dark,marker='x')\n",
    "ax.scatter(X_test[:, 0], X_test[:, 1], c=y_test, cmap=cm_bright,alpha=0.2)\n",
    "\n",
    "\n",
    "\n",
    "ax.set_xlim(xx.min(), xx.max())\n",
    "ax.set_ylim(yy.min(), yy.max())\n",
    "ax.set_xticks(())\n",
    "ax.set_yticks(())\n",
    "ax.set_title(score)\n",
    "\n",
    "#plt.figure()"
   ]
  },
  {
   "cell_type": "code",
   "execution_count": null,
   "metadata": {
    "collapsed": true
   },
   "outputs": [],
   "source": []
  },
  {
   "cell_type": "markdown",
   "metadata": {},
   "source": [
    "# LOGISTIC REGRESSION"
   ]
  },
  {
   "cell_type": "code",
   "execution_count": 137,
   "metadata": {
    "collapsed": false
   },
   "outputs": [
    {
     "name": "stdout",
     "output_type": "stream",
     "text": [
      "Logistic Regresion..\n"
     ]
    }
   ],
   "source": [
    "print ('Logistic Regresion..')"
   ]
  },
  {
   "cell_type": "code",
   "execution_count": 165,
   "metadata": {
    "collapsed": false
   },
   "outputs": [
    {
     "name": "stdout",
     "output_type": "stream",
     "text": [
      "Logistic regresion accuracy: 0.969230769231\n",
      "Logistic regression F1-Score: 0.976339869281\n",
      "Logistic regression precision: 0.9675\n",
      "Logistic regression recall: 0.988888888889\n"
     ]
    }
   ],
   "source": [
    "n_folds = 10\n",
    "kf=cross_validation.KFold(n=y.shape[0], n_folds=n_folds, shuffle=False, random_state=0)\n",
    "\n",
    "acc = np.zeros((n_folds,))\n",
    "f1 = np.zeros((n_folds,))\n",
    "precision = np.zeros((n_folds,))\n",
    "recall = np.zeros((n_folds,))\n",
    "i = 0\n",
    "X = X\n",
    "y = y\n",
    "yhat = y.copy()\n",
    "for train_index, test_index in kf:\n",
    "    X_train, X_test = X[train_index], X[test_index]\n",
    "    y_train, y_test = y[train_index], y[test_index]\n",
    "    scaler = StandardScaler()\n",
    "    X_train = scaler.fit_transform(X_train)\n",
    "    dt = LogisticRegression()\n",
    "    \n",
    "    dt.fit(X_train,y_train)\n",
    "    X_test = scaler.transform(X_test)\n",
    "    yhat[test_index] = dt.predict(X_test)\n",
    "    acc[i] = metrics.accuracy_score(yhat[test_index], y_test)\n",
    "    f1[i]  = metrics.f1_score(yhat[test_index], y_test)\n",
    "    precision[i] = metrics.precision_score(yhat[test_index], y_test)\n",
    "    recall[i] = metrics.recall_score(yhat[test_index], y_test)\n",
    "\n",
    "    i=i+1\n",
    "\n",
    "print ('Logistic regresion accuracy: '+ str(np.mean(acc)))\n",
    "print ('Logistic regression F1-Score: '+ str(np.mean(f1)))\n",
    "print ('Logistic regression precision: '+ str(np.mean(precision)))\n",
    "print ('Logistic regression recall: '+ str(np.mean(recall)))\n"
   ]
  },
  {
   "cell_type": "code",
   "execution_count": 80,
   "metadata": {
    "collapsed": false
   },
   "outputs": [
    {
     "name": "stderr",
     "output_type": "stream",
     "text": [
      "/Users/mirta/anaconda/lib/python2.7/site-packages/sklearn/metrics/classification.py:1074: UndefinedMetricWarning: F-score is ill-defined and being set to 0.0 due to no predicted samples.\n",
      "  'precision', 'predicted', average, warn_for)\n",
      "/Users/mirta/anaconda/lib/python2.7/site-packages/sklearn/metrics/classification.py:1074: UndefinedMetricWarning: Precision is ill-defined and being set to 0.0 due to no predicted samples.\n",
      "  'precision', 'predicted', average, warn_for)\n"
     ]
    },
    {
     "name": "stdout",
     "output_type": "stream",
     "text": [
      "SVM mean accuracy: 0.628787878788\n",
      "SVM mean F1-Score: 0.606060606061\n",
      "SVM mean precision: 0.606060606061\n",
      "SVM mean recall: 0.606060606061\n"
     ]
    }
   ],
   "source": [
    "n_loo=y.size\n",
    "loo=cross_validation.LeaveOneOut(n_loo)\n",
    "\n",
    "acc = np.zeros((n_loo,))\n",
    "f1 = np.zeros((n_loo,))\n",
    "precision = np.zeros((n_loo,))\n",
    "recall = np.zeros((n_loo,))\n",
    "i = 0\n",
    "X = X\n",
    "y = y\n",
    "yhat = y.copy()\n",
    "for train_index, test_index in loo:\n",
    "    X_train, X_test = X[train_index], X[test_index]\n",
    "    y_train, y_test = y[train_index], y[test_index]\n",
    "    scaler = StandardScaler()\n",
    "    X_train = scaler.fit_transform(X_train)\n",
    "    #dt = RandomForestClassifier(max_depth = max_depth, min_samples_split=min_samples_split, n_estimators=n_estimators, random_state = random_state,class_weight=class_weight)\n",
    "#    svc = SVC( C = C, gamma = gamma, shrinking = shrinking, probability = probability, verbose = verbose,class_weight='balanced')\n",
    "    dt = LogisticRegression()\n",
    "    \n",
    "    dt.fit(X_train,y_train)\n",
    "    X_test = scaler.transform(X_test)\n",
    "    yhat[test_index] = svc.predict(X_test)\n",
    "    acc[i] = metrics.accuracy_score(yhat[test_index], y_test)\n",
    "    f1[i]  = metrics.f1_score(yhat[test_index], y_test)\n",
    "    precision[i] = metrics.precision_score(yhat[test_index], y_test)\n",
    "    recall[i] = metrics.recall_score(yhat[test_index], y_test)\n",
    "    i=i+1\n",
    "\n",
    "print ('SVM mean accuracy: '+ str(np.mean(acc)))\n",
    "print ('SVM mean F1-Score: '+ str(np.mean(f1)))\n",
    "print ('SVM mean precision: '+ str(np.mean(precision)))\n",
    "print ('SVM mean recall: '+ str(np.mean(recall)))"
   ]
  },
  {
   "cell_type": "markdown",
   "metadata": {
    "collapsed": true
   },
   "source": [
    "# plots"
   ]
  },
  {
   "cell_type": "code",
   "execution_count": 84,
   "metadata": {
    "collapsed": false
   },
   "outputs": [
    {
     "data": {
      "text/plain": [
       "<matplotlib.text.Text at 0x11afa75d0>"
      ]
     },
     "execution_count": 84,
     "metadata": {},
     "output_type": "execute_result"
    },
    {
     "data": {
      "image/png": "[encoded data removed]",
      "text/plain": [
       "<matplotlib.figure.Figure at 0x118e72c90>"
      ]
     },
     "metadata": {},
     "output_type": "display_data"
    }
   ],
   "source": [
    "X = StandardScaler().fit_transform(X)\n",
    "X_train, X_test, y_train, y_test = train_test_split(X, y, test_size=.7)\n",
    "\n",
    "## plot grid\n",
    "h = .02  # step size in the mesh\n",
    "x_min, x_max = X[:, 0].min() - .5, X[:, 0].max() + .5\n",
    "y_min, y_max = X[:, 1].min() - .5, X[:, 1].max() + .5\n",
    "xx, yy = np.meshgrid(np.arange(x_min, x_max, h),np.arange(y_min, y_max, h))\n",
    "\n",
    "cm = plt.cm.RdBu\n",
    "cm_bright = ListedColormap(['#FF0000', '#008000'])\n",
    "cm_dark = ListedColormap(['#8A2BE2','#D2691E'])\n",
    "\n",
    "%matplotlib inline\n",
    "\n",
    "ax = plt.subplot(1, 2, 1)\n",
    "# Plot the training points\n",
    "ax.scatter(X_train[:, 0], X_train[:, 1], c=y_train, cmap=cm_bright)\n",
    "    # and testing points\n",
    "ax.scatter(X_test[:, 0], X_test[:, 1], c=y_test, cmap=cm_bright, alpha=0.2)\n",
    "ax.set_xlim(xx.min(), xx.max())\n",
    "ax.set_ylim(yy.min(), yy.max())\n",
    "ax.set_xticks(())\n",
    "ax.set_yticks(())\n",
    "\n",
    "\n",
    "ax = plt.subplot(1, 2, 2)\n",
    "\n",
    "dt = LogisticRegression()\n",
    "    \n",
    "dt.fit(X_train,y_train)\n",
    "\n",
    "score = svc.score(X_test, y_test)\n",
    "\n",
    "y_predict=dt.predict(X_test)\n",
    "\n",
    "        # Plot also the training points\n",
    "#ax.scatter(X_train[:, 0], X_train[:, 1], c=y_train, cmap=cm_bright)\n",
    "        # and testing points\n",
    "ax.scatter(X_test[:, 0], X_test[:, 1], c=y_predict, cmap=cm_dark,marker='x')\n",
    "ax.scatter(X_test[:, 0], X_test[:, 1], c=y_test, cmap=cm_bright,alpha=0.2,marker='o')\n",
    "\n",
    "\n",
    "\n",
    "ax.set_xlim(xx.min(), xx.max())\n",
    "ax.set_ylim(yy.min(), yy.max())\n",
    "ax.set_xticks(())\n",
    "ax.set_yticks(())\n",
    "ax.set_title(score)\n",
    "\n",
    "#plt.figure()"
   ]
  },
  {
   "cell_type": "code",
   "execution_count": 101,
   "metadata": {
    "collapsed": true
   },
   "outputs": [],
   "source": [
    "#1.Read DAta\n",
    "path_data = '/Users/mirta/BIGDATA/PROJECT/ADHD_Project-master/SupervisedLearning/data_for_learning/'\n",
    "train = pd.read_csv(path_data+'SupervisedLearningDataSet_Lunes11.csv')\n",
    "\n",
    "train = train[train.experiment == 'B']"
   ]
  },
  {
   "cell_type": "code",
   "execution_count": 102,
   "metadata": {
    "collapsed": false
   },
   "outputs": [
    {
     "data": {
      "text/plain": [
       "9372"
      ]
     },
     "execution_count": 102,
     "metadata": {},
     "output_type": "execute_result"
    }
   ],
   "source": [
    "train.size"
   ]
  },
  {
   "cell_type": "code",
   "execution_count": null,
   "metadata": {
    "collapsed": true
   },
   "outputs": [],
   "source": []
  }
 ],
 "metadata": {
  "kernelspec": {
   "display_name": "Python 2",
   "language": "python",
   "name": "python2"
  },
  "language_info": {
   "codemirror_mode": {
    "name": "ipython",
    "version": 2
   },
   "file_extension": ".py",
   "mimetype": "text/x-python",
   "name": "python",
   "nbconvert_exporter": "python",
   "pygments_lexer": "ipython2",
   "version": "2.7.11"
  }
 },
 "nbformat": 4,
 "nbformat_minor": 0
}
