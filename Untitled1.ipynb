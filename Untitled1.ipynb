{
 "cells": [
  {
   "cell_type": "code",
   "execution_count": 3,
   "metadata": {
    "collapsed": true
   },
   "outputs": [],
   "source": [
    "import pandas as pd\n",
    "import numpy as np\n",
    "#from sklearn.preprocessing import OneHotEncoder\n",
    "from sklearn.feature_extraction import DictVectorizer as DV\n",
    "from sklearn import svm,tree\n",
    "from sklearn.ensemble import RandomForestClassifier\n",
    "from sklearn.svm import SVC\n",
    "from sklearn import metrics\n",
    "import matplotlib.pyplot as plt\n",
    "from sklearn import cross_validation\n",
    "from sklearn.preprocessing import StandardScaler\n",
    "from sklearn.cross_validation import train_test_split\n",
    "#import supervisedLearning_commons\n",
    "from sklearn.linear_model import LogisticRegression\n",
    "\n",
    "\n",
    "from matplotlib.colors import ListedColormap"
   ]
  },
  {
   "cell_type": "code",
   "execution_count": 4,
   "metadata": {
    "collapsed": true
   },
   "outputs": [],
   "source": [
    "def oneHotEncoding(train, numeric_cols):\n",
    "    # receives the clean tain and test data\n",
    "    # in: train and test numpy matrix\n",
    "    x_num_train = train[numeric_cols].as_matrix()\n",
    "    #x_num_test = test[numeric_cols].as_matrix()\n",
    "    cat_train = train.drop(numeric_cols, axis=1)\n",
    "    #cat_test = test.drop(numeric_cols, axis=1)\n",
    "    x_cat_train = cat_train.T.to_dict().values()\n",
    "    #x_cat_test = cat_test.T.to_dict().values()\n",
    "    # 5.1 vectorize\n",
    "    vectorizer = DV(sparse=False)\n",
    "    vec_x_cat_train = vectorizer.fit_transform(x_cat_train)\n",
    "    #vec_x_cat_test = vectorizer.transform(x_cat_test)\n",
    "    # complete x\n",
    "    x_train = np.hstack((x_num_train, vec_x_cat_train))\n",
    "    #x_test = np.hstack((x_num_test, vec_x_cat_test))\n",
    "    return x_train\n",
    "\n",
    "def randomization_train_2_twoSet(x_train,y_train,PRC):\n",
    "    #Alternative:\n",
    "    #from sklearn.cross_validation import train_test_split\n",
    "    #X_train, X_test, y_train, y_test = train_test_split(X, y, test_size=PRC)\n",
    "    perm = np.random.permutation(x_train.shape[0])\n",
    "    split_point = int(np.ceil(y_train.shape[0]*PRC))\n",
    "\n",
    "    X_train = x_train[perm[:split_point].ravel(),:]\n",
    "    Y_train = y_train[perm[:split_point].ravel()]\n",
    "\n",
    "    X_test = x_train[perm[split_point:].ravel(),:]\n",
    "    Y_test = y_train[perm[split_point:].ravel()]\n",
    "\n",
    "    return (X_train, Y_train, X_test, Y_test)\n"
   ]
  },
  {
   "cell_type": "code",
   "execution_count": 6,
   "metadata": {
    "collapsed": false
   },
   "outputs": [],
   "source": [
    "#1.Read DAta\n",
    "path_data = '/Users/and_ma/Documents/DataScience/UB_DataScience/DataScience_Project/gitHub/last_sabadoGMM/'\n",
    "train = pd.read_csv(path_data+'Bpatients.csv')\n",
    "\n",
    "#train = train[train.experiment == 'B']"
   ]
  },
  {
   "cell_type": "code",
   "execution_count": null,
   "metadata": {
    "collapsed": true
   },
   "outputs": [],
   "source": []
  }
 ],
 "metadata": {
  "kernelspec": {
   "display_name": "Python PycharmEnv",
   "language": "python",
   "name": "pycharmenv"
  },
  "language_info": {
   "codemirror_mode": {
    "name": "ipython",
    "version": 3
   },
   "file_extension": ".py",
   "mimetype": "text/x-python",
   "name": "python",
   "nbconvert_exporter": "python",
   "pygments_lexer": "ipython3",
   "version": "3.5.1"
  }
 },
 "nbformat": 4,
 "nbformat_minor": 0
}
