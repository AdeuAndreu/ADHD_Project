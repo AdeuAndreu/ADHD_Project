{
 "cells": [
  {
   "cell_type": "code",
   "execution_count": 1,
   "metadata": {
    "collapsed": true
   },
   "outputs": [],
   "source": [
    "import numpy as np\n",
    "\n",
    "\n",
    "def bootstrap_resample(X, n=None):\n",
    "    \"\"\" Bootstrap resample an array_like\n",
    "    Parameters\n",
    "    ----------\n",
    "    X : array_like\n",
    "      data to resample\n",
    "    n : int, optional\n",
    "      length of resampled array, equal to len(X) if n==None\n",
    "    Results\n",
    "    -------\n",
    "    returns X_resamples\n",
    "    \"\"\"\n",
    "    if n == None:\n",
    "        n = len(X)\n",
    "        \n",
    "    resample_i = np.floor(np.random.rand(n)*len(X)).astype(int)\n",
    "    X_resample = X[resample_i]\n",
    "    return X_resample\n",
    "\n",
    "\n"
   ]
  },
  {
   "cell_type": "code",
   "execution_count": 3,
   "metadata": {
    "collapsed": false
   },
   "outputs": [
    {
     "data": {
      "text/plain": [
       "array([[ 0.26110186,  0.01767178,  0.76394771,  0.74285892,  0.8770208 ],\n",
       "       [ 0.54411844,  0.17134145,  0.08174348,  0.95355122,  0.96211119],\n",
       "       [ 0.91938275,  0.47874412,  0.33613566,  0.25781422,  0.68098168],\n",
       "       [ 0.14532303,  0.39926951,  0.50197853,  0.43848714,  0.21834085],\n",
       "       [ 0.14493347,  0.27757996,  0.33881511,  0.02818056,  0.72497378]])"
      ]
     },
     "execution_count": 3,
     "metadata": {},
     "output_type": "execute_result"
    }
   ],
   "source": [
    "np.random.rand(5,5)"
   ]
  },
  {
   "cell_type": "code",
   "execution_count": 6,
   "metadata": {
    "collapsed": false
   },
   "outputs": [
    {
     "data": {
      "text/plain": [
       "array([[ 0.87957142,  0.35680314,  0.2926878 ,  0.83885854,  0.19738017],\n",
       "       [ 0.62817612,  0.13469503,  0.20124402,  0.82126842,  0.52789763],\n",
       "       [ 0.92788173,  0.98826511,  0.01161939,  0.67761009,  0.45321337],\n",
       "       [ 0.87957142,  0.35680314,  0.2926878 ,  0.83885854,  0.19738017],\n",
       "       [ 0.92788173,  0.98826511,  0.01161939,  0.67761009,  0.45321337],\n",
       "       [ 0.92788173,  0.98826511,  0.01161939,  0.67761009,  0.45321337],\n",
       "       [ 0.62817612,  0.13469503,  0.20124402,  0.82126842,  0.52789763],\n",
       "       [ 0.92788173,  0.98826511,  0.01161939,  0.67761009,  0.45321337],\n",
       "       [ 0.66222876,  0.28938151,  0.90277119,  0.15614783,  0.47801136],\n",
       "       [ 0.26805068,  0.6494307 ,  0.77925764,  0.01289437,  0.47643463],\n",
       "       [ 0.66222876,  0.28938151,  0.90277119,  0.15614783,  0.47801136],\n",
       "       [ 0.26805068,  0.6494307 ,  0.77925764,  0.01289437,  0.47643463],\n",
       "       [ 0.92788173,  0.98826511,  0.01161939,  0.67761009,  0.45321337],\n",
       "       [ 0.87957142,  0.35680314,  0.2926878 ,  0.83885854,  0.19738017],\n",
       "       [ 0.92788173,  0.98826511,  0.01161939,  0.67761009,  0.45321337],\n",
       "       [ 0.26805068,  0.6494307 ,  0.77925764,  0.01289437,  0.47643463],\n",
       "       [ 0.66222876,  0.28938151,  0.90277119,  0.15614783,  0.47801136],\n",
       "       [ 0.87957142,  0.35680314,  0.2926878 ,  0.83885854,  0.19738017],\n",
       "       [ 0.26805068,  0.6494307 ,  0.77925764,  0.01289437,  0.47643463],\n",
       "       [ 0.62817612,  0.13469503,  0.20124402,  0.82126842,  0.52789763]])"
      ]
     },
     "execution_count": 6,
     "metadata": {},
     "output_type": "execute_result"
    }
   ],
   "source": [
    "bootstrap_resample(np.random.rand(5,5),20)"
   ]
  },
  {
   "cell_type": "code",
   "execution_count": null,
   "metadata": {
    "collapsed": true
   },
   "outputs": [],
   "source": [
    "np.random.rand(5,5)"
   ]
  }
 ],
 "metadata": {
  "kernelspec": {
   "display_name": "Python PycharmEnv",
   "language": "python",
   "name": "pycharmenv"
  },
  "language_info": {
   "codemirror_mode": {
    "name": "ipython",
    "version": 3
   },
   "file_extension": ".py",
   "mimetype": "text/x-python",
   "name": "python",
   "nbconvert_exporter": "python",
   "pygments_lexer": "ipython3",
   "version": "3.5.1"
  }
 },
 "nbformat": 4,
 "nbformat_minor": 0
}
