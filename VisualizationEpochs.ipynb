{
 "cells": [
  {
   "cell_type": "code",
   "execution_count": 2,
   "metadata": {
    "collapsed": false
   },
   "outputs": [
    {
     "name": "stdout",
     "output_type": "stream",
     "text": [
      "Once deleted, variables cannot be recovered. Proceed (y/[n])? y\n"
     ]
    }
   ],
   "source": [
    "#To reset notebook\n",
    "%resety\n"
   ]
  },
  {
   "cell_type": "code",
   "execution_count": 3,
   "metadata": {
    "collapsed": false
   },
   "outputs": [],
   "source": [
    "# 1. IMPORTS\n",
    "import numpy as np\n",
    "import scipy.io as sio\n",
    "import pandas as pd\n",
    "import os\n",
    "import re\n",
    "import matplotlib.pyplot as plt\n",
    "import seaborn as sns\n",
    "import matplotlib.colors as colors\n",
    "import matplotlib.cm as cmx\n",
    "from matplotlib.font_manager import FontProperties"
   ]
  },
  {
   "cell_type": "code",
   "execution_count": 4,
   "metadata": {
    "collapsed": false
   },
   "outputs": [],
   "source": [
    "pathExpA = 'C:/Users/Ainhoa/Documents/Postgrado/Project/Data/ExpA/'\n",
    "pathExpB = 'C:/Users/Ainhoa/Documents/Postgrado/Project/Data/ExpB/'\n",
    "pathExpC = 'C:/Users/Ainhoa/Documents/Postgrado/Project/Data/ExpC/'\n",
    "# SET PATHS\n",
    "\n",
    "mainPath = 'C:/Users/Ainhoa/Documents/Postgrado/Project/'\n",
    "\n",
    "#Path where raw data has been stored\n",
    "rawDataPath = mainPath + \"Data/Epochs/\"\n",
    "\n",
    "#Path where plots can be stored\n",
    "pathToSavePics = mainPath + \"Plots/\"\n",
    "\n",
    "pathCSV = 'C:/Users/Ainhoa/Documents/Postgrado/Project/CSV/resultsClustering_sabado9.csv'\n",
    "\n"
   ]
  },
  {
   "cell_type": "code",
   "execution_count": 5,
   "metadata": {
    "collapsed": false
   },
   "outputs": [],
   "source": [
    "#2. LOAD DATA: path where files have been stored need to be set before loading this script\n",
    "\n",
    "filenamesExpA = os.listdir(pathExpA)\n",
    "filenamesExpB = os.listdir(pathExpB)\n",
    "filenamesExpC = os.listdir(pathExpC)\n",
    "\n",
    "#Save the space: \n",
    "BandPowerEpochsExpA = np.empty (shape=(8,7,700,len(filenamesExpA)))\n",
    "BandPowerEpochsExpA[:] = np.NAN\n",
    "BandPowerEpochsExpB = np.empty (shape=(8,7,700,len(filenamesExpB)))\n",
    "BandPowerEpochsExpB[:] = np.NAN\n",
    "BandPowerEpochsExpC = np.empty (shape=(8,7,700,len(filenamesExpC)))\n",
    "BandPowerEpochsExpC[:] = np.NAN\n",
    "\n",
    "\n",
    "BandPowerRatioEpochsExpA = np.empty (shape=(8,1,700,len(filenamesExpA)))\n",
    "BandPowerRatioEpochsExpA[:] = np.NAN\n",
    "BandPowerRatioEpochsExpB = np.empty (shape=(8,1,700,len(filenamesExpB)))\n",
    "BandPowerRatioEpochsExpB[:] = np.NAN\n",
    "BandPowerRatioEpochsExpC = np.empty (shape=(8,1,700,len(filenamesExpC)))\n",
    "BandPowerRatioEpochsExpC[:] = np.NAN\n",
    "\n",
    "#Save a matrix with the 8 electrodes,7 bands,epochs, subjects\n",
    "k=0\n",
    "for i in filenamesExpA: \n",
    "    patientExpA= sio.loadmat(pathExpA + i)\n",
    "    BandPowerEpochsExpA[:,:,0:patientExpA['BandPowerAllEpochs'].shape[2],k] = patientExpA['BandPowerAllEpochs']\n",
    "    BandPowerRatioEpochsExpA[:,:,0:patientExpA['BandPowerRatioAllEpochs'].shape[2],k] = patientExpA['BandPowerRatioAllEpochs']\n",
    "    k=k+1\n",
    "    \n",
    "k=0\n",
    "for i in filenamesExpB: \n",
    "    patientExpB= sio.loadmat(pathExpB + i)\n",
    "    BandPowerEpochsExpB[:,:,0:patientExpB['BandPowerAllEpochs'].shape[2],k] = patientExpB['BandPowerAllEpochs']\n",
    "    BandPowerRatioEpochsExpB[:,:,0:patientExpB['BandPowerRatioAllEpochs'].shape[2],k] = patientExpB['BandPowerRatioAllEpochs']\n",
    "    k=k+1\n",
    "k=0\n",
    "for i in filenamesExpC: \n",
    "    patientExpC= sio.loadmat(pathExpC + i)\n",
    "    BandPowerEpochsExpC[:,:,0:patientExpC['BandPowerAllEpochs'].shape[2],k] = patientExpC['BandPowerAllEpochs']\n",
    "    BandPowerRatioEpochsExpC[:,:,0:patientExpC['BandPowerRatioAllEpochs'].shape[2],k] = patientExpC['BandPowerRatioAllEpochs']\n",
    "    k=k+1"
   ]
  },
  {
   "cell_type": "code",
   "execution_count": 6,
   "metadata": {
    "collapsed": false
   },
   "outputs": [
    {
     "name": "stdout",
     "output_type": "stream",
     "text": [
      "(8L, 7L, 700L, 135L)\n",
      "(8L, 1L, 700L, 135L)\n"
     ]
    }
   ],
   "source": [
    "print BandPowerEpochsExpC.shape\n",
    "print BandPowerRatioEpochsExpC.shape"
   ]
  },
  {
   "cell_type": "markdown",
   "metadata": {
    "collapsed": false
   },
   "source": [
    "# Running window to do the mean over subjects in each epoch:"
   ]
  },
  {
   "cell_type": "code",
   "execution_count": 7,
   "metadata": {
    "collapsed": false
   },
   "outputs": [
    {
     "name": "stderr",
     "output_type": "stream",
     "text": [
      "C:\\Anaconda2\\lib\\site-packages\\numpy\\lib\\nanfunctions.py:675: RuntimeWarning: Mean of empty slice\n",
      "  warnings.warn(\"Mean of empty slice\", RuntimeWarning)\n",
      "C:\\Anaconda2\\lib\\site-packages\\numpy\\lib\\nanfunctions.py:1136: RuntimeWarning: Degrees of freedom <= 0 for slice.\n",
      "  warnings.warn(\"Degrees of freedom <= 0 for slice.\", RuntimeWarning)\n"
     ]
    }
   ],
   "source": [
    "#Calculate the mean over subjects:\n",
    "MeanBandPowerEpochsExpA = np.nanmean(BandPowerEpochsExpA,axis=3)\n",
    "MeanBandPowerEpochsExpB = np.nanmean(BandPowerEpochsExpB,axis=3)\n",
    "MeanBandPowerEpochsExpC = np.nanmean(BandPowerEpochsExpC,axis=3)\n",
    "MeanBandPowerRatioEpochsExpA = np.nanmean(BandPowerRatioEpochsExpA,axis=3)\n",
    "MeanBandPowerRatioEpochsExpB = np.nanmean(BandPowerRatioEpochsExpB,axis=3)\n",
    "MeanBandPowerRatioEpochsExpC = np.nanmean(BandPowerRatioEpochsExpC,axis=3)\n",
    "\n",
    "#Calculate the mean over subjects:\n",
    "StdBandPowerEpochsExpA = np.nanstd(BandPowerEpochsExpA,axis=3)/np.sqrt((~np.isnan(BandPowerEpochsExpA)).sum(axis=3))\n",
    "StdBandPowerEpochsExpB = np.nanstd(BandPowerEpochsExpB,axis=3)/np.sqrt((~np.isnan(BandPowerEpochsExpB)).sum(axis=3))\n",
    "StdBandPowerEpochsExpC = np.nanstd(BandPowerEpochsExpC,axis=3)/np.sqrt((~np.isnan(BandPowerEpochsExpC)).sum(axis=3))\n",
    "StdBandPowerRatioEpochsExpA = np.nanstd(BandPowerRatioEpochsExpA,axis=3)/np.sqrt((~np.isnan(BandPowerRatioEpochsExpA)).sum(axis=3))\n",
    "StdBandPowerRatioEpochsExpB = np.nanstd(BandPowerRatioEpochsExpB,axis=3)/np.sqrt((~np.isnan(BandPowerRatioEpochsExpB)).sum(axis=3))\n",
    "StdBandPowerRatioEpochsExpC = np.nanstd(BandPowerRatioEpochsExpC,axis=3)/np.sqrt((~np.isnan(BandPowerRatioEpochsExpC)).sum(axis=3))\n"
   ]
  },
  {
   "cell_type": "code",
   "execution_count": 8,
   "metadata": {
    "collapsed": false
   },
   "outputs": [],
   "source": [
    "#Number of subjects:\n",
    "nSubBandPowerEpochsExpA = 5*(~np.isnan(BandPowerEpochsExpA)).sum(axis=3)/68\n",
    "nSubBandPowerEpochsExpB = 5*(~np.isnan(BandPowerEpochsExpB)).sum(axis=3)/68\n",
    "nSubBandPowerEpochsExpC = 5*(~np.isnan(BandPowerEpochsExpC)).sum(axis=3)/68\n",
    "nSubBandPowerRatioEpochsExpA = 5*(~np.isnan(BandPowerRatioEpochsExpA)).sum(axis=3)/68\n",
    "nSubBandPowerRatioEpochsExpB = 5*(~np.isnan(BandPowerRatioEpochsExpB)).sum(axis=3)/68\n",
    "nSubBandPowerRatioEpochsExpC = 5*(~np.isnan(BandPowerRatioEpochsExpC)).sum(axis=3)/68\n"
   ]
  },
  {
   "cell_type": "markdown",
   "metadata": {},
   "source": [
    "# Mean Power for each tetrode and all the band"
   ]
  },
  {
   "cell_type": "code",
   "execution_count": 10,
   "metadata": {
    "collapsed": false
   },
   "outputs": [],
   "source": [
    "bandPower = ['Theta2+Alpha1', 'Theta', 'Alpha', 'Beta_Global', 'Beta_Alta', 'Beta_Baja', 'Gamma']\n",
    "electrodes = ['Fp1', 'F3', 'C3', 'Fz', 'Cz', 'Fp2', 'F4', 'C4']\n",
    "cm = plt.cm.get_cmap('hot')\n",
    "cNorm = colors.Normalize(vmin=0, vmax=7)\n",
    "scalarMap = cmx.ScalarMappable(norm=cNorm, cmap=cm)\n",
    "\n",
    "# Experiment A:\n",
    "fig = plt.figure()\n",
    "ax = fig.add_axes([0,0,1,1])\n",
    "for iElec in range(0, 8): #over electrodes\n",
    "    ax= plt.subplot(2,4,iElec+1)\n",
    "    for iBand in range(0, 7): #over electrodes\n",
    "        color=scalarMap.to_rgba(iBand)\n",
    "        indexA= nSubBandPowerEpochsExpA[iElec,1,:]>0\n",
    "        plt.plot(np.arange(0,len(MeanBandPowerEpochsExpA[iElec,iBand,indexA])), MeanBandPowerEpochsExpA[iElec,iBand,indexA], 'k', color=color,label = bandPower[iBand])\n",
    "        plt.fill_between(np.arange(0,len(MeanBandPowerEpochsExpA[iElec,iBand,indexA])),\n",
    "            MeanBandPowerEpochsExpA[iElec,iBand,indexA]-StdBandPowerEpochsExpA[iElec,iBand,indexA],\n",
    "            MeanBandPowerEpochsExpA[iElec,iBand,indexA]+StdBandPowerEpochsExpA[iElec,iBand,indexA],\n",
    "            alpha=0.5, edgecolor=color, facecolor=color,linewidth=0)\n",
    "    ax.text(.5,.9,str(electrodes[iElec]),\n",
    "            horizontalalignment='center',\n",
    "            transform=ax.transAxes,fontsize=20, color='black',fontweight='bold')\n",
    "    if iElec == 4 or iElec== 5 or iElec== 6 or iElec== 7:\n",
    "        plt.xlabel('Epoch')\n",
    "    if iElec == 0 or iElec== 4:    \n",
    "        plt.ylabel('Band Power')    \n",
    "    if iElec == 7:\n",
    "        plt.legend(loc='center left', bbox_to_anchor=(1, 0.5))\n",
    "    plt.ylim([0, 5])\n",
    "fig.suptitle('Experiment A')\n",
    "figManager = plt.get_current_fig_manager()\n",
    "figManager.window.showMaximized()\n",
    "picPath = pathToSavePics + \"MeanPowerEphocsExpA.pdf\"\n",
    "plt.savefig( picPath )\n",
    "plt.show()\n",
    "\n",
    "\n",
    "# Experiment B:\n",
    "fig = plt.figure()\n",
    "ax = fig.add_axes([0,0,1,1])\n",
    "for iElec in range(0, 8): #over electrodes\n",
    "    ax=plt.subplot(2,4,iElec+1)\n",
    "    for iBand in range(0, 7): #over electrodes\n",
    "        indexB= nSubBandPowerEpochsExpB[iElec,1,:]>0\n",
    "        color=scalarMap.to_rgba(iBand)\n",
    "        plt.plot(np.arange(0,len(MeanBandPowerEpochsExpB[iElec,iBand,indexB])), MeanBandPowerEpochsExpB[iElec,iBand,indexB], 'k', color=color,label = bandPower[iBand])\n",
    "        plt.fill_between(np.arange(0,len(MeanBandPowerEpochsExpB[iElec,iBand,indexB])), MeanBandPowerEpochsExpB[iElec,iBand,indexB]-StdBandPowerEpochsExpB[iElec,iBand,indexB],\n",
    "            MeanBandPowerEpochsExpB[iElec,iBand,indexB]+StdBandPowerEpochsExpB[iElec,iBand,indexB],\n",
    "            alpha=0.5, edgecolor=color, facecolor=color,linewidth=0)\n",
    "    ax.text(.5,.9,str(electrodes[iElec]),\n",
    "            horizontalalignment='center',\n",
    "            transform=ax.transAxes,fontsize=20, color='black',fontweight='bold')\n",
    "    if iElec == 4 or iElec== 5 or iElec== 6 or iElec== 7:\n",
    "        plt.xlabel('Epoch')\n",
    "    if iElec == 0 or iElec== 4:    \n",
    "        plt.ylabel('Band Power')  \n",
    "    if iElec == 7:\n",
    "        plt.legend(loc='center left', bbox_to_anchor=(1, 0.5))\n",
    "    plt.ylim([0, 5])\n",
    "fig.suptitle('Experiment B')\n",
    "figManager = plt.get_current_fig_manager()\n",
    "figManager.window.showMaximized()\n",
    "picPath = pathToSavePics + \"MeanPowerEphocsExpB.pdf\"\n",
    "plt.savefig( picPath )\n",
    "plt.show()\n",
    "\n",
    "# Experiment C:\n",
    "fig = plt.figure()\n",
    "ax = fig.add_axes([0,0,1,1])\n",
    "for iElec in range(0, 8): #over electrodes\n",
    "    ax=plt.subplot(2,4,iElec+1)\n",
    "    for iBand in range(0, 7): #over bands\n",
    "        indexC= nSubBandPowerEpochsExpC[iElec,1,:]>0\n",
    "        color=scalarMap.to_rgba(iBand)\n",
    "        plt.plot(np.arange(0,len(MeanBandPowerEpochsExpC[iElec,iBand,indexC])), MeanBandPowerEpochsExpC[iElec,iBand,indexC], 'k', color=color,label = bandPower[iBand])\n",
    "        plt.fill_between(np.arange(0,len(MeanBandPowerEpochsExpC[iElec,iBand,indexC])), MeanBandPowerEpochsExpC[iElec,iBand,indexC]-StdBandPowerEpochsExpC[iElec,iBand,indexC],\n",
    "            MeanBandPowerEpochsExpC[iElec,iBand,indexC]+StdBandPowerEpochsExpC[iElec,iBand,indexC],\n",
    "            alpha=0.5, edgecolor=color, facecolor=color,linewidth=0)\n",
    "    ax.text(.5,.9,str(electrodes[iElec]),\n",
    "            horizontalalignment='center',\n",
    "            transform=ax.transAxes,fontsize=20, color='black',fontweight='bold')\n",
    "    if iElec == 4 or iElec== 5 or iElec== 6 or iElec== 7:\n",
    "        plt.xlabel('Epoch')\n",
    "    if iElec == 0 or iElec== 4:    \n",
    "        plt.ylabel('Band Power')  \n",
    "    if iElec == 7:\n",
    "        plt.legend(loc='center left', bbox_to_anchor=(1, 0.5))\n",
    "    plt.ylim([0, 5])\n",
    "fig.suptitle('Experiment C')\n",
    "figManager = plt.get_current_fig_manager()\n",
    "figManager.window.showMaximized()\n",
    "picPath = pathToSavePics + \"MeanPowerEphocsExpC.pdf\"\n",
    "plt.savefig( picPath )\n",
    "plt.show()"
   ]
  },
  {
   "cell_type": "code",
   "execution_count": null,
   "metadata": {
    "collapsed": true
   },
   "outputs": [],
   "source": [
    "# Mean Power for each band and all the electrodes"
   ]
  },
  {
   "cell_type": "code",
   "execution_count": 11,
   "metadata": {
    "collapsed": false
   },
   "outputs": [],
   "source": [
    "bandPower = ['Theta2+Alpha1', 'Theta', 'Alpha', 'Beta_Global', 'Beta_Alta', 'Beta_Baja', 'Gamma']\n",
    "electrodes = ['Fp1', 'F3', 'C3', 'Fz', 'Cz', 'Fp2', 'F4', 'C4']\n",
    "cm = plt.cm.get_cmap('hot')\n",
    "cNorm = colors.Normalize(vmin=0, vmax=8)\n",
    "scalarMap = cmx.ScalarMappable(norm=cNorm, cmap=cm)\n",
    "\n",
    "# Experiment A:\n",
    "fig = plt.figure()\n",
    "ax = fig.add_axes([0,0,1,1])\n",
    "for iBand in range(0, 7): #over bands\n",
    "    plt.subplot(2,4,iBand+1)\n",
    "    for iElec in range(0, 8): #over electrodes\n",
    "        color=scalarMap.to_rgba(iElec)\n",
    "        plt.plot(np.arange(0,700), MeanBandPowerEpochsExpA[iElec,iBand,:], 'k', color=color,label = electrodes[iElec])\n",
    "        plt.fill_between(np.arange(0,700), MeanBandPowerEpochsExpA[iElec,iBand,:]-StdBandPowerEpochsExpA[iElec,iBand,:],\n",
    "            MeanBandPowerEpochsExpA[iElec,iBand,:]+StdBandPowerEpochsExpA[iElec,iBand,:],\n",
    "            alpha=0.5, edgecolor=color, facecolor=color,linewidth=0)\n",
    "    plt.title(bandPower[iBand]);\n",
    "    plt.xlabel('Epoch')\n",
    "    plt.ylabel('Band Power')\n",
    "    if iBand == 6:\n",
    "        #plt.legend()\n",
    "        #plt.legend(bbox_to_anchor=(1.1, 1.05))\n",
    "        plt.legend(loc='center left', bbox_to_anchor=(1, 0.5))\n",
    "    #plt.ylim([0, 5])\n",
    "fig.suptitle('Experiment A')\n",
    "figManager = plt.get_current_fig_manager()\n",
    "figManager.window.showMaximized()\n",
    "plt.show()\n",
    "# Experiment B:\n",
    "fig = plt.figure()\n",
    "ax = fig.add_axes([0,0,1,1])\n",
    "for iBand in range(0, 7): #over bands\n",
    "    plt.subplot(2,4,iBand+1)\n",
    "    for iElec in range(0, 8): #over electrodes\n",
    "        color=scalarMap.to_rgba(iElec)\n",
    "        plt.plot(np.arange(0,700), MeanBandPowerEpochsExpB[iElec,iBand,:], 'k', color=color,label = electrodes[iElec])\n",
    "        plt.fill_between(np.arange(0,700), MeanBandPowerEpochsExpB[iElec,iBand,:]-StdBandPowerEpochsExpB[iElec,iBand,:],\n",
    "            MeanBandPowerEpochsExpB[iElec,iBand,:]+StdBandPowerEpochsExpB[iElec,iBand,:],\n",
    "            alpha=0.5, edgecolor=color, facecolor=color,linewidth=0)\n",
    "    plt.title(bandPower[iBand]);\n",
    "    plt.xlabel('Epoch')\n",
    "    plt.ylabel('Band Power')\n",
    "    if iBand == 6:\n",
    "        #plt.legend()\n",
    "        #plt.legend(bbox_to_anchor=(1.1, 1.05))\n",
    "        plt.legend(loc='center left', bbox_to_anchor=(1, 0.5))\n",
    "    #plt.ylim([0, 5])\n",
    "fig.suptitle('Experiment B')\n",
    "figManager = plt.get_current_fig_manager()\n",
    "figManager.window.showMaximized()\n",
    "plt.show()\n",
    "# Experiment C:\n",
    "fig = plt.figure()\n",
    "ax = fig.add_axes([0,0,1,1])\n",
    "for iBand in range(0, 7): #over bands\n",
    "    plt.subplot(2,4,iBand+1)\n",
    "    for iElec in range(0, 8): #over electrodes\n",
    "        color=scalarMap.to_rgba(iElec)\n",
    "        plt.plot(np.arange(0,700), MeanBandPowerEpochsExpC[iElec,iBand,:], 'k', color=color,label = electrodes[iElec])\n",
    "        plt.fill_between(np.arange(0,700), MeanBandPowerEpochsExpC[iElec,iBand,:]-StdBandPowerEpochsExpC[iElec,iBand,:],\n",
    "            MeanBandPowerEpochsExpC[iElec,iBand,:]+StdBandPowerEpochsExpC[iElec,iBand,:],\n",
    "            alpha=0.5, edgecolor=color, facecolor=color,linewidth=0)\n",
    "    plt.title(bandPower[iBand]);\n",
    "    plt.xlabel('Epoch')\n",
    "    plt.ylabel('Band Power')\n",
    "    if iBand == 6:\n",
    "        #plt.legend()\n",
    "        #plt.legend(bbox_to_anchor=(1.1, 1.05))\n",
    "        plt.legend(loc='center left', bbox_to_anchor=(1, 0.5))\n",
    "    #plt.ylim([0, 5])\n",
    "fig.suptitle('Experiment C')\n",
    "figManager = plt.get_current_fig_manager()\n",
    "figManager.window.showMaximized()\n",
    "plt.show()"
   ]
  },
  {
   "cell_type": "markdown",
   "metadata": {
    "collapsed": false
   },
   "source": [
    "# Mean Power ratio for each tetrode and all the band"
   ]
  },
  {
   "cell_type": "code",
   "execution_count": 34,
   "metadata": {
    "collapsed": false
   },
   "outputs": [],
   "source": [
    "bandPower = ['Theta2+Alpha1', 'Theta', 'Alpha', 'Beta_Global', 'Beta_Alta', 'Beta_Baja', 'Gamma']\n",
    "electrodes = ['Fp1', 'F3', 'C3', 'Fz', 'Cz', 'Fp2', 'F4', 'C4']\n",
    "cm = plt.cm.get_cmap('hot')\n",
    "cNorm = colors.Normalize(vmin=0, vmax=8)\n",
    "scalarMap = cmx.ScalarMappable(norm=cNorm, cmap=cm)\n",
    "\n",
    "# Experiment A:\n",
    "fig = plt.figure()\n",
    "iBand = 0\n",
    "for iElec in range(0, 8): #over electrodes\n",
    "    indexA= nSubBandPowerRatioEpochsExpA[iElec,0,:]>0\n",
    "    color=scalarMap.to_rgba(iElec)\n",
    "    plt.plot(np.arange(0,len(MeanBandPowerRatioEpochsExpA[iElec,iBand,indexA])), MeanBandPowerRatioEpochsExpA[iElec,iBand,indexA], 'k', color=color,label = electrodes[iElec])\n",
    "    plt.fill_between(np.arange(0,len(MeanBandPowerRatioEpochsExpA[iElec,iBand,indexA])), MeanBandPowerRatioEpochsExpA[iElec,iBand,indexA]-StdBandPowerRatioEpochsExpA[iElec,iBand,indexA],\n",
    "        MeanBandPowerRatioEpochsExpA[iElec,iBand,indexA]+StdBandPowerRatioEpochsExpA[iElec,iBand,indexA],\n",
    "        alpha=0.5, edgecolor=color, facecolor=color,linewidth=0)\n",
    "plt.xlabel('Epoch')\n",
    "plt.ylabel('Band Power Ratio')\n",
    "plt.legend(loc='center left', bbox_to_anchor=(1, 0.5))\n",
    "fig.suptitle('Experiment A')\n",
    "figManager = plt.get_current_fig_manager()\n",
    "figManager.window.showMaximized()\n",
    "picPath = pathToSavePics + \"MeanPowerRatioEphocsExpA.pdf\"\n",
    "plt.savefig( picPath )\n",
    "plt.show()\n",
    "\n",
    "# Experiment B:\n",
    "fig = plt.figure()\n",
    "iBand = 0\n",
    "for iElec in range(0, 8): #over electrodes\n",
    "    indexB= nSubBandPowerRatioEpochsExpB[iElec,0,:]>0\n",
    "    color=scalarMap.to_rgba(iElec)\n",
    "    plt.plot(np.arange(0,len(MeanBandPowerRatioEpochsExpB[iElec,iBand,indexB])), MeanBandPowerRatioEpochsExpB[iElec,iBand,indexB],\n",
    "             'k', color=color,label = electrodes[iElec])\n",
    "    plt.fill_between(np.arange(0,len(MeanBandPowerRatioEpochsExpB[iElec,iBand,indexB])), \n",
    "        MeanBandPowerRatioEpochsExpB[iElec,iBand,indexB]-StdBandPowerRatioEpochsExpB[iElec,iBand,indexB],\n",
    "        MeanBandPowerRatioEpochsExpB[iElec,iBand,indexB]+StdBandPowerRatioEpochsExpB[iElec,iBand,indexB],\n",
    "        alpha=0.5, edgecolor=color, facecolor=color,linewidth=0)\n",
    "plt.xlabel('Epoch')\n",
    "plt.ylabel('Band Power Ratio')\n",
    "plt.legend(loc='center left', bbox_to_anchor=(1, 0.5))\n",
    "fig.suptitle('Experiment B')\n",
    "figManager = plt.get_current_fig_manager()\n",
    "figManager.window.showMaximized()\n",
    "picPath = pathToSavePics + \"MeanPowerRatioEphocsExpB.pdf\"\n",
    "plt.savefig( picPath )\n",
    "plt.show()\n",
    "\n",
    "# Experiment C:\n",
    "fig = plt.figure()\n",
    "iBand = 0\n",
    "for iElec in range(0, 8): #over electrodes\n",
    "    indexB= nSubBandPowerRatioEpochsExpB[iElec,0,:]>0\n",
    "    color=scalarMap.to_rgba(iElec)\n",
    "    plt.plot(np.arange(0,len(MeanBandPowerRatioEpochsExpC[iElec,iBand,indexC])), MeanBandPowerRatioEpochsExpC[iElec,iBand,indexC], 'k',\n",
    "             color=color,label = electrodes[iElec])\n",
    "    plt.fill_between(np.arange(0,len(MeanBandPowerRatioEpochsExpC[iElec,iBand,indexC])), \n",
    "        MeanBandPowerRatioEpochsExpC[iElec,iBand,indexC]-StdBandPowerRatioEpochsExpC[iElec,iBand,indexC],\n",
    "        MeanBandPowerRatioEpochsExpC[iElec,iBand,indexC]+StdBandPowerRatioEpochsExpC[iElec,iBand,indexC],\n",
    "        alpha=0.5, edgecolor=color, facecolor=color,linewidth=0)\n",
    "plt.xlabel('Epoch')\n",
    "plt.ylabel('Band Power Ratio')\n",
    "plt.legend(loc='center left', bbox_to_anchor=(1, 0.5))\n",
    "fig.suptitle('Experiment C')\n",
    "figManager = plt.get_current_fig_manager()\n",
    "figManager.window.showMaximized()\n",
    "picPath = pathToSavePics + \"MeanPowerRatioEphocsExpC.pdf\"\n",
    "plt.savefig( picPath )\n",
    "plt.show()\n"
   ]
  }
 ],
 "metadata": {
  "kernelspec": {
   "display_name": "Python 2",
   "language": "python",
   "name": "python2"
  },
  "language_info": {
   "codemirror_mode": {
    "name": "ipython",
    "version": 2
   },
   "file_extension": ".py",
   "mimetype": "text/x-python",
   "name": "python",
   "nbconvert_exporter": "python",
   "pygments_lexer": "ipython2",
   "version": "2.7.11"
  }
 },
 "nbformat": 4,
 "nbformat_minor": 0
}
