{
 "cells": [
  {
   "cell_type": "code",
   "execution_count": 1,
   "metadata": {
    "collapsed": true
   },
   "outputs": [],
   "source": [
    "#import libraries\n",
    "import numpy as np\n",
    "import pandas as pd\n",
    "import scipy.io as sio\n",
    "import os\n",
    "import re\n",
    "from sklearn.decomposition import PCA\n",
    "import matplotlib.pyplot as plt\n",
    "from mpl_toolkits.mplot3d import proj3d\n",
    "from sklearn import cluster\n",
    "from sklearn import metrics"
   ]
  },
  {
   "cell_type": "code",
   "execution_count": 2,
   "metadata": {
    "collapsed": true
   },
   "outputs": [],
   "source": [
    "#set path to the data\n",
    "path = \"/Users/and_ma/Documents/DataScience/UB_DataScience/DataScience_Project/Features/\"\n",
    "    "
   ]
  },
  {
   "cell_type": "code",
   "execution_count": 3,
   "metadata": {
    "collapsed": true
   },
   "outputs": [],
   "source": [
    "patient = sio.loadmat(path + 'S100B.mat')"
   ]
  },
  {
   "cell_type": "code",
   "execution_count": 4,
   "metadata": {
    "collapsed": false
   },
   "outputs": [
    {
     "name": "stdout",
     "output_type": "stream",
     "text": [
      "{'features_info': array([[ ([[(array(['Theta2+Alpha1'], \n",
      "      dtype='<U13'),), (array(['Theta'], \n",
      "      dtype='<U5'),), (array(['Alpha'], \n",
      "      dtype='<U5'),), (array(['Beta_Global'], \n",
      "      dtype='<U11'),), (array(['Beta_Alta'], \n",
      "      dtype='<U9'),), (array(['Beta_Baja'], \n",
      "      dtype='<U9'),), (array(['Gamma'], \n",
      "      dtype='<U5'),)]], [[(array(['band_power_ratio'], \n",
      "      dtype='<U16'),)]], [[array(['Fp1'], \n",
      "      dtype='<U3'), array(['F3'], \n",
      "      dtype='<U2'), array(['C3'], \n",
      "      dtype='<U2'), array(['Fz'], \n",
      "      dtype='<U2'), array(['Cz'], \n",
      "      dtype='<U2'), array(['Fp2'], \n",
      "      dtype='<U3'), array(['F4'], \n",
      "      dtype='<U2'), array(['C4'], \n",
      "      dtype='<U2')]])]], \n",
      "      dtype=[('band', 'O'), ('bpr', 'O'), ('channel', 'O')]), '__globals__': [], '__header__': b'MATLAB 5.0 MAT-file, Platform: PCWIN64, Created on: Tue May 31 12:15:12 2016', 'BandPower': array([[ 1.64102703,  2.87758038,  1.43715756,  0.71185733,  0.57531208,\n",
      "         0.67311342,  0.52776044],\n",
      "       [ 1.5337883 ,  2.43552977,  1.49732894,  0.74651714,  0.6340819 ,\n",
      "         0.67655999,  0.58088936],\n",
      "       [ 1.49294571,  2.31819878,  1.69698641,  0.73843056,  0.61088579,\n",
      "         0.70320112,  0.5614171 ],\n",
      "       [ 1.47025971,  2.67004701,  1.36318978,  0.72189473,  0.63584965,\n",
      "         0.64648594,  0.57802995],\n",
      "       [ 1.73513457,  2.65603869,  1.72350163,  0.68605637,  0.53892894,\n",
      "         0.66958515,  0.49797802],\n",
      "       [ 1.43207918,  2.44245951,  1.39403454,  0.76973731,  0.67387306,\n",
      "         0.69837686,  0.61782989],\n",
      "       [ 1.45669694,  2.66177338,  1.38242118,  0.74963872,  0.62832394,\n",
      "         0.69140236,  0.57095326],\n",
      "       [ 1.43582451,  2.20368672,  1.73391191,  0.73794813,  0.6155746 ,\n",
      "         0.69528265,  0.56359535]]), 'BandPowerRatio': array([[ 3.11769692],\n",
      "       [ 2.4810973 ],\n",
      "       [ 2.60141463],\n",
      "       [ 2.48580778],\n",
      "       [ 3.34032487],\n",
      "       [ 2.22099144],\n",
      "       [ 2.41103668],\n",
      "       [ 2.43864487]]), '__version__': '1.0'}\n"
     ]
    }
   ],
   "source": [
    "#print patient information\n",
    "print (patient)"
   ]
  },
  {
   "cell_type": "code",
   "execution_count": 5,
   "metadata": {
    "collapsed": false
   },
   "outputs": [
    {
     "ename": "SyntaxError",
     "evalue": "Missing parentheses in call to 'print' (<ipython-input-5-07ce74133cae>, line 2)",
     "output_type": "error",
     "traceback": [
      "\u001b[0;36m  File \u001b[0;32m\"<ipython-input-5-07ce74133cae>\"\u001b[0;36m, line \u001b[0;32m2\u001b[0m\n\u001b[0;31m    print patient['features_info']\u001b[0m\n\u001b[0m                ^\u001b[0m\n\u001b[0;31mSyntaxError\u001b[0m\u001b[0;31m:\u001b[0m Missing parentheses in call to 'print'\n"
     ]
    }
   ],
   "source": [
    "#this is a dictionary of one element with key 'features_info'\n",
    "print patient['features_info']"
   ]
  },
  {
   "cell_type": "code",
   "execution_count": 6,
   "metadata": {
    "collapsed": false
   },
   "outputs": [
    {
     "name": "stdout",
     "output_type": "stream",
     "text": [
      "First element:\n",
      "[ ([[(array(['Theta2+Alpha1'], \n",
      "      dtype='<U13'),), (array(['Theta'], \n",
      "      dtype='<U5'),), (array(['Alpha'], \n",
      "      dtype='<U5'),), (array(['Beta_Global'], \n",
      "      dtype='<U11'),), (array(['Beta_Alta'], \n",
      "      dtype='<U9'),), (array(['Beta_Baja'], \n",
      "      dtype='<U9'),), (array(['Gamma'], \n",
      "      dtype='<U5'),)]], [[(array(['band_power_ratio'], \n",
      "      dtype='<U16'),)]], [[array(['Fp1'], \n",
      "      dtype='<U3'), array(['F3'], \n",
      "      dtype='<U2'), array(['C3'], \n",
      "      dtype='<U2'), array(['Fz'], \n",
      "      dtype='<U2'), array(['Cz'], \n",
      "      dtype='<U2'), array(['Fp2'], \n",
      "      dtype='<U3'), array(['F4'], \n",
      "      dtype='<U2'), array(['C4'], \n",
      "      dtype='<U2')]])]\n",
      "First element of the first element:\n",
      "([[(array(['Theta2+Alpha1'], \n",
      "      dtype='<U13'),), (array(['Theta'], \n",
      "      dtype='<U5'),), (array(['Alpha'], \n",
      "      dtype='<U5'),), (array(['Beta_Global'], \n",
      "      dtype='<U11'),), (array(['Beta_Alta'], \n",
      "      dtype='<U9'),), (array(['Beta_Baja'], \n",
      "      dtype='<U9'),), (array(['Gamma'], \n",
      "      dtype='<U5'),)]], [[(array(['band_power_ratio'], \n",
      "      dtype='<U16'),)]], [[array(['Fp1'], \n",
      "      dtype='<U3'), array(['F3'], \n",
      "      dtype='<U2'), array(['C3'], \n",
      "      dtype='<U2'), array(['Fz'], \n",
      "      dtype='<U2'), array(['Cz'], \n",
      "      dtype='<U2'), array(['Fp2'], \n",
      "      dtype='<U3'), array(['F4'], \n",
      "      dtype='<U2'), array(['C4'], \n",
      "      dtype='<U2')]])\n",
      "First element of the first element of the first element:\n",
      "[[(['Theta2+Alpha1'],) (['Theta'],) (['Alpha'],) (['Beta_Global'],)\n",
      "  (['Beta_Alta'],) (['Beta_Baja'],) (['Gamma'],)]]\n",
      "And so on\n",
      "[(['Theta2+Alpha1'],) (['Theta'],) (['Alpha'],) (['Beta_Global'],)\n",
      " (['Beta_Alta'],) (['Beta_Baja'],) (['Gamma'],)]\n",
      "(['Theta2+Alpha1'],)\n",
      "['Theta2+Alpha1']\n",
      "Theta2+Alpha1\n"
     ]
    }
   ],
   "source": [
    "#with this format it is difficult to access the information\n",
    "print ('First element:')\n",
    "print (patient['features_info'][0])\n",
    "print ('First element of the first element:')\n",
    "print (patient['features_info'][0][0])\n",
    "print ('First element of the first element of the first element:')\n",
    "print (patient['features_info'][0][0][0])\n",
    "print ('And so on')\n",
    "print (patient['features_info'][0][0][0][0])\n",
    "print (patient['features_info'][0][0][0][0][0])\n",
    "print (patient['features_info'][0][0][0][0][0][0])\n",
    "print (patient['features_info'][0][0][0][0][0][0][0])"
   ]
  },
  {
   "cell_type": "code",
   "execution_count": 7,
   "metadata": {
    "collapsed": true
   },
   "outputs": [],
   "source": [
    "#electrodes names\n",
    "electrodes = ['Fp1', 'F3', 'C3', 'Fz', 'Cz', 'Fp2', 'F4', 'C4']"
   ]
  },
  {
   "cell_type": "code",
   "execution_count": 8,
   "metadata": {
    "collapsed": false
   },
   "outputs": [],
   "source": [
    "#bandPower names\n",
    "bandPower = ['Theta2+Alpha1', 'Theta', 'Alpha', 'Beta_Global', 'Beta_Alta', 'Beta_Baja', 'Gamma']"
   ]
  },
  {
   "cell_type": "code",
   "execution_count": 9,
   "metadata": {
    "collapsed": false
   },
   "outputs": [
    {
     "name": "stdout",
     "output_type": "stream",
     "text": [
      "[[ 1.64102703  2.87758038  1.43715756  0.71185733  0.57531208  0.67311342\n",
      "   0.52776044]\n",
      " [ 1.5337883   2.43552977  1.49732894  0.74651714  0.6340819   0.67655999\n",
      "   0.58088936]\n",
      " [ 1.49294571  2.31819878  1.69698641  0.73843056  0.61088579  0.70320112\n",
      "   0.5614171 ]\n",
      " [ 1.47025971  2.67004701  1.36318978  0.72189473  0.63584965  0.64648594\n",
      "   0.57802995]\n",
      " [ 1.73513457  2.65603869  1.72350163  0.68605637  0.53892894  0.66958515\n",
      "   0.49797802]\n",
      " [ 1.43207918  2.44245951  1.39403454  0.76973731  0.67387306  0.69837686\n",
      "   0.61782989]\n",
      " [ 1.45669694  2.66177338  1.38242118  0.74963872  0.62832394  0.69140236\n",
      "   0.57095326]\n",
      " [ 1.43582451  2.20368672  1.73391191  0.73794813  0.6155746   0.69528265\n",
      "   0.56359535]]\n"
     ]
    }
   ],
   "source": [
    "# print of the relevant data: matrix of size (electrodes) x (bandPower)\n",
    "print (patient['BandPower'])"
   ]
  },
  {
   "cell_type": "code",
   "execution_count": 10,
   "metadata": {
    "collapsed": false
   },
   "outputs": [
    {
     "name": "stdout",
     "output_type": "stream",
     "text": [
      "     Theta2+Alpha1     Theta     Alpha  Beta_Global  Beta_Alta  Beta_Baja  \\\n",
      "Fp1       1.641027  2.877580  1.437158     0.711857   0.575312   0.673113   \n",
      "F3        1.533788  2.435530  1.497329     0.746517   0.634082   0.676560   \n",
      "C3        1.492946  2.318199  1.696986     0.738431   0.610886   0.703201   \n",
      "Fz        1.470260  2.670047  1.363190     0.721895   0.635850   0.646486   \n",
      "Cz        1.735135  2.656039  1.723502     0.686056   0.538929   0.669585   \n",
      "Fp2       1.432079  2.442460  1.394035     0.769737   0.673873   0.698377   \n",
      "F4        1.456697  2.661773  1.382421     0.749639   0.628324   0.691402   \n",
      "C4        1.435825  2.203687  1.733912     0.737948   0.615575   0.695283   \n",
      "\n",
      "        Gamma  \n",
      "Fp1  0.527760  \n",
      "F3   0.580889  \n",
      "C3   0.561417  \n",
      "Fz   0.578030  \n",
      "Cz   0.497978  \n",
      "Fp2  0.617830  \n",
      "F4   0.570953  \n",
      "C4   0.563595  \n"
     ]
    }
   ],
   "source": [
    "#dataframe containing information of the patient\n",
    "patientDF = pd.DataFrame(patient['BandPower'], index=electrodes, columns=bandPower)\n",
    "print (patientDF)"
   ]
  },
  {
   "cell_type": "code",
   "execution_count": 11,
   "metadata": {
    "collapsed": false
   },
   "outputs": [
    {
     "name": "stdout",
     "output_type": "stream",
     "text": [
      "     Theta2+Alpha1     Theta     Alpha  Beta_Global  Beta_Alta  Beta_Baja  \\\n",
      "Fp1       1.641027  2.877580  1.437158     0.711857   0.575312   0.673113   \n",
      "F3        1.533788  2.435530  1.497329     0.746517   0.634082   0.676560   \n",
      "C3        1.492946  2.318199  1.696986     0.738431   0.610886   0.703201   \n",
      "Fz        1.470260  2.670047  1.363190     0.721895   0.635850   0.646486   \n",
      "Cz        1.735135  2.656039  1.723502     0.686056   0.538929   0.669585   \n",
      "Fp2       1.432079  2.442460  1.394035     0.769737   0.673873   0.698377   \n",
      "F4        1.456697  2.661773  1.382421     0.749639   0.628324   0.691402   \n",
      "C4        1.435825  2.203687  1.733912     0.737948   0.615575   0.695283   \n",
      "\n",
      "        Gamma  bandPowerRatio  \n",
      "Fp1  0.527760        3.117697  \n",
      "F3   0.580889        2.481097  \n",
      "C3   0.561417        2.601415  \n",
      "Fz   0.578030        2.485808  \n",
      "Cz   0.497978        3.340325  \n",
      "Fp2  0.617830        2.220991  \n",
      "F4   0.570953        2.411037  \n",
      "C4   0.563595        2.438645  \n"
     ]
    }
   ],
   "source": [
    "#bandPowerRatio is included too\n",
    "patientDF['bandPowerRatio'] = patient['BandPowerRatio']\n",
    "print (patientDF)"
   ]
  },
  {
   "cell_type": "code",
   "execution_count": 12,
   "metadata": {
    "collapsed": false
   },
   "outputs": [],
   "source": [
    "#set the path for the filenames\n",
    "filenames = os.listdir(path)"
   ]
  },
  {
   "cell_type": "code",
   "execution_count": 13,
   "metadata": {
    "collapsed": false
   },
   "outputs": [],
   "source": [
    "#define the list of dataframes\n",
    "list_df=[]\n",
    "for i in filenames:\n",
    "    patient = sio.loadmat(path + i)\n",
    "    patientDF = pd.DataFrame(patient['BandPower'], index=electrodes, columns=bandPower)\n",
    "    patientDF['bandPowerRatio'] = patient['BandPowerRatio']\n",
    "    list_df.append(patientDF)\n",
    "#via the concat all the dataframes are concatenated\n",
    "patientsDF = pd.concat(list_df)"
   ]
  },
  {
   "cell_type": "code",
   "execution_count": 14,
   "metadata": {
    "collapsed": false
   },
   "outputs": [
    {
     "data": {
      "text/html": [
       "<div>\n",
       "<table border=\"1\" class=\"dataframe\">\n",
       "  <thead>\n",
       "    <tr style=\"text-align: right;\">\n",
       "      <th></th>\n",
       "      <th>Theta2+Alpha1</th>\n",
       "      <th>Theta</th>\n",
       "      <th>Alpha</th>\n",
       "      <th>Beta_Global</th>\n",
       "      <th>Beta_Alta</th>\n",
       "      <th>Beta_Baja</th>\n",
       "      <th>Gamma</th>\n",
       "      <th>bandPowerRatio</th>\n",
       "    </tr>\n",
       "  </thead>\n",
       "  <tbody>\n",
       "    <tr>\n",
       "      <th>Fp1</th>\n",
       "      <td>1.641027</td>\n",
       "      <td>2.877580</td>\n",
       "      <td>1.437158</td>\n",
       "      <td>0.711857</td>\n",
       "      <td>0.575312</td>\n",
       "      <td>0.673113</td>\n",
       "      <td>0.527760</td>\n",
       "      <td>3.117697</td>\n",
       "    </tr>\n",
       "    <tr>\n",
       "      <th>F3</th>\n",
       "      <td>1.533788</td>\n",
       "      <td>2.435530</td>\n",
       "      <td>1.497329</td>\n",
       "      <td>0.746517</td>\n",
       "      <td>0.634082</td>\n",
       "      <td>0.676560</td>\n",
       "      <td>0.580889</td>\n",
       "      <td>2.481097</td>\n",
       "    </tr>\n",
       "    <tr>\n",
       "      <th>C3</th>\n",
       "      <td>1.492946</td>\n",
       "      <td>2.318199</td>\n",
       "      <td>1.696986</td>\n",
       "      <td>0.738431</td>\n",
       "      <td>0.610886</td>\n",
       "      <td>0.703201</td>\n",
       "      <td>0.561417</td>\n",
       "      <td>2.601415</td>\n",
       "    </tr>\n",
       "    <tr>\n",
       "      <th>Fz</th>\n",
       "      <td>1.470260</td>\n",
       "      <td>2.670047</td>\n",
       "      <td>1.363190</td>\n",
       "      <td>0.721895</td>\n",
       "      <td>0.635850</td>\n",
       "      <td>0.646486</td>\n",
       "      <td>0.578030</td>\n",
       "      <td>2.485808</td>\n",
       "    </tr>\n",
       "    <tr>\n",
       "      <th>Cz</th>\n",
       "      <td>1.735135</td>\n",
       "      <td>2.656039</td>\n",
       "      <td>1.723502</td>\n",
       "      <td>0.686056</td>\n",
       "      <td>0.538929</td>\n",
       "      <td>0.669585</td>\n",
       "      <td>0.497978</td>\n",
       "      <td>3.340325</td>\n",
       "    </tr>\n",
       "  </tbody>\n",
       "</table>\n",
       "</div>"
      ],
      "text/plain": [
       "     Theta2+Alpha1     Theta     Alpha  Beta_Global  Beta_Alta  Beta_Baja  \\\n",
       "Fp1       1.641027  2.877580  1.437158     0.711857   0.575312   0.673113   \n",
       "F3        1.533788  2.435530  1.497329     0.746517   0.634082   0.676560   \n",
       "C3        1.492946  2.318199  1.696986     0.738431   0.610886   0.703201   \n",
       "Fz        1.470260  2.670047  1.363190     0.721895   0.635850   0.646486   \n",
       "Cz        1.735135  2.656039  1.723502     0.686056   0.538929   0.669585   \n",
       "\n",
       "        Gamma  bandPowerRatio  \n",
       "Fp1  0.527760        3.117697  \n",
       "F3   0.580889        2.481097  \n",
       "C3   0.561417        2.601415  \n",
       "Fz   0.578030        2.485808  \n",
       "Cz   0.497978        3.340325  "
      ]
     },
     "execution_count": 14,
     "metadata": {},
     "output_type": "execute_result"
    }
   ],
   "source": [
    "patientsDF.head()"
   ]
  },
  {
   "cell_type": "code",
   "execution_count": 15,
   "metadata": {
    "collapsed": false
   },
   "outputs": [
    {
     "data": {
      "text/html": [
       "<div>\n",
       "<table border=\"1\" class=\"dataframe\">\n",
       "  <thead>\n",
       "    <tr style=\"text-align: right;\">\n",
       "      <th></th>\n",
       "      <th>Theta2+Alpha1</th>\n",
       "      <th>Theta</th>\n",
       "      <th>Alpha</th>\n",
       "      <th>Beta_Global</th>\n",
       "      <th>Beta_Alta</th>\n",
       "      <th>Beta_Baja</th>\n",
       "      <th>Gamma</th>\n",
       "      <th>bandPowerRatio</th>\n",
       "    </tr>\n",
       "  </thead>\n",
       "  <tbody>\n",
       "    <tr>\n",
       "      <th>Fp2</th>\n",
       "      <td>NaN</td>\n",
       "      <td>NaN</td>\n",
       "      <td>NaN</td>\n",
       "      <td>NaN</td>\n",
       "      <td>NaN</td>\n",
       "      <td>NaN</td>\n",
       "      <td>NaN</td>\n",
       "      <td>NaN</td>\n",
       "    </tr>\n",
       "    <tr>\n",
       "      <th>C3</th>\n",
       "      <td>0.463406</td>\n",
       "      <td>5.91568</td>\n",
       "      <td>NaN</td>\n",
       "      <td>0.740131</td>\n",
       "      <td>0.287655</td>\n",
       "      <td>0.755849</td>\n",
       "      <td>0.256215</td>\n",
       "      <td>1.610978</td>\n",
       "    </tr>\n",
       "  </tbody>\n",
       "</table>\n",
       "</div>"
      ],
      "text/plain": [
       "     Theta2+Alpha1    Theta  Alpha  Beta_Global  Beta_Alta  Beta_Baja  \\\n",
       "Fp2            NaN      NaN    NaN          NaN        NaN        NaN   \n",
       "C3        0.463406  5.91568    NaN     0.740131   0.287655   0.755849   \n",
       "\n",
       "        Gamma  bandPowerRatio  \n",
       "Fp2       NaN             NaN  \n",
       "C3   0.256215        1.610978  "
      ]
     },
     "execution_count": 15,
     "metadata": {},
     "output_type": "execute_result"
    }
   ],
   "source": [
    "#note that there are some nans in the data\n",
    "patientsDF[pd.isnull(patientsDF).values.any(axis=1)]"
   ]
  },
  {
   "cell_type": "code",
   "execution_count": 16,
   "metadata": {
    "collapsed": false
   },
   "outputs": [
    {
     "data": {
      "text/html": [
       "<div>\n",
       "<table border=\"1\" class=\"dataframe\">\n",
       "  <thead>\n",
       "    <tr style=\"text-align: right;\">\n",
       "      <th></th>\n",
       "      <th>Fp1_(Theta2+Alpha1)</th>\n",
       "      <th>Fp1_(Theta)</th>\n",
       "      <th>Fp1_(Alpha)</th>\n",
       "      <th>Fp1_(Beta_Global)</th>\n",
       "      <th>Fp1_(Beta_Alta)</th>\n",
       "      <th>Fp1_(Beta_Baja)</th>\n",
       "      <th>Fp1_(Gamma)</th>\n",
       "      <th>F3_(Theta2+Alpha1)</th>\n",
       "      <th>F3_(Theta)</th>\n",
       "      <th>F3_(Alpha)</th>\n",
       "      <th>...</th>\n",
       "      <th>BPR_Fp1</th>\n",
       "      <th>BPR_F3</th>\n",
       "      <th>BPR_C3</th>\n",
       "      <th>BPR_Fz</th>\n",
       "      <th>BPR_Cz</th>\n",
       "      <th>BPR_Fp2</th>\n",
       "      <th>BPR_F4</th>\n",
       "      <th>BPR_C4</th>\n",
       "      <th>patientName</th>\n",
       "      <th>experiment</th>\n",
       "    </tr>\n",
       "  </thead>\n",
       "  <tbody>\n",
       "    <tr>\n",
       "      <th>0</th>\n",
       "      <td>1.559753</td>\n",
       "      <td>2.500916</td>\n",
       "      <td>1.010810</td>\n",
       "      <td>0.906534</td>\n",
       "      <td>0.738177</td>\n",
       "      <td>0.767453</td>\n",
       "      <td>0.664745</td>\n",
       "      <td>1.839101</td>\n",
       "      <td>2.768911</td>\n",
       "      <td>1.252046</td>\n",
       "      <td>...</td>\n",
       "      <td>2.337005</td>\n",
       "      <td>3.176870</td>\n",
       "      <td>6.782221</td>\n",
       "      <td>5.234723</td>\n",
       "      <td>8.909844</td>\n",
       "      <td>2.426279</td>\n",
       "      <td>5.378442</td>\n",
       "      <td>6.200420</td>\n",
       "      <td>S27A</td>\n",
       "      <td>A</td>\n",
       "    </tr>\n",
       "    <tr>\n",
       "      <th>1</th>\n",
       "      <td>1.260083</td>\n",
       "      <td>2.332557</td>\n",
       "      <td>0.860853</td>\n",
       "      <td>0.999163</td>\n",
       "      <td>0.775363</td>\n",
       "      <td>0.893787</td>\n",
       "      <td>0.707776</td>\n",
       "      <td>1.581980</td>\n",
       "      <td>2.914735</td>\n",
       "      <td>0.991346</td>\n",
       "      <td>...</td>\n",
       "      <td>1.682648</td>\n",
       "      <td>2.553357</td>\n",
       "      <td>2.312517</td>\n",
       "      <td>2.781578</td>\n",
       "      <td>3.179282</td>\n",
       "      <td>2.391974</td>\n",
       "      <td>2.611157</td>\n",
       "      <td>2.177842</td>\n",
       "      <td>S18A</td>\n",
       "      <td>A</td>\n",
       "    </tr>\n",
       "    <tr>\n",
       "      <th>2</th>\n",
       "      <td>3.100145</td>\n",
       "      <td>3.696751</td>\n",
       "      <td>1.348613</td>\n",
       "      <td>0.635941</td>\n",
       "      <td>0.445743</td>\n",
       "      <td>0.553323</td>\n",
       "      <td>0.371787</td>\n",
       "      <td>3.161179</td>\n",
       "      <td>3.665984</td>\n",
       "      <td>1.415384</td>\n",
       "      <td>...</td>\n",
       "      <td>7.661245</td>\n",
       "      <td>7.917380</td>\n",
       "      <td>12.437474</td>\n",
       "      <td>12.007422</td>\n",
       "      <td>15.961836</td>\n",
       "      <td>7.391989</td>\n",
       "      <td>9.201975</td>\n",
       "      <td>14.733004</td>\n",
       "      <td>S45A</td>\n",
       "      <td>A</td>\n",
       "    </tr>\n",
       "    <tr>\n",
       "      <th>3</th>\n",
       "      <td>1.925554</td>\n",
       "      <td>3.229604</td>\n",
       "      <td>1.245891</td>\n",
       "      <td>0.722640</td>\n",
       "      <td>0.498815</td>\n",
       "      <td>0.743947</td>\n",
       "      <td>0.463877</td>\n",
       "      <td>2.286959</td>\n",
       "      <td>4.107567</td>\n",
       "      <td>1.362847</td>\n",
       "      <td>...</td>\n",
       "      <td>4.056568</td>\n",
       "      <td>7.017177</td>\n",
       "      <td>5.679278</td>\n",
       "      <td>6.348907</td>\n",
       "      <td>7.086306</td>\n",
       "      <td>4.068725</td>\n",
       "      <td>3.148833</td>\n",
       "      <td>3.847647</td>\n",
       "      <td>S32A</td>\n",
       "      <td>A</td>\n",
       "    </tr>\n",
       "    <tr>\n",
       "      <th>4</th>\n",
       "      <td>2.035778</td>\n",
       "      <td>3.546361</td>\n",
       "      <td>1.210719</td>\n",
       "      <td>0.786348</td>\n",
       "      <td>0.412286</td>\n",
       "      <td>0.871365</td>\n",
       "      <td>0.358657</td>\n",
       "      <td>1.452760</td>\n",
       "      <td>2.325533</td>\n",
       "      <td>0.949404</td>\n",
       "      <td>...</td>\n",
       "      <td>5.158201</td>\n",
       "      <td>1.894025</td>\n",
       "      <td>7.270543</td>\n",
       "      <td>3.537823</td>\n",
       "      <td>8.795096</td>\n",
       "      <td>0.673810</td>\n",
       "      <td>4.020951</td>\n",
       "      <td>7.074452</td>\n",
       "      <td>S46A</td>\n",
       "      <td>A</td>\n",
       "    </tr>\n",
       "  </tbody>\n",
       "</table>\n",
       "<p>5 rows × 66 columns</p>\n",
       "</div>"
      ],
      "text/plain": [
       "   Fp1_(Theta2+Alpha1)  Fp1_(Theta)  Fp1_(Alpha)  Fp1_(Beta_Global)  \\\n",
       "0             1.559753     2.500916     1.010810           0.906534   \n",
       "1             1.260083     2.332557     0.860853           0.999163   \n",
       "2             3.100145     3.696751     1.348613           0.635941   \n",
       "3             1.925554     3.229604     1.245891           0.722640   \n",
       "4             2.035778     3.546361     1.210719           0.786348   \n",
       "\n",
       "   Fp1_(Beta_Alta)  Fp1_(Beta_Baja)  Fp1_(Gamma)  F3_(Theta2+Alpha1)  \\\n",
       "0         0.738177         0.767453     0.664745            1.839101   \n",
       "1         0.775363         0.893787     0.707776            1.581980   \n",
       "2         0.445743         0.553323     0.371787            3.161179   \n",
       "3         0.498815         0.743947     0.463877            2.286959   \n",
       "4         0.412286         0.871365     0.358657            1.452760   \n",
       "\n",
       "   F3_(Theta)  F3_(Alpha)     ...       BPR_Fp1    BPR_F3     BPR_C3  \\\n",
       "0    2.768911    1.252046     ...      2.337005  3.176870   6.782221   \n",
       "1    2.914735    0.991346     ...      1.682648  2.553357   2.312517   \n",
       "2    3.665984    1.415384     ...      7.661245  7.917380  12.437474   \n",
       "3    4.107567    1.362847     ...      4.056568  7.017177   5.679278   \n",
       "4    2.325533    0.949404     ...      5.158201  1.894025   7.270543   \n",
       "\n",
       "      BPR_Fz     BPR_Cz   BPR_Fp2    BPR_F4     BPR_C4  patientName  \\\n",
       "0   5.234723   8.909844  2.426279  5.378442   6.200420         S27A   \n",
       "1   2.781578   3.179282  2.391974  2.611157   2.177842         S18A   \n",
       "2  12.007422  15.961836  7.391989  9.201975  14.733004         S45A   \n",
       "3   6.348907   7.086306  4.068725  3.148833   3.847647         S32A   \n",
       "4   3.537823   8.795096  0.673810  4.020951   7.074452         S46A   \n",
       "\n",
       "   experiment  \n",
       "0           A  \n",
       "1           A  \n",
       "2           A  \n",
       "3           A  \n",
       "4           A  \n",
       "\n",
       "[5 rows x 66 columns]"
      ]
     },
     "execution_count": 16,
     "metadata": {},
     "output_type": "execute_result"
    }
   ],
   "source": [
    "#let us create the real dataframe\n",
    "#columns for the band powers\n",
    "columns_df=[]\n",
    "for i in electrodes:\n",
    "    for j in bandPower:\n",
    "        combination = i + '_(' + j + ')'\n",
    "        columns_df.append(combination)\n",
    "\n",
    "#columns for the band power ratios\n",
    "columns_df2 = ['BPR_Fp1', 'BPR_F3', 'BPR_C3', 'BPR_Fz', 'BPR_Cz', 'BPR_Fp2', 'BPR_F4', 'BPR_C4']\n",
    "\n",
    "#patterns to determine experiments\n",
    "patternA = r'[\\w]+A\\.mat'\n",
    "patternB = r'[\\w]+B\\.mat'\n",
    "patternC = r'[\\w]+C\\.mat'\n",
    "\n",
    "#define the list of dataframes\n",
    "list_df=[]\n",
    "for i in filenames:\n",
    "    patient = sio.loadmat(path + i)\n",
    "    bandPowerDF = pd.DataFrame(patient['BandPower'].reshape(1,56), columns = columns_df)\n",
    "    bandPowerRatioDF = pd.DataFrame(patient['BandPowerRatio'].reshape(1,8), columns = columns_df2)\n",
    "    patientDF =  pd.concat([bandPowerDF, bandPowerRatioDF], axis=1)\n",
    "    patientDF['patientName']=i.split('.mat')[0]\n",
    "    if re.match(patternA,i) != None:\n",
    "        patientDF['experiment'] = 'A'\n",
    "    elif re.match(patternB,i) != None:\n",
    "        patientDF['experiment'] = 'B'\n",
    "    elif re.match(patternC,i) != None:\n",
    "        patientDF['experiment'] = 'C'\n",
    "    list_df.append(patientDF)\n",
    "\n",
    "#via the concat all the dataframes are concatenated\n",
    "patientsDF = pd.concat(list_df)\n",
    "#nans are dropped\n",
    "patientsDF = patientsDF.dropna(how='any')\n",
    "\n",
    "#dataframe is sorted by experiment type: order A, B and C\n",
    "patientsDF.sort_values(by='experiment', ascending= True, inplace=True)\n",
    "\n",
    "#indexs are reset\n",
    "patientsDF = patientsDF.reset_index(drop = True)\n",
    "\n",
    "patientsDF.head()"
   ]
  },
  {
   "cell_type": "code",
   "execution_count": 17,
   "metadata": {
    "collapsed": false
   },
   "outputs": [
    {
     "name": "stdout",
     "output_type": "stream",
     "text": [
      "68 132 134\n"
     ]
    }
   ],
   "source": [
    "#number of rows for each experiment\n",
    "numberA = len(patientsDF[patientsDF['experiment']=='A'])\n",
    "numberB = len(patientsDF[patientsDF['experiment']=='B'])\n",
    "numberC = len(patientsDF[patientsDF['experiment']=='C'])\n",
    "print (numberA, numberB, numberC)\n"
   ]
  },
  {
   "cell_type": "code",
   "execution_count": 18,
   "metadata": {
    "collapsed": false
   },
   "outputs": [
    {
     "data": {
      "text/html": [
       "<div>\n",
       "<table border=\"1\" class=\"dataframe\">\n",
       "  <thead>\n",
       "    <tr style=\"text-align: right;\">\n",
       "      <th></th>\n",
       "      <th>Fp1_(Theta2+Alpha1)</th>\n",
       "      <th>Fp1_(Theta)</th>\n",
       "      <th>Fp1_(Alpha)</th>\n",
       "      <th>Fp1_(Beta_Global)</th>\n",
       "      <th>Fp1_(Beta_Alta)</th>\n",
       "      <th>Fp1_(Beta_Baja)</th>\n",
       "      <th>Fp1_(Gamma)</th>\n",
       "      <th>F3_(Theta2+Alpha1)</th>\n",
       "      <th>F3_(Theta)</th>\n",
       "      <th>F3_(Alpha)</th>\n",
       "      <th>...</th>\n",
       "      <th>C4_(Beta_Baja)</th>\n",
       "      <th>C4_(Gamma)</th>\n",
       "      <th>BPR_Fp1</th>\n",
       "      <th>BPR_F3</th>\n",
       "      <th>BPR_C3</th>\n",
       "      <th>BPR_Fz</th>\n",
       "      <th>BPR_Cz</th>\n",
       "      <th>BPR_Fp2</th>\n",
       "      <th>BPR_F4</th>\n",
       "      <th>BPR_C4</th>\n",
       "    </tr>\n",
       "  </thead>\n",
       "  <tbody>\n",
       "    <tr>\n",
       "      <th>count</th>\n",
       "      <td>334.000000</td>\n",
       "      <td>334.000000</td>\n",
       "      <td>334.000000</td>\n",
       "      <td>334.000000</td>\n",
       "      <td>334.000000</td>\n",
       "      <td>334.000000</td>\n",
       "      <td>334.000000</td>\n",
       "      <td>334.000000</td>\n",
       "      <td>334.000000</td>\n",
       "      <td>334.000000</td>\n",
       "      <td>...</td>\n",
       "      <td>334.000000</td>\n",
       "      <td>334.000000</td>\n",
       "      <td>334.000000</td>\n",
       "      <td>334.000000</td>\n",
       "      <td>334.000000</td>\n",
       "      <td>334.000000</td>\n",
       "      <td>334.000000</td>\n",
       "      <td>334.000000</td>\n",
       "      <td>334.000000</td>\n",
       "      <td>334.000000</td>\n",
       "    </tr>\n",
       "    <tr>\n",
       "      <th>mean</th>\n",
       "      <td>2.483312</td>\n",
       "      <td>3.217692</td>\n",
       "      <td>1.671830</td>\n",
       "      <td>0.651677</td>\n",
       "      <td>0.416584</td>\n",
       "      <td>0.661549</td>\n",
       "      <td>0.373267</td>\n",
       "      <td>2.630579</td>\n",
       "      <td>3.404363</td>\n",
       "      <td>1.772783</td>\n",
       "      <td>...</td>\n",
       "      <td>0.579537</td>\n",
       "      <td>0.260461</td>\n",
       "      <td>8.962033</td>\n",
       "      <td>11.161142</td>\n",
       "      <td>15.596585</td>\n",
       "      <td>13.367042</td>\n",
       "      <td>18.736745</td>\n",
       "      <td>8.412739</td>\n",
       "      <td>10.242191</td>\n",
       "      <td>15.432172</td>\n",
       "    </tr>\n",
       "    <tr>\n",
       "      <th>std</th>\n",
       "      <td>0.782261</td>\n",
       "      <td>0.802305</td>\n",
       "      <td>0.607621</td>\n",
       "      <td>0.207101</td>\n",
       "      <td>0.196546</td>\n",
       "      <td>0.173012</td>\n",
       "      <td>0.178919</td>\n",
       "      <td>0.788942</td>\n",
       "      <td>0.802393</td>\n",
       "      <td>0.634528</td>\n",
       "      <td>...</td>\n",
       "      <td>0.163251</td>\n",
       "      <td>0.144291</td>\n",
       "      <td>6.954209</td>\n",
       "      <td>8.470249</td>\n",
       "      <td>12.430272</td>\n",
       "      <td>9.499647</td>\n",
       "      <td>14.029732</td>\n",
       "      <td>6.804540</td>\n",
       "      <td>7.533514</td>\n",
       "      <td>14.344398</td>\n",
       "    </tr>\n",
       "    <tr>\n",
       "      <th>min</th>\n",
       "      <td>0.000000</td>\n",
       "      <td>0.000000</td>\n",
       "      <td>0.000000</td>\n",
       "      <td>0.000000</td>\n",
       "      <td>0.000000</td>\n",
       "      <td>0.000000</td>\n",
       "      <td>0.000000</td>\n",
       "      <td>0.000000</td>\n",
       "      <td>0.000000</td>\n",
       "      <td>0.000000</td>\n",
       "      <td>...</td>\n",
       "      <td>0.000000</td>\n",
       "      <td>0.000000</td>\n",
       "      <td>0.000000</td>\n",
       "      <td>0.000000</td>\n",
       "      <td>0.000000</td>\n",
       "      <td>0.000000</td>\n",
       "      <td>1.552931</td>\n",
       "      <td>0.000000</td>\n",
       "      <td>0.000000</td>\n",
       "      <td>0.000000</td>\n",
       "    </tr>\n",
       "    <tr>\n",
       "      <th>25%</th>\n",
       "      <td>1.916719</td>\n",
       "      <td>2.628290</td>\n",
       "      <td>1.250038</td>\n",
       "      <td>0.502963</td>\n",
       "      <td>0.265491</td>\n",
       "      <td>0.538670</td>\n",
       "      <td>0.231347</td>\n",
       "      <td>2.118802</td>\n",
       "      <td>2.907087</td>\n",
       "      <td>1.306067</td>\n",
       "      <td>...</td>\n",
       "      <td>0.463722</td>\n",
       "      <td>0.157391</td>\n",
       "      <td>4.067550</td>\n",
       "      <td>5.388980</td>\n",
       "      <td>7.442341</td>\n",
       "      <td>7.081509</td>\n",
       "      <td>9.320710</td>\n",
       "      <td>3.685747</td>\n",
       "      <td>5.024918</td>\n",
       "      <td>6.907607</td>\n",
       "    </tr>\n",
       "    <tr>\n",
       "      <th>50%</th>\n",
       "      <td>2.378577</td>\n",
       "      <td>3.218909</td>\n",
       "      <td>1.510521</td>\n",
       "      <td>0.632298</td>\n",
       "      <td>0.383958</td>\n",
       "      <td>0.643110</td>\n",
       "      <td>0.338936</td>\n",
       "      <td>2.503656</td>\n",
       "      <td>3.433101</td>\n",
       "      <td>1.634434</td>\n",
       "      <td>...</td>\n",
       "      <td>0.573932</td>\n",
       "      <td>0.225735</td>\n",
       "      <td>6.923625</td>\n",
       "      <td>8.723749</td>\n",
       "      <td>11.748890</td>\n",
       "      <td>10.799249</td>\n",
       "      <td>14.649022</td>\n",
       "      <td>6.596136</td>\n",
       "      <td>7.870704</td>\n",
       "      <td>10.494277</td>\n",
       "    </tr>\n",
       "    <tr>\n",
       "      <th>75%</th>\n",
       "      <td>2.944680</td>\n",
       "      <td>3.758272</td>\n",
       "      <td>1.997923</td>\n",
       "      <td>0.773415</td>\n",
       "      <td>0.525750</td>\n",
       "      <td>0.762751</td>\n",
       "      <td>0.467849</td>\n",
       "      <td>3.077061</td>\n",
       "      <td>3.942839</td>\n",
       "      <td>2.089760</td>\n",
       "      <td>...</td>\n",
       "      <td>0.688381</td>\n",
       "      <td>0.330491</td>\n",
       "      <td>12.039943</td>\n",
       "      <td>14.201107</td>\n",
       "      <td>19.227603</td>\n",
       "      <td>17.123253</td>\n",
       "      <td>23.936012</td>\n",
       "      <td>10.959546</td>\n",
       "      <td>13.417129</td>\n",
       "      <td>19.619021</td>\n",
       "    </tr>\n",
       "    <tr>\n",
       "      <th>max</th>\n",
       "      <td>5.488992</td>\n",
       "      <td>5.364788</td>\n",
       "      <td>3.722925</td>\n",
       "      <td>1.505944</td>\n",
       "      <td>1.203910</td>\n",
       "      <td>1.349076</td>\n",
       "      <td>1.070237</td>\n",
       "      <td>5.839428</td>\n",
       "      <td>5.332177</td>\n",
       "      <td>3.956982</td>\n",
       "      <td>...</td>\n",
       "      <td>1.068707</td>\n",
       "      <td>0.857710</td>\n",
       "      <td>44.365866</td>\n",
       "      <td>58.816692</td>\n",
       "      <td>80.804677</td>\n",
       "      <td>63.886656</td>\n",
       "      <td>107.535725</td>\n",
       "      <td>38.326144</td>\n",
       "      <td>49.600342</td>\n",
       "      <td>122.647030</td>\n",
       "    </tr>\n",
       "  </tbody>\n",
       "</table>\n",
       "<p>8 rows × 64 columns</p>\n",
       "</div>"
      ],
      "text/plain": [
       "       Fp1_(Theta2+Alpha1)  Fp1_(Theta)  Fp1_(Alpha)  Fp1_(Beta_Global)  \\\n",
       "count           334.000000   334.000000   334.000000         334.000000   \n",
       "mean              2.483312     3.217692     1.671830           0.651677   \n",
       "std               0.782261     0.802305     0.607621           0.207101   \n",
       "min               0.000000     0.000000     0.000000           0.000000   \n",
       "25%               1.916719     2.628290     1.250038           0.502963   \n",
       "50%               2.378577     3.218909     1.510521           0.632298   \n",
       "75%               2.944680     3.758272     1.997923           0.773415   \n",
       "max               5.488992     5.364788     3.722925           1.505944   \n",
       "\n",
       "       Fp1_(Beta_Alta)  Fp1_(Beta_Baja)  Fp1_(Gamma)  F3_(Theta2+Alpha1)  \\\n",
       "count       334.000000       334.000000   334.000000          334.000000   \n",
       "mean          0.416584         0.661549     0.373267            2.630579   \n",
       "std           0.196546         0.173012     0.178919            0.788942   \n",
       "min           0.000000         0.000000     0.000000            0.000000   \n",
       "25%           0.265491         0.538670     0.231347            2.118802   \n",
       "50%           0.383958         0.643110     0.338936            2.503656   \n",
       "75%           0.525750         0.762751     0.467849            3.077061   \n",
       "max           1.203910         1.349076     1.070237            5.839428   \n",
       "\n",
       "       F3_(Theta)  F3_(Alpha)     ...      C4_(Beta_Baja)  C4_(Gamma)  \\\n",
       "count  334.000000  334.000000     ...          334.000000  334.000000   \n",
       "mean     3.404363    1.772783     ...            0.579537    0.260461   \n",
       "std      0.802393    0.634528     ...            0.163251    0.144291   \n",
       "min      0.000000    0.000000     ...            0.000000    0.000000   \n",
       "25%      2.907087    1.306067     ...            0.463722    0.157391   \n",
       "50%      3.433101    1.634434     ...            0.573932    0.225735   \n",
       "75%      3.942839    2.089760     ...            0.688381    0.330491   \n",
       "max      5.332177    3.956982     ...            1.068707    0.857710   \n",
       "\n",
       "          BPR_Fp1      BPR_F3      BPR_C3      BPR_Fz      BPR_Cz     BPR_Fp2  \\\n",
       "count  334.000000  334.000000  334.000000  334.000000  334.000000  334.000000   \n",
       "mean     8.962033   11.161142   15.596585   13.367042   18.736745    8.412739   \n",
       "std      6.954209    8.470249   12.430272    9.499647   14.029732    6.804540   \n",
       "min      0.000000    0.000000    0.000000    0.000000    1.552931    0.000000   \n",
       "25%      4.067550    5.388980    7.442341    7.081509    9.320710    3.685747   \n",
       "50%      6.923625    8.723749   11.748890   10.799249   14.649022    6.596136   \n",
       "75%     12.039943   14.201107   19.227603   17.123253   23.936012   10.959546   \n",
       "max     44.365866   58.816692   80.804677   63.886656  107.535725   38.326144   \n",
       "\n",
       "           BPR_F4      BPR_C4  \n",
       "count  334.000000  334.000000  \n",
       "mean    10.242191   15.432172  \n",
       "std      7.533514   14.344398  \n",
       "min      0.000000    0.000000  \n",
       "25%      5.024918    6.907607  \n",
       "50%      7.870704   10.494277  \n",
       "75%     13.417129   19.619021  \n",
       "max     49.600342  122.647030  \n",
       "\n",
       "[8 rows x 64 columns]"
      ]
     },
     "execution_count": 18,
     "metadata": {},
     "output_type": "execute_result"
    }
   ],
   "source": [
    "#main statistical parameters for each column\n",
    "patientsDF.describe()"
   ]
  },
  {
   "cell_type": "code",
   "execution_count": 19,
   "metadata": {
    "collapsed": false
   },
   "outputs": [
    {
     "data": {
      "text/html": [
       "<div>\n",
       "<table border=\"1\" class=\"dataframe\">\n",
       "  <thead>\n",
       "    <tr style=\"text-align: right;\">\n",
       "      <th></th>\n",
       "      <th>Fp1_(Theta2+Alpha1)</th>\n",
       "      <th>Fp1_(Theta)</th>\n",
       "      <th>Fp1_(Alpha)</th>\n",
       "      <th>Fp1_(Beta_Global)</th>\n",
       "      <th>Fp1_(Beta_Alta)</th>\n",
       "      <th>Fp1_(Beta_Baja)</th>\n",
       "      <th>Fp1_(Gamma)</th>\n",
       "      <th>F3_(Theta2+Alpha1)</th>\n",
       "      <th>F3_(Theta)</th>\n",
       "      <th>F3_(Alpha)</th>\n",
       "      <th>...</th>\n",
       "      <th>C4_(Beta_Baja)</th>\n",
       "      <th>C4_(Gamma)</th>\n",
       "      <th>BPR_Fp1</th>\n",
       "      <th>BPR_F3</th>\n",
       "      <th>BPR_C3</th>\n",
       "      <th>BPR_Fz</th>\n",
       "      <th>BPR_Cz</th>\n",
       "      <th>BPR_Fp2</th>\n",
       "      <th>BPR_F4</th>\n",
       "      <th>BPR_C4</th>\n",
       "    </tr>\n",
       "  </thead>\n",
       "  <tbody>\n",
       "    <tr>\n",
       "      <th>0</th>\n",
       "      <td>1.559753</td>\n",
       "      <td>2.500916</td>\n",
       "      <td>1.010810</td>\n",
       "      <td>0.906534</td>\n",
       "      <td>0.738177</td>\n",
       "      <td>0.767453</td>\n",
       "      <td>0.664745</td>\n",
       "      <td>1.839101</td>\n",
       "      <td>2.768911</td>\n",
       "      <td>1.252046</td>\n",
       "      <td>...</td>\n",
       "      <td>0.481408</td>\n",
       "      <td>0.367477</td>\n",
       "      <td>2.337005</td>\n",
       "      <td>3.176870</td>\n",
       "      <td>6.782221</td>\n",
       "      <td>5.234723</td>\n",
       "      <td>8.909844</td>\n",
       "      <td>2.426279</td>\n",
       "      <td>5.378442</td>\n",
       "      <td>6.200420</td>\n",
       "    </tr>\n",
       "    <tr>\n",
       "      <th>1</th>\n",
       "      <td>1.260083</td>\n",
       "      <td>2.332557</td>\n",
       "      <td>0.860853</td>\n",
       "      <td>0.999163</td>\n",
       "      <td>0.775363</td>\n",
       "      <td>0.893787</td>\n",
       "      <td>0.707776</td>\n",
       "      <td>1.581980</td>\n",
       "      <td>2.914735</td>\n",
       "      <td>0.991346</td>\n",
       "      <td>...</td>\n",
       "      <td>0.698036</td>\n",
       "      <td>0.621408</td>\n",
       "      <td>1.682648</td>\n",
       "      <td>2.553357</td>\n",
       "      <td>2.312517</td>\n",
       "      <td>2.781578</td>\n",
       "      <td>3.179282</td>\n",
       "      <td>2.391974</td>\n",
       "      <td>2.611157</td>\n",
       "      <td>2.177842</td>\n",
       "    </tr>\n",
       "    <tr>\n",
       "      <th>2</th>\n",
       "      <td>3.100145</td>\n",
       "      <td>3.696751</td>\n",
       "      <td>1.348613</td>\n",
       "      <td>0.635941</td>\n",
       "      <td>0.445743</td>\n",
       "      <td>0.553323</td>\n",
       "      <td>0.371787</td>\n",
       "      <td>3.161179</td>\n",
       "      <td>3.665984</td>\n",
       "      <td>1.415384</td>\n",
       "      <td>...</td>\n",
       "      <td>0.440259</td>\n",
       "      <td>0.249343</td>\n",
       "      <td>7.661245</td>\n",
       "      <td>7.917380</td>\n",
       "      <td>12.437474</td>\n",
       "      <td>12.007422</td>\n",
       "      <td>15.961836</td>\n",
       "      <td>7.391989</td>\n",
       "      <td>9.201975</td>\n",
       "      <td>14.733004</td>\n",
       "    </tr>\n",
       "    <tr>\n",
       "      <th>3</th>\n",
       "      <td>1.925554</td>\n",
       "      <td>3.229604</td>\n",
       "      <td>1.245891</td>\n",
       "      <td>0.722640</td>\n",
       "      <td>0.498815</td>\n",
       "      <td>0.743947</td>\n",
       "      <td>0.463877</td>\n",
       "      <td>2.286959</td>\n",
       "      <td>4.107567</td>\n",
       "      <td>1.362847</td>\n",
       "      <td>...</td>\n",
       "      <td>0.652950</td>\n",
       "      <td>0.512470</td>\n",
       "      <td>4.056568</td>\n",
       "      <td>7.017177</td>\n",
       "      <td>5.679278</td>\n",
       "      <td>6.348907</td>\n",
       "      <td>7.086306</td>\n",
       "      <td>4.068725</td>\n",
       "      <td>3.148833</td>\n",
       "      <td>3.847647</td>\n",
       "    </tr>\n",
       "    <tr>\n",
       "      <th>4</th>\n",
       "      <td>2.035778</td>\n",
       "      <td>3.546361</td>\n",
       "      <td>1.210719</td>\n",
       "      <td>0.786348</td>\n",
       "      <td>0.412286</td>\n",
       "      <td>0.871365</td>\n",
       "      <td>0.358657</td>\n",
       "      <td>1.452760</td>\n",
       "      <td>2.325533</td>\n",
       "      <td>0.949404</td>\n",
       "      <td>...</td>\n",
       "      <td>0.730392</td>\n",
       "      <td>0.310698</td>\n",
       "      <td>5.158201</td>\n",
       "      <td>1.894025</td>\n",
       "      <td>7.270543</td>\n",
       "      <td>3.537823</td>\n",
       "      <td>8.795096</td>\n",
       "      <td>0.673810</td>\n",
       "      <td>4.020951</td>\n",
       "      <td>7.074452</td>\n",
       "    </tr>\n",
       "  </tbody>\n",
       "</table>\n",
       "<p>5 rows × 64 columns</p>\n",
       "</div>"
      ],
      "text/plain": [
       "   Fp1_(Theta2+Alpha1)  Fp1_(Theta)  Fp1_(Alpha)  Fp1_(Beta_Global)  \\\n",
       "0             1.559753     2.500916     1.010810           0.906534   \n",
       "1             1.260083     2.332557     0.860853           0.999163   \n",
       "2             3.100145     3.696751     1.348613           0.635941   \n",
       "3             1.925554     3.229604     1.245891           0.722640   \n",
       "4             2.035778     3.546361     1.210719           0.786348   \n",
       "\n",
       "   Fp1_(Beta_Alta)  Fp1_(Beta_Baja)  Fp1_(Gamma)  F3_(Theta2+Alpha1)  \\\n",
       "0         0.738177         0.767453     0.664745            1.839101   \n",
       "1         0.775363         0.893787     0.707776            1.581980   \n",
       "2         0.445743         0.553323     0.371787            3.161179   \n",
       "3         0.498815         0.743947     0.463877            2.286959   \n",
       "4         0.412286         0.871365     0.358657            1.452760   \n",
       "\n",
       "   F3_(Theta)  F3_(Alpha)    ...      C4_(Beta_Baja)  C4_(Gamma)   BPR_Fp1  \\\n",
       "0    2.768911    1.252046    ...            0.481408    0.367477  2.337005   \n",
       "1    2.914735    0.991346    ...            0.698036    0.621408  1.682648   \n",
       "2    3.665984    1.415384    ...            0.440259    0.249343  7.661245   \n",
       "3    4.107567    1.362847    ...            0.652950    0.512470  4.056568   \n",
       "4    2.325533    0.949404    ...            0.730392    0.310698  5.158201   \n",
       "\n",
       "     BPR_F3     BPR_C3     BPR_Fz     BPR_Cz   BPR_Fp2    BPR_F4     BPR_C4  \n",
       "0  3.176870   6.782221   5.234723   8.909844  2.426279  5.378442   6.200420  \n",
       "1  2.553357   2.312517   2.781578   3.179282  2.391974  2.611157   2.177842  \n",
       "2  7.917380  12.437474  12.007422  15.961836  7.391989  9.201975  14.733004  \n",
       "3  7.017177   5.679278   6.348907   7.086306  4.068725  3.148833   3.847647  \n",
       "4  1.894025   7.270543   3.537823   8.795096  0.673810  4.020951   7.074452  \n",
       "\n",
       "[5 rows x 64 columns]"
      ]
     },
     "execution_count": 19,
     "metadata": {},
     "output_type": "execute_result"
    }
   ],
   "source": [
    "#new dataframe without the experiment column\n",
    "dropPatientsDF = patientsDF.drop(['experiment', 'patientName'],1)\n",
    "dropPatientsDF.head()"
   ]
  },
  {
   "cell_type": "code",
   "execution_count": 20,
   "metadata": {
    "collapsed": false
   },
   "outputs": [
    {
     "data": {
      "text/plain": [
       "array([ 0.83619435,  0.06201211,  0.03031492])"
      ]
     },
     "execution_count": 20,
     "metadata": {},
     "output_type": "execute_result"
    }
   ],
   "source": [
    "# Do the PCA decomposition!\n",
    "\n",
    "#for the sake of visualisation, only 3 components are considered\n",
    "pca = PCA(n_components=3)\n",
    "#all components\n",
    "#pca = PCA()\n",
    "\n",
    "newdataPCA = pca.fit_transform(dropPatientsDF.values)  # concatenates vectors row by row\n",
    "\n",
    "pca.explained_variance_ratio_\n",
    "# the sum of the variance ratios for three components of the PCA is 0.928521380016"
   ]
  },
  {
   "cell_type": "code",
   "execution_count": 21,
   "metadata": {
    "collapsed": false
   },
   "outputs": [
    {
     "data": {
      "image/png": "[encoded data removed]",
      "text/plain": [
       "<matplotlib.figure.Figure at 0x10a1536d8>"
      ]
     },
     "metadata": {},
     "output_type": "display_data"
    }
   ],
   "source": [
    "#plot of the data on the PCA space: 3D\n",
    "%matplotlib inline\n",
    "import matplotlib.pyplot as plt\n",
    "\n",
    "fig = plt.figure(figsize=(8,8))\n",
    "ax = fig.add_subplot(111, projection='3d')\n",
    "plt.rcParams['legend.fontsize'] = 10\n",
    "\n",
    "ax.plot(newdataPCA[0:numberA, 0], newdataPCA[0:numberA, 1],\\\n",
    "    newdataPCA[0:numberA, 2], 'o', markersize=8, color='blue', alpha=0.5, label='A')\n",
    "ax.plot(newdataPCA[numberA:(numberA+numberB), 0], newdataPCA[numberA:(numberA+numberB), 1],\\\n",
    "    newdataPCA[numberA:(numberA+numberB), 2], '^', markersize=8, color='red', alpha=0.5, label='B')\n",
    "ax.plot(newdataPCA[(numberA+numberB):, 0], newdataPCA[(numberA+numberB):, 1],\\\n",
    "    newdataPCA[(numberA+numberB):, 2], '+', markersize=8, color='green', alpha=0.5, label='C')\n",
    "\n",
    "plt.title('Samples for experiment A, B and C in the PCA space')\n",
    "ax.legend(loc='upper right')\n",
    "ax.set_xlabel('First PCA base vector')\n",
    "ax.set_ylabel('Second PCA base vector')\n",
    "ax.set_zlabel('Third PCA base vector')\n",
    "plt.show()\n",
    "#no conlusion from that"
   ]
  },
  {
   "cell_type": "code",
   "execution_count": 22,
   "metadata": {
    "collapsed": false
   },
   "outputs": [
    {
     "data": {
      "image/png": "[encoded data removed]",
      "text/plain": [
       "<matplotlib.figure.Figure at 0x10a448080>"
      ]
     },
     "metadata": {},
     "output_type": "display_data"
    }
   ],
   "source": [
    "#plot in two dimensions\n",
    "fig = plt.figure(figsize=(8,8))\n",
    "plt.rcParams['legend.fontsize'] = 10\n",
    "\n",
    "plt.plot(newdataPCA[0:numberA, 0], newdataPCA[0:numberA, 1], 'o', markersize=8, color='blue', alpha=0.5, label='A')\n",
    "plt.plot(newdataPCA[numberA:(numberA+numberB), 0], newdataPCA[numberA:(numberA+numberB), 1], '^', markersize=8, alpha=0.5, color='red', label='B')\n",
    "plt.plot(newdataPCA[(numberA+numberB):, 0], newdataPCA[(numberA+numberB):, 1], '+', markersize=8, color='green', alpha=0.5, label='C')\n",
    "\n",
    "plt.title('Samples for experiment A, B and C in the PCA space')\n",
    "plt.show()\n",
    "#no conlusion from that"
   ]
  },
  {
   "cell_type": "code",
   "execution_count": 23,
   "metadata": {
    "collapsed": false
   },
   "outputs": [
    {
     "data": {
      "image/png": "[encoded data removed]",
      "text/plain": [
       "<matplotlib.figure.Figure at 0x10a851358>"
      ]
     },
     "metadata": {},
     "output_type": "display_data"
    }
   ],
   "source": [
    "#plot in two dimensions\n",
    "fig = plt.figure(figsize=(8,8))\n",
    "plt.rcParams['legend.fontsize'] = 10\n",
    "\n",
    "plt.plot(newdataPCA[0:numberA, 0], np.zeros_like(newdataPCA[0:numberA, 0]), 'o', markersize=8, color='blue', alpha=0.5, label='A')\n",
    "plt.plot(newdataPCA[numberA:(numberA+numberB)], np.zeros_like(newdataPCA[numberA:(numberA+numberB)]), '^', markersize=8, alpha=0.5, color='red', label='B')\n",
    "plt.plot(newdataPCA[(numberA+numberB):, 0], np.zeros_like(newdataPCA[(numberA+numberB):, 0]), '+', markersize=8, color='green', alpha=0.5, label='C')\n",
    "\n",
    "plt.title('Samples for experiment A, B and C in the PCA space')\n",
    "#plt.xlim((-20,20))\n",
    "plt.show()\n",
    "#no conlusion from that"
   ]
  },
  {
   "cell_type": "code",
   "execution_count": 24,
   "metadata": {
    "collapsed": false
   },
   "outputs": [
    {
     "name": "stdout",
     "output_type": "stream",
     "text": [
      "[0 0 0 0 0 0 0 0 0 0 1 1 0 0 0 1 0 0 1 0 1 0 0 0 0 0 0 0 1 0 0 1 0 0 1 1 0\n",
      " 0 0 1 1 0 0 0 0 0 0 0 1 1 0 1 0 0 0 0 0 1 1 0 0 0 0 1 0 0 0 0 0 1 0 1 1 1\n",
      " 0 0 0 1 0 1 0 0 2 0 1 0 2 1 1 0 0 0 0 0 0 2 2 1 0 2 1 1 1 1 2 2 2 0 0 1 1\n",
      " 1 1 1 0 1 2 0 2 1 0 1 0 0 0 1 0 0 1 1 0 1 0 1 1 1 0 1 1 1 2 2 0 0 0 1 1 1\n",
      " 1 0 1 0 1 1 0 0 0 2 0 1 0 1 0 0 2 0 1 1 1 0 2 0 0 0 1 0 0 2 1 0 2 0 1 0 2\n",
      " 1 0 1 0 1 1 0 1 0 0 2 0 1 0 0 1 0 0 0 0 1 0 1 0 0 1 0 0 0 1 1 0 1 0 0 0 0\n",
      " 0 0 1 1 1 0 0 1 0 0 1 0 0 1 0 0 1 0 0 0 0 0 1 1 0 1 0 0 0 0 0 0 0 0 0 0 1\n",
      " 0 0 0 0 0 0 0 1 1 0 0 2 0 0 0 0 0 0 0 0 0 0 0 0 1 0 0 0 0 0 0 0 0 0 1 0 0\n",
      " 0 1 0 0 0 0 0 0 1 0 0 0 2 0 0 0 0 0 1 0 0 0 0 0 2 0 0 0 0 0 0 1 1 0 1 0 0\n",
      " 0]\n"
     ]
    }
   ],
   "source": [
    "#basic Kmeans\n",
    "K=3 # Assuming to be 3 clusters!\n",
    "\n",
    "clf = cluster.KMeans(init='random', n_clusters=K)\n",
    "clf.fit(dropPatientsDF.values)\n",
    "print (clf.labels_)\n",
    "#not good considering that the elements were ordered"
   ]
  },
  {
   "cell_type": "code",
   "execution_count": 25,
   "metadata": {
    "collapsed": false
   },
   "outputs": [
    {
     "name": "stdout",
     "output_type": "stream",
     "text": [
      "[1 1 1 1 1 1 1 1 1 1 0 0 1 1 1 0 1 1 0 1 0 1 1 1 1 1 1 1 0 1 1 0 1 1 0 0 1\n",
      " 1 1 0 0 1 1 1 1 1 1 1 0 0 1 0 1 1 1 1 1 0 0 1 1 1 1 0 1 1 1 1 1 0 1 0 0 0\n",
      " 1 1 1 0 1 0 1 1 2 1 0 1 2 0 0 1 1 1 1 1 1 2 2 0 1 0 0 0 0 0 2 2 2 1 1 0 0\n",
      " 0 0 0 1 0 2 1 2 0 1 0 1 1 1 0 1 1 0 0 1 0 1 0 0 0 1 0 0 0 2 2 1 1 1 0 0 0\n",
      " 0 1 0 1 0 0 1 1 1 2 1 0 1 0 1 1 2 1 0 0 0 1 2 1 1 1 0 1 1 2 0 1 2 1 0 1 2\n",
      " 0 1 0 1 0 0 1 0 1 1 2 1 0 1 1 0 1 1 1 1 0 1 0 1 1 0 1 1 1 0 0 1 0 1 1 1 1\n",
      " 1 1 0 0 0 1 1 0 1 1 0 1 1 0 1 1 0 1 1 1 1 1 0 0 1 0 1 1 1 1 1 1 1 1 1 1 0\n",
      " 1 1 1 1 1 1 1 0 0 1 1 2 1 1 1 1 1 1 1 1 1 1 1 1 0 1 1 1 1 1 1 1 1 1 0 1 1\n",
      " 1 0 1 1 1 1 1 1 0 1 1 1 0 1 1 1 1 1 0 1 1 1 1 1 2 1 1 1 1 1 1 0 0 1 0 1 1\n",
      " 1]\n"
     ]
    }
   ],
   "source": [
    "#Kmeans++\n",
    "K=3# Assuming to be 3 clusters!\n",
    "\n",
    "clf = cluster.KMeans(n_clusters=K, init='k-means++',  random_state=0, max_iter=300, n_init=10)                                         #initialize the k-means clustering\n",
    "clf.fit(dropPatientsDF.values)\n",
    "print (clf.labels_)\n",
    "#not good considering that the elements were ordered, almost the same as kmeans"
   ]
  },
  {
   "cell_type": "code",
   "execution_count": 26,
   "metadata": {
    "collapsed": false
   },
   "outputs": [],
   "source": [
    "#let us separate the data of the three experiments\n",
    "ApatientsDF = patientsDF[patientsDF['experiment']=='A']\n",
    "dropApatientsDF = ApatientsDF.drop(['experiment', 'patientName'], 1)\n",
    "BpatientsDF = patientsDF[patientsDF['experiment']=='B']\n",
    "dropBpatientsDF = BpatientsDF.drop(['experiment', 'patientName'], 1)\n",
    "CpatientsDF = patientsDF[patientsDF['experiment']=='C']\n",
    "dropCpatientsDF = CpatientsDF.drop(['experiment', 'patientName'], 1)"
   ]
  },
  {
   "cell_type": "code",
   "execution_count": 27,
   "metadata": {
    "collapsed": false
   },
   "outputs": [
    {
     "name": "stdout",
     "output_type": "stream",
     "text": [
      "For 2 clusters, Silhouette 0.55\n",
      "For 3 clusters, Silhouette 0.36\n",
      "For 4 clusters, Silhouette 0.31\n",
      "For 5 clusters, Silhouette 0.34\n",
      "For 6 clusters, Silhouette 0.30\n",
      "For 7 clusters, Silhouette 0.35\n",
      "For 8 clusters, Silhouette 0.32\n",
      "For 9 clusters, Silhouette 0.31\n",
      "For 10 clusters, Silhouette 0.24\n",
      "For 11 clusters, Silhouette 0.25\n",
      "For 12 clusters, Silhouette 0.23\n",
      "For 13 clusters, Silhouette 0.26\n",
      "For 14 clusters, Silhouette 0.21\n",
      "For 15 clusters, Silhouette 0.22\n",
      "For 16 clusters, Silhouette 0.26\n",
      "For 17 clusters, Silhouette 0.26\n",
      "For 18 clusters, Silhouette 0.26\n",
      "For 19 clusters, Silhouette 0.27\n",
      "For 20 clusters, Silhouette 0.26\n"
     ]
    }
   ],
   "source": [
    "#try to classify Apatients with Kmeans++ initialisation as a function of the number of clusters\n",
    "for k in range(19):\n",
    "    #K is the number if clusters, cannnot be zero and larger than one\n",
    "    K = k+2\n",
    "    clf = cluster.KMeans(n_clusters=K, init='k-means++',  random_state=0, max_iter=300, n_init=10)\n",
    "    clf.fit(dropApatientsDF.values)\n",
    "    print('For %i clusters, Silhouette %.2f' % (K, metrics.silhouette_score(dropApatientsDF.values, clf.labels_,  metric='euclidean')))\n",
    "#instead of euclidean, manhattan is worse and not that different"
   ]
  },
  {
   "cell_type": "code",
   "execution_count": 28,
   "metadata": {
    "collapsed": false
   },
   "outputs": [
    {
     "name": "stdout",
     "output_type": "stream",
     "text": [
      "For 2 clusters, Silhouette 0.55\n",
      "For 3 clusters, Silhouette 0.35\n",
      "For 4 clusters, Silhouette 0.32\n",
      "For 5 clusters, Silhouette 0.32\n",
      "For 6 clusters, Silhouette 0.23\n",
      "For 7 clusters, Silhouette 0.18\n",
      "For 8 clusters, Silhouette 0.26\n",
      "For 9 clusters, Silhouette 0.27\n",
      "For 10 clusters, Silhouette 0.20\n",
      "For 11 clusters, Silhouette 0.17\n",
      "For 12 clusters, Silhouette 0.16\n",
      "For 13 clusters, Silhouette 0.16\n",
      "For 14 clusters, Silhouette 0.12\n",
      "For 15 clusters, Silhouette 0.11\n",
      "For 16 clusters, Silhouette 0.12\n",
      "For 17 clusters, Silhouette 0.13\n",
      "For 18 clusters, Silhouette 0.16\n",
      "For 19 clusters, Silhouette 0.18\n",
      "For 20 clusters, Silhouette 0.20\n"
     ]
    }
   ],
   "source": [
    "#try to classify Apatients with Kmeans random initialisation as a function of the number of clusters\n",
    "for k in range(19):\n",
    "    #K is the number if clusters, cannnot be zero and larger than one\n",
    "    K = k+2\n",
    "    clf = cluster.KMeans(n_clusters=K, init='random',  random_state=0, max_iter=300, n_init=10)\n",
    "    clf.fit(dropApatientsDF.values)\n",
    "    print('For %i clusters, Silhouette %.2f' % (K, metrics.silhouette_score(dropApatientsDF.values, clf.labels_,  metric='euclidean')))\n",
    "#instead of euclidean, manhattan is worse and not that different\n",
    "#the only relevant difference is that for increasing number of clusters, Silhouette does not increase"
   ]
  },
  {
   "cell_type": "code",
   "execution_count": 29,
   "metadata": {
    "collapsed": false
   },
   "outputs": [
    {
     "name": "stdout",
     "output_type": "stream",
     "text": [
      "For 2 clusters, sum of variance ratio 0.8486\n",
      "For 2 clusters, Silhouette 0.55\n",
      "For 3 clusters, sum of variance ratio 0.8955\n",
      "For 3 clusters, Silhouette 0.46\n",
      "For 4 clusters, sum of variance ratio 0.9364\n",
      "For 4 clusters, Silhouette 0.48\n",
      "For 5 clusters, sum of variance ratio 0.9596\n",
      "For 5 clusters, Silhouette 0.51\n",
      "For 6 clusters, sum of variance ratio 0.9757\n",
      "For 6 clusters, Silhouette 0.47\n",
      "For 7 clusters, sum of variance ratio 0.9838\n",
      "For 7 clusters, Silhouette 0.49\n",
      "For 8 clusters, sum of variance ratio 0.9903\n",
      "For 8 clusters, Silhouette 0.40\n",
      "For 9 clusters, sum of variance ratio 0.9938\n",
      "For 9 clusters, Silhouette 0.37\n",
      "For 10 clusters, sum of variance ratio 0.9955\n",
      "For 10 clusters, Silhouette 0.37\n",
      "For 11 clusters, sum of variance ratio 0.9964\n",
      "For 11 clusters, Silhouette 0.39\n",
      "For 12 clusters, sum of variance ratio 0.9972\n",
      "For 12 clusters, Silhouette 0.40\n",
      "For 13 clusters, sum of variance ratio 0.9979\n",
      "For 13 clusters, Silhouette 0.42\n",
      "For 14 clusters, sum of variance ratio 0.9984\n",
      "For 14 clusters, Silhouette 0.44\n",
      "For 15 clusters, sum of variance ratio 0.9988\n",
      "For 15 clusters, Silhouette 0.40\n",
      "For 16 clusters, sum of variance ratio 0.9990\n",
      "For 16 clusters, Silhouette 0.37\n",
      "For 17 clusters, sum of variance ratio 0.9992\n",
      "For 17 clusters, Silhouette 0.46\n",
      "For 18 clusters, sum of variance ratio 0.9994\n",
      "For 18 clusters, Silhouette 0.46\n",
      "For 19 clusters, sum of variance ratio 0.9995\n",
      "For 19 clusters, Silhouette 0.44\n",
      "For 20 clusters, sum of variance ratio 0.9996\n",
      "For 20 clusters, Silhouette 0.40\n"
     ]
    }
   ],
   "source": [
    "#try to classify Apatients with Kmeans using PCA initialisation as a function of the number of clusters\n",
    "#remember that n_components has to satisfy min(n_samples, n_features), so here n_components=n_clusters is considered\n",
    "for k in range(19):\n",
    "    K = k+2\n",
    "    pca = PCA(n_components=K)\n",
    "    AnewdataPCA = pca.fit_transform(dropApatientsDF.values)  # concatenates vectors row by row\n",
    "    print('For %i clusters, sum of variance ratio %.4f' % (K, (pca.explained_variance_ratio_).sum()))\n",
    "    clf = cluster.KMeans(n_clusters=K, init=pca.components_, max_iter=300, n_init=1)\n",
    "    clf.fit(dropApatientsDF.values)\n",
    "    print('For %i clusters, Silhouette %.2f' % (K, metrics.silhouette_score(dropApatientsDF.values, clf.labels_,  metric='euclidean')))"
   ]
  },
  {
   "cell_type": "code",
   "execution_count": 30,
   "metadata": {
    "collapsed": false
   },
   "outputs": [
    {
     "data": {
      "image/png": "[encoded data removed]",
      "text/plain": [
       "<matplotlib.figure.Figure at 0x10a733908>"
      ]
     },
     "metadata": {},
     "output_type": "display_data"
    }
   ],
   "source": [
    "# so two clusters seems the best\n",
    "#perform the PCA and Kmeans with this\n",
    "pca = PCA(n_components=2)\n",
    "AnewdataPCA = pca.fit_transform(dropApatientsDF.values)  # concatenates vectors row by row\n",
    "clf = cluster.KMeans(n_clusters=2, init=pca.components_, max_iter=300, n_init=1)\n",
    "clf.fit(dropApatientsDF.values)\n",
    "\n",
    "#prepare the data\n",
    "plotApatientsDF = ApatientsDF.copy()\n",
    "plotApatientsDF['cluster'] = clf.labels_\n",
    "plotApatientsDF['PCA_x'] = AnewdataPCA.T[0]\n",
    "plotApatientsDF['PCA_y'] = AnewdataPCA.T[1]\n",
    "#dataframe is sorted by cluster type: 0 or 1\n",
    "plotApatientsDF.sort_values(by='cluster', ascending= True, inplace=True)\n",
    "\n",
    "#indexes\n",
    "number0 = len(plotApatientsDF[plotApatientsDF['cluster']==0])\n",
    "number1 = len(plotApatientsDF[plotApatientsDF['cluster']==1])\n",
    "\n",
    "#plot in two dimensions\n",
    "fig = plt.figure(figsize=(8,8))\n",
    "plt.rcParams['legend.fontsize'] = 10\n",
    "\n",
    "plt.plot(plotApatientsDF['PCA_x'].values[0:number0], plotApatientsDF['PCA_y'].values[0:number0], 'o', markersize=8, color='blue', alpha=0.5, label='0')\n",
    "plt.plot(plotApatientsDF['PCA_x'].values[number0:], plotApatientsDF['PCA_y'].values[number0:], '^', markersize=8, alpha=0.5, color='red', label='1')\n",
    "\n",
    "plt.title('Samples for experiment A, clustering')\n",
    "plt.show()\n",
    "\n",
    "plotApatientsDF.to_csv('kmeansApatients.csv', sep=',', encoding='utf-8')\n",
    "# this plot is quite clear, does it separate between TDA and not TDA?\n",
    "#pca.components_ gives the components of the PCA; in other words the linear combination of the original variables tow get the PCA components"
   ]
  },
  {
   "cell_type": "code",
   "execution_count": 34,
   "metadata": {
    "collapsed": false
   },
   "outputs": [
    {
     "name": "stdout",
     "output_type": "stream",
     "text": [
      "Kmeans++\n",
      "For 2 clusters, Silhouette 0.54\n",
      "For 3 clusters, Silhouette 0.44\n",
      "For 4 clusters, Silhouette 0.36\n",
      "For 5 clusters, Silhouette 0.33\n",
      "For 6 clusters, Silhouette 0.32\n",
      "For 7 clusters, Silhouette 0.26\n",
      "For 8 clusters, Silhouette 0.26\n",
      "For 9 clusters, Silhouette 0.25\n",
      "For 10 clusters, Silhouette 0.20\n",
      "For 11 clusters, Silhouette 0.23\n",
      "For 12 clusters, Silhouette 0.24\n",
      "For 13 clusters, Silhouette 0.20\n",
      "For 14 clusters, Silhouette 0.22\n",
      "For 15 clusters, Silhouette 0.20\n",
      "For 16 clusters, Silhouette 0.24\n",
      "For 17 clusters, Silhouette 0.21\n",
      "For 18 clusters, Silhouette 0.24\n",
      "For 19 clusters, Silhouette 0.23\n",
      "For 20 clusters, Silhouette 0.22\n",
      "Kmeans random\n",
      "For 2 clusters, Silhouette 0.54\n",
      "For 3 clusters, Silhouette 0.44\n",
      "For 4 clusters, Silhouette 0.35\n",
      "For 5 clusters, Silhouette 0.30\n",
      "For 6 clusters, Silhouette 0.24\n",
      "For 7 clusters, Silhouette 0.20\n",
      "For 8 clusters, Silhouette 0.23\n",
      "For 9 clusters, Silhouette 0.17\n",
      "For 10 clusters, Silhouette 0.23\n",
      "For 11 clusters, Silhouette 0.13\n",
      "For 12 clusters, Silhouette 0.15\n",
      "For 13 clusters, Silhouette 0.20\n",
      "For 14 clusters, Silhouette 0.17\n",
      "For 15 clusters, Silhouette 0.18\n",
      "For 16 clusters, Silhouette 0.14\n",
      "For 17 clusters, Silhouette 0.13\n",
      "For 18 clusters, Silhouette 0.13\n",
      "For 19 clusters, Silhouette 0.12\n",
      "For 20 clusters, Silhouette 0.12\n",
      "Kmeans PCA\n",
      "For 2 clusters, sum of variance ratio 0.9043\n",
      "For 2 clusters, Silhouette 0.54\n",
      "For 3 clusters, sum of variance ratio 0.9348\n",
      "For 3 clusters, Silhouette 0.52\n",
      "For 4 clusters, sum of variance ratio 0.9543\n",
      "For 4 clusters, Silhouette 0.46\n",
      "For 5 clusters, sum of variance ratio 0.9679\n",
      "For 5 clusters, Silhouette 0.37\n",
      "For 6 clusters, sum of variance ratio 0.9787\n",
      "For 6 clusters, Silhouette 0.39\n",
      "For 7 clusters, sum of variance ratio 0.9884\n",
      "For 7 clusters, Silhouette 0.35\n",
      "For 8 clusters, sum of variance ratio 0.9928\n",
      "For 8 clusters, Silhouette 0.34\n",
      "For 9 clusters, sum of variance ratio 0.9964\n",
      "For 9 clusters, Silhouette 0.37\n",
      "For 10 clusters, sum of variance ratio 0.9974\n",
      "For 10 clusters, Silhouette 0.39\n",
      "For 11 clusters, sum of variance ratio 0.9981\n",
      "For 11 clusters, Silhouette 0.40\n",
      "For 12 clusters, sum of variance ratio 0.9985\n",
      "For 12 clusters, Silhouette 0.39\n",
      "For 13 clusters, sum of variance ratio 0.9988\n",
      "For 13 clusters, Silhouette 0.36\n",
      "For 14 clusters, sum of variance ratio 0.9990\n",
      "For 14 clusters, Silhouette 0.36\n",
      "For 15 clusters, sum of variance ratio 0.9991\n",
      "For 15 clusters, Silhouette 0.38\n",
      "For 16 clusters, sum of variance ratio 0.9992\n",
      "For 16 clusters, Silhouette 0.35\n",
      "For 17 clusters, sum of variance ratio 0.9993\n",
      "For 17 clusters, Silhouette 0.35\n",
      "For 18 clusters, sum of variance ratio 0.9994\n",
      "For 18 clusters, Silhouette 0.33\n",
      "For 19 clusters, sum of variance ratio 0.9995\n",
      "For 19 clusters, Silhouette 0.36\n",
      "For 20 clusters, sum of variance ratio 0.9996\n",
      "For 20 clusters, Silhouette 0.33\n"
     ]
    }
   ],
   "source": [
    "#analogous for Bpatients\n",
    "print ('Kmeans++')\n",
    "for k in range(19):\n",
    "    #K is the number if clusters, cannnot be zero and larger than one\n",
    "    K = k+2\n",
    "    clf = cluster.KMeans(n_clusters=K, init='k-means++',  random_state=0, max_iter=300, n_init=10)\n",
    "    clf.fit(dropBpatientsDF.values)\n",
    "    print('For %i clusters, Silhouette %.2f' % (K, metrics.silhouette_score(dropBpatientsDF.values, clf.labels_,  metric='euclidean')))\n",
    "print ('Kmeans random')\n",
    "for k in range(19):\n",
    "    #K is the number if clusters, cannnot be zero and larger than one\n",
    "    K = k+2\n",
    "    clf = cluster.KMeans(n_clusters=K, init='random', random_state=0, max_iter=300, n_init=10)\n",
    "    clf.fit(dropBpatientsDF.values)\n",
    "    print('For %i clusters, Silhouette %.2f' % (K, metrics.silhouette_score(dropBpatientsDF.values, clf.labels_,  metric='euclidean')))\n",
    "print ('Kmeans PCA')\n",
    "for k in range(19):\n",
    "    K = k+2\n",
    "    pca = PCA(n_components=K)\n",
    "    BnewdataPCA = pca.fit_transform(dropBpatientsDF.values)  # concatenates vectors row by row\n",
    "    print('For %i clusters, sum of variance ratio %.4f' % (K, (pca.explained_variance_ratio_).sum()))\n",
    "    clf = cluster.KMeans(n_clusters=K, init=pca.components_, max_iter=300, n_init=1)\n",
    "    clf.fit(dropBpatientsDF.values)\n",
    "    print('For %i clusters, Silhouette %.2f' % (K, metrics.silhouette_score(dropBpatientsDF.values, clf.labels_,  metric='euclidean')))"
   ]
  },
  {
   "cell_type": "code",
   "execution_count": 44,
   "metadata": {
    "collapsed": false,
    "scrolled": true
   },
   "outputs": [
    {
     "data": {
      "image/png": "[encoded data removed]",
      "text/plain": [
       "<matplotlib.figure.Figure at 0x10ab69f60>"
      ]
     },
     "metadata": {},
     "output_type": "display_data"
    }
   ],
   "source": [
    "# plot for B patients\n",
    "pca = PCA(n_components=2)\n",
    "BnewdataPCA = pca.fit_transform(dropBpatientsDF.values)  # concatenates vectors row by row\n",
    "clf = cluster.KMeans(n_clusters=2, init=pca.components_, max_iter=300, n_init=1)\n",
    "clf.fit(dropBpatientsDF.values)\n",
    "\n",
    "#prepare the data\n",
    "plotBpatientsDF = BpatientsDF.copy()\n",
    "plotBpatientsDF['cluster'] = clf.labels_\n",
    "plotBpatientsDF['PCA_x'] = BnewdataPCA.T[0]\n",
    "plotBpatientsDF['PCA_y'] = BnewdataPCA.T[1]\n",
    "#dataframe is sorted by cluster type: 0 or 1\n",
    "plotBpatientsDF.sort_values(by='cluster', ascending= True, inplace=True)\n",
    "\n",
    "#indexes\n",
    "number0 = len(plotBpatientsDF[plotBpatientsDF['cluster']==0])\n",
    "number1 = len(plotBpatientsDF[plotBpatientsDF['cluster']==1])\n",
    "\n",
    "#plot in two dimensions\n",
    "fig = plt.figure(figsize=(8,8))\n",
    "plt.rcParams['legend.fontsize'] = 10\n",
    "\n",
    "plt.plot(plotBpatientsDF['PCA_x'].values[0:number0], plotBpatientsDF['PCA_y'].values[0:number0], 'o', markersize=8, color='blue', alpha=0.5, label='0')\n",
    "plt.plot(plotBpatientsDF['PCA_x'].values[number0:], plotBpatientsDF['PCA_y'].values[number0:], '^', markersize=8, alpha=0.5, color='red', label='1')\n",
    "\n",
    "plt.title('Samples for experiment B, clustering')\n",
    "plt.show()\n",
    "\n",
    "plotBpatientsDF.to_csv('kmeansBpatients.csv', sep=',', encoding='utf-8')"
   ]
  },
  {
   "cell_type": "code",
   "execution_count": 45,
   "metadata": {
    "collapsed": false
   },
   "outputs": [
    {
     "name": "stdout",
     "output_type": "stream",
     "text": [
      "TSNE\n",
      "<class 'numpy.ndarray'>\n"
     ]
    },
    {
     "data": {
      "image/png": "[encoded data removed]",
      "text/plain": [
       "<matplotlib.figure.Figure at 0x10b790a20>"
      ]
     },
     "metadata": {},
     "output_type": "display_data"
    }
   ],
   "source": [
    "from sklearn.manifold import TSNE\n",
    "model_tsne = TSNE(n_components=2, random_state=0)\n",
    "Y = model_tsne.fit_transform(dropBpatientsDF.values)\n",
    "print('TSNE')\n",
    "print(type(Y))\n",
    "import pandas as pd\n",
    "import seaborn as sns\n",
    "\n",
    "data = {\"x\": [], \"y\": [], \"cluster\": []}\n",
    "for i in range(len(dropBpatientsDF)):\n",
    "    data[\"x\"].append(Y[i][0])\n",
    "    data[\"y\"].append(Y[i][1])\n",
    "    data[\"cluster\"].append(clf.labels_[i])\n",
    "df = pd.DataFrame(data)\n",
    "sns.lmplot(\"x\", \"y\", data=df,\n",
    "           fit_reg=False, size=10,\n",
    "           hue=\"cluster\", legend=True)\n",
    "plt.show()"
   ]
  },
  {
   "cell_type": "code",
   "execution_count": 38,
   "metadata": {
    "collapsed": false
   },
   "outputs": [
    {
     "name": "stdout",
     "output_type": "stream",
     "text": [
      "Kmeans++\n",
      "For 2 clusters, Silhouette 0.70\n",
      "For 3 clusters, Silhouette 0.42\n",
      "For 4 clusters, Silhouette 0.42\n",
      "For 5 clusters, Silhouette 0.32\n",
      "For 6 clusters, Silhouette 0.34\n",
      "For 7 clusters, Silhouette 0.35\n",
      "For 8 clusters, Silhouette 0.32\n",
      "For 9 clusters, Silhouette 0.31\n",
      "For 10 clusters, Silhouette 0.33\n",
      "For 11 clusters, Silhouette 0.22\n",
      "For 12 clusters, Silhouette 0.26\n",
      "For 13 clusters, Silhouette 0.23\n",
      "For 14 clusters, Silhouette 0.19\n",
      "For 15 clusters, Silhouette 0.19\n",
      "For 16 clusters, Silhouette 0.20\n",
      "For 17 clusters, Silhouette 0.19\n",
      "For 18 clusters, Silhouette 0.19\n",
      "For 19 clusters, Silhouette 0.18\n",
      "For 20 clusters, Silhouette 0.20\n",
      "Kmeans random\n",
      "For 2 clusters, Silhouette 0.53\n",
      "For 3 clusters, Silhouette 0.42\n",
      "For 4 clusters, Silhouette 0.41\n",
      "For 5 clusters, Silhouette 0.32\n",
      "For 6 clusters, Silhouette 0.32\n",
      "For 7 clusters, Silhouette 0.23\n",
      "For 8 clusters, Silhouette 0.19\n",
      "For 9 clusters, Silhouette 0.16\n",
      "For 10 clusters, Silhouette 0.14\n",
      "For 11 clusters, Silhouette 0.15\n",
      "For 12 clusters, Silhouette 0.14\n",
      "For 13 clusters, Silhouette 0.13\n",
      "For 14 clusters, Silhouette 0.12\n",
      "For 15 clusters, Silhouette 0.12\n",
      "For 16 clusters, Silhouette 0.13\n",
      "For 17 clusters, Silhouette 0.13\n",
      "For 18 clusters, Silhouette 0.13\n",
      "For 19 clusters, Silhouette 0.14\n",
      "For 20 clusters, Silhouette 0.13\n",
      "Kmeans PCA\n",
      "For 2 clusters, sum of variance ratio 0.8689\n",
      "For 2 clusters, Silhouette 0.70\n",
      "For 3 clusters, sum of variance ratio 0.9046\n",
      "For 3 clusters, Silhouette 0.51\n",
      "For 4 clusters, sum of variance ratio 0.9325\n",
      "For 4 clusters, Silhouette 0.43\n",
      "For 5 clusters, sum of variance ratio 0.9516\n",
      "For 5 clusters, Silhouette 0.41\n",
      "For 6 clusters, sum of variance ratio 0.9665\n",
      "For 6 clusters, Silhouette 0.32\n",
      "For 7 clusters, sum of variance ratio 0.9788\n",
      "For 7 clusters, Silhouette 0.30\n",
      "For 8 clusters, sum of variance ratio 0.9875\n",
      "For 8 clusters, Silhouette 0.27\n",
      "For 9 clusters, sum of variance ratio 0.9933\n",
      "For 9 clusters, Silhouette 0.35\n",
      "For 10 clusters, sum of variance ratio 0.9947\n",
      "For 10 clusters, Silhouette 0.31\n",
      "For 11 clusters, sum of variance ratio 0.9956\n",
      "For 11 clusters, Silhouette 0.31\n",
      "For 12 clusters, sum of variance ratio 0.9964\n",
      "For 12 clusters, Silhouette 0.28\n",
      "For 13 clusters, sum of variance ratio 0.9970\n",
      "For 13 clusters, Silhouette 0.29\n",
      "For 14 clusters, sum of variance ratio 0.9974\n",
      "For 14 clusters, Silhouette 0.29\n",
      "For 15 clusters, sum of variance ratio 0.9977\n",
      "For 15 clusters, Silhouette 0.31\n",
      "For 16 clusters, sum of variance ratio 0.9981\n",
      "For 16 clusters, Silhouette 0.32\n",
      "For 17 clusters, sum of variance ratio 0.9984\n",
      "For 17 clusters, Silhouette 0.32\n",
      "For 18 clusters, sum of variance ratio 0.9986\n",
      "For 18 clusters, Silhouette 0.32\n",
      "For 19 clusters, sum of variance ratio 0.9988\n",
      "For 19 clusters, Silhouette 0.32\n",
      "For 20 clusters, sum of variance ratio 0.9990\n",
      "For 20 clusters, Silhouette 0.33\n"
     ]
    }
   ],
   "source": [
    "#analogous for Cpatients\n",
    "print ('Kmeans++')\n",
    "for k in range(19):\n",
    "    #K is the number if clusters, cannnot be zero and larger than one\n",
    "    K = k+2\n",
    "    clf = cluster.KMeans(n_clusters=K, init='k-means++',  random_state=0, max_iter=300, n_init=10)\n",
    "    clf.fit(dropCpatientsDF.values)\n",
    "    print('For %i clusters, Silhouette %.2f' % (K, metrics.silhouette_score(dropCpatientsDF.values, clf.labels_,  metric='euclidean')))\n",
    "print ('Kmeans random')\n",
    "for k in range(19):\n",
    "    #K is the number if clusters, cannnot be zero and larger than one\n",
    "    K = k+2\n",
    "    clf = cluster.KMeans(n_clusters=K, init='random',  random_state=0, max_iter=300, n_init=10)\n",
    "    clf.fit(dropCpatientsDF.values)\n",
    "    print('For %i clusters, Silhouette %.2f' % (K, metrics.silhouette_score(dropCpatientsDF.values, clf.labels_,  metric='euclidean')))\n",
    "print ('Kmeans PCA')\n",
    "for k in range(19):\n",
    "    K = k+2\n",
    "    pca = PCA(n_components=K)\n",
    "    CnewdataPCA = pca.fit_transform(dropCpatientsDF.values)  # concatenates vectors row by row\n",
    "    print('For %i clusters, sum of variance ratio %.4f' % (K, (pca.explained_variance_ratio_).sum()))\n",
    "    clf = cluster.KMeans(n_clusters=K, init=pca.components_, max_iter=300, n_init=1)\n",
    "    clf.fit(dropCpatientsDF.values)\n",
    "    print('For %i clusters, Silhouette %.2f' % (K, metrics.silhouette_score(dropCpatientsDF.values, clf.labels_,  metric='euclidean')))"
   ]
  },
  {
   "cell_type": "code",
   "execution_count": 42,
   "metadata": {
    "collapsed": false,
    "scrolled": true
   },
   "outputs": [
    {
     "data": {
      "image/png": "[encoded data removed]",
      "text/plain": [
       "<matplotlib.figure.Figure at 0x10b467748>"
      ]
     },
     "metadata": {},
     "output_type": "display_data"
    }
   ],
   "source": [
    "# plot for C patients\n",
    "pca = PCA(n_components=2)\n",
    "CnewdataPCA = pca.fit_transform(dropCpatientsDF.values)  # concatenates vectors row by row\n",
    "clf = cluster.KMeans(n_clusters=2, init=pca.components_, max_iter=300, n_init=1)\n",
    "clf.fit(dropCpatientsDF.values)\n",
    "\n",
    "#prepare the data\n",
    "plotCpatientsDF = CpatientsDF.copy()\n",
    "plotCpatientsDF['cluster'] = clf.labels_\n",
    "plotCpatientsDF['PCA_x'] = CnewdataPCA.T[0]\n",
    "plotCpatientsDF['PCA_y'] = CnewdataPCA.T[1]\n",
    "#dataframe is sorted by cluster type: 0 or 1\n",
    "plotCpatientsDF.sort_values(by='cluster', ascending= True, inplace=True)\n",
    "\n",
    "#indexes\n",
    "number0 = len(plotCpatientsDF[plotCpatientsDF['cluster']==0])\n",
    "number1 = len(plotCpatientsDF[plotCpatientsDF['cluster']==1])\n",
    "\n",
    "#plot in two dimensions\n",
    "fig = plt.figure(figsize=(8,8))\n",
    "plt.rcParams['legend.fontsize'] = 10\n",
    "\n",
    "plt.plot(plotCpatientsDF['PCA_x'].values[0:number0], plotCpatientsDF['PCA_y'].values[0:number0], 'o', markersize=8, color='blue', alpha=0.5, label='0')\n",
    "plt.plot(plotCpatientsDF['PCA_x'].values[number0:], plotCpatientsDF['PCA_y'].values[number0:], '^', markersize=8, alpha=0.5, color='red', label='1')\n",
    "\n",
    "plt.title('Samples for experiment C, clustering')\n",
    "plt.show()\n",
    "\n",
    "plotCpatientsDF.to_csv('kmeansCpatients.csv', sep=',', encoding='utf-8')"
   ]
  },
  {
   "cell_type": "code",
   "execution_count": 41,
   "metadata": {
    "collapsed": false,
    "scrolled": true
   },
   "outputs": [
    {
     "name": "stdout",
     "output_type": "stream",
     "text": [
      "TSNE\n",
      "<class 'numpy.ndarray'>\n"
     ]
    },
    {
     "data": {
      "image/png": "[encoded data removed]",
      "text/plain": [
       "<matplotlib.figure.Figure at 0x10b467c88>"
      ]
     },
     "metadata": {},
     "output_type": "display_data"
    }
   ],
   "source": [
    "from sklearn.manifold import TSNE\n",
    "model_tsne = TSNE(n_components=2, random_state=0)\n",
    "Y = model_tsne.fit_transform(dropCpatientsDF.values)\n",
    "print('TSNE')\n",
    "print(type(Y))\n",
    "import pandas as pd\n",
    "import seaborn as sns\n",
    "\n",
    "data = {\"x\": [], \"y\": [], \"cluster\": []}\n",
    "for i in range(len(dropCpatientsDF)):\n",
    "    data[\"x\"].append(Y[i][0])\n",
    "    data[\"y\"].append(Y[i][1])\n",
    "    data[\"cluster\"].append(clf.labels_[i])\n",
    "df = pd.DataFrame(data)\n",
    "sns.lmplot(\"x\", \"y\", data=df,\n",
    "           fit_reg=False, size=10,\n",
    "           hue=\"cluster\", legend=True)\n",
    "plt.show()"
   ]
  },
  {
   "cell_type": "code",
   "execution_count": null,
   "metadata": {
    "collapsed": true
   },
   "outputs": [],
   "source": []
  },
  {
   "cell_type": "code",
   "execution_count": 74,
   "metadata": {
    "collapsed": false
   },
   "outputs": [],
   "source": [
    "# Note: the statistical weight of the Band Power Ratios is not comparable to the other 56, to me open to discussion"
   ]
  }
 ],
 "metadata": {
  "kernelspec": {
   "display_name": "Python 3",
   "language": "python",
   "name": "python3"
  },
  "language_info": {
   "codemirror_mode": {
    "name": "ipython",
    "version": 3
   },
   "file_extension": ".py",
   "mimetype": "text/x-python",
   "name": "python",
   "nbconvert_exporter": "python",
   "pygments_lexer": "ipython3",
   "version": "3.5.1"
  }
 },
 "nbformat": 4,
 "nbformat_minor": 0
}
