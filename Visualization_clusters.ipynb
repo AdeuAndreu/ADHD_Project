{
 "cells": [
  {
   "cell_type": "code",
   "execution_count": null,
   "metadata": {
    "collapsed": false
   },
   "outputs": [],
   "source": [
    "%reset"
   ]
  },
  {
   "cell_type": "markdown",
   "metadata": {},
   "source": [
    "## 0. Set Paths and Imports"
   ]
  },
  {
   "cell_type": "code",
   "execution_count": 131,
   "metadata": {
    "collapsed": true
   },
   "outputs": [],
   "source": [
    "# SET PATHS\n",
    "\n",
    "mainPath = 'C:/Users/cgiron/Documents/PROYECTO UB/'\n",
    "\n",
    "#Path where raw data has been stored\n",
    "rawDataPath = mainPath + \"Raw_Data/UB_Features_V2/\"\n",
    "\n",
    "#Path where plots can be stored\n",
    "pathToSavePairPlot = mainPath + 'ADHD_Project_UB/ADHD_Project/images/pairplots/'\n",
    "\n",
    "pathCSV = mainPath + 'ADHD_Project_UB/ADHD_Project/resultsClustering_doming10.csv'\n",
    "brainPath = mainPath + 'ADHD_Project_UB/brain.png'"
   ]
  },
  {
   "cell_type": "code",
   "execution_count": 2,
   "metadata": {
    "collapsed": true
   },
   "outputs": [],
   "source": [
    "# IMPORTS\n",
    "\n",
    "import numpy as np\n",
    "import scipy.io as sio\n",
    "import pandas as pd\n",
    "import os\n",
    "import re\n",
    "import matplotlib.pyplot as plt\n",
    "import seaborn as sns\n",
    "from sklearn.decomposition import PCA\n",
    "import matplotlib.pyplot as plt\n",
    "from mpl_toolkits.mplot3d import proj3d\n",
    "from scipy.cluster.hierarchy import dendrogram, linkage\n",
    "from scipy.cluster.hierarchy import cophenet\n",
    "from scipy.spatial.distance import pdist\n",
    "import numpy as np\n",
    "import matplotlib.pyplot as plt\n",
    "from sklearn.preprocessing import StandardScaler\n",
    "\n",
    "import mne\n",
    "from mne.datasets import sample\n",
    "from mne.minimum_norm import apply_inverse_epochs, read_inverse_operator\n",
    "from mne.connectivity import spectral_connectivity\n",
    "from mne.viz import circular_layout, plot_connectivity_circle\n",
    "\n",
    "import matplotlib.patches as mpatches\n"
   ]
  },
  {
   "cell_type": "markdown",
   "metadata": {},
   "source": [
    "## 1. Load Data"
   ]
  },
  {
   "cell_type": "markdown",
   "metadata": {},
   "source": [
    "Load data Fuction"
   ]
  },
  {
   "cell_type": "code",
   "execution_count": 3,
   "metadata": {
    "collapsed": true
   },
   "outputs": [],
   "source": [
    "#LOAD DATA: path where files have been stored need to be set before loading this script\n",
    "def load( path ):\n",
    "    #columns for the band powers\n",
    "    filenames = os.listdir(path)\n",
    "\n",
    "    #electrodes names\n",
    "    electrodes = ['Fp1', 'F3', 'C3', 'Fz', 'Cz', 'Fp2', 'F4', 'C4']\n",
    "\n",
    "    #bandPower names\n",
    "    bandPower = ['Theta2+Alpha1', 'Theta', 'Alpha', 'Beta_Global', 'Beta_Alta', 'Beta_Baja', 'Gamma']\n",
    "\n",
    "    #let us create the real dataframe\n",
    "    #columns for the band powers\n",
    "    columns_df=[]\n",
    "    for i in electrodes:\n",
    "        for j in bandPower:\n",
    "            combination = i + '_(' + j + ')'\n",
    "            columns_df.append(combination)\n",
    "\n",
    "    #columns for the band power ratios\n",
    "    columns_df2 = ['BPR_Fp1', 'BPR_F3', 'BPR_C3', 'BPR_Fz', 'BPR_Cz', 'BPR_Fp2', 'BPR_F4', 'BPR_C4']\n",
    "\n",
    "    #patterns to determine experiments\n",
    "    patternA = r'[\\w]+A\\.mat'\n",
    "    patternB = r'[\\w]+B\\.mat'\n",
    "    patternC = r'[\\w]+C\\.mat'\n",
    "\n",
    "    #define the list of dataframes\n",
    "    list_df=[]\n",
    "    for i in filenames:\n",
    "        patient = sio.loadmat(path + i)\n",
    "        bandPowerDF = pd.DataFrame(patient['BandPower'].reshape(1,56), columns = columns_df)\n",
    "        bandPowerRatioDF = pd.DataFrame(patient['BandPowerRatio'].reshape(1,8), columns = columns_df2)\n",
    "        patientDF =  pd.concat([bandPowerDF, bandPowerRatioDF], axis=1)\n",
    "        #patientDF = pd.DataFrame(patient['BandPower'].reshape(1,56), columns = columns_df)\n",
    "        patientDF['patientName'] = i.split('.mat')[0]\n",
    "        \n",
    "        if re.match(patternA,i) != None:\n",
    "            patientDF['experiment'] = 'A'\n",
    "        elif re.match(patternB,i) != None:\n",
    "            patientDF['experiment'] = 'B'\n",
    "        elif re.match(patternC,i) != None:\n",
    "            patientDF['experiment'] = 'C'\n",
    "                \n",
    "        list_df.append(patientDF)\n",
    "\n",
    "    #via the concat all the dataframes are concatenated\n",
    "    patientsDF = pd.concat(list_df)\n",
    "    #nans are dropped\n",
    "    patientsDF = patientsDF.dropna(how='any')\n",
    "\n",
    "    #dataframe is sorted by experiment type: order A, B and C\n",
    "    patientsDF.sort_values(by='experiment', ascending= True, inplace=True)\n",
    "\n",
    "    #indexs are reset\n",
    "    #patientsDF = patientsDF.reset_index(drop = True)\n",
    "\n",
    "    #indexs are set according to the patient file\n",
    "    patientsDF.set_index(['patientName'], inplace=True)\n",
    "    #Return resulting data frame with all patients\n",
    "    return ( patientsDF )"
   ]
  },
  {
   "cell_type": "code",
   "execution_count": null,
   "metadata": {
    "collapsed": false
   },
   "outputs": [],
   "source": [
    "patientsDF = load ( rawDataPath )\n",
    "patientsDF.head()"
   ]
  },
  {
   "cell_type": "markdown",
   "metadata": {},
   "source": [
    "Normalization data function"
   ]
  },
  {
   "cell_type": "code",
   "execution_count": 110,
   "metadata": {
    "collapsed": false
   },
   "outputs": [],
   "source": [
    "#Normalize data per experiment\n",
    "def normalizeData ( dfValues ):\n",
    " #   dfValues = patientsDF.drop( ['experiment'],1 ).copy()\n",
    "    patientsNames = dfValues.index\n",
    "    columnsNames = dfValues.columns\n",
    "\n",
    "    dfNorm = StandardScaler().fit_transform( dfValues )\n",
    "    dfResult = pd.DataFrame( dfNorm, index = patientsNames, columns = columnsNames )\n",
    "\n",
    "    return ( dfResult )\n"
   ]
  },
  {
   "cell_type": "code",
   "execution_count": null,
   "metadata": {
    "collapsed": false
   },
   "outputs": [],
   "source": [
    "dataFrame = patientsDF.drop('experiment', 1).copy()\n",
    "normsPatientsDF =  normalizeData ( dataFrame ).copy()\n",
    "normsPatientsDF.head()"
   ]
  },
  {
   "cell_type": "markdown",
   "metadata": {},
   "source": [
    "Add cluster label"
   ]
  },
  {
   "cell_type": "code",
   "execution_count": 5,
   "metadata": {
    "collapsed": true
   },
   "outputs": [],
   "source": [
    "def addLabel ( pathCSV, dataFrame ):\n",
    "    dfClustering = pd.read_csv( pathCSV )\n",
    "    dfClustering.index = dfClustering['patientName']\n",
    "    result = dataFrame.reset_index().merge( dfClustering, how = 'inner').set_index('patientName')\n",
    "    return ( result )"
   ]
  },
  {
   "cell_type": "code",
   "execution_count": null,
   "metadata": {
    "collapsed": false
   },
   "outputs": [],
   "source": [
    "finalPatientsDF = addLabel ( pathCSV, dataFrame ).copy()\n",
    "finalPatientsDF.head()"
   ]
  },
  {
   "cell_type": "markdown",
   "metadata": {},
   "source": [
    "## 2. PairPlots"
   ]
  },
  {
   "cell_type": "code",
   "execution_count": 6,
   "metadata": {
    "collapsed": true
   },
   "outputs": [],
   "source": [
    "# %load pairPlots.py\n",
    "## Pair plots per electrode and experiment (including bandPower at the end)\n",
    "#electrodes: List of electrodes to be ploted\n",
    "#bandPower: List of bands to be ploted\n",
    "#pathToSavePlot: path where to save pairplots\n",
    "\n",
    "def pairPlotsPerExperiment ( patientsDF, electrodes, bandPower, pathToSavePlot, title ):\n",
    "    \n",
    "    bandColumns = [ ]\n",
    "    bandPowerColumns = [ ]\n",
    "    for i in electrodes:\n",
    "        for j in bandPower:\n",
    "            combinationBand = i + '_(' + j + ')'\n",
    "            bandColumns.append( combinationBand )\n",
    "            combinationPower = 'BPR_' + i \n",
    "            bandPowerColumns.append( combinationPower )\n",
    "    numberOfBandPower = len ( bandPower )\n",
    "    \n",
    "    for i in range( 0, len( bandColumns ) - 1, numberOfBandPower ):\n",
    "        electrodePossition = int( (i + 1 ) / numberOfBandPower )\n",
    "        electrodeBand =  bandColumns[ i : i + numberOfBandPower ]\n",
    "        electrodeBand.append( bandPowerColumns[ electrodePossition ] )\n",
    "        df = patientsDF[ electrodeBand ]\n",
    "        plot = sns.pairplot(df)\n",
    "        electrode = electrodes[ electrodePossition ]\n",
    "        picPath = pathToSavePlot + electrode + title + \".png\"\n",
    "        plotTitle = title + \" - \"\n",
    "        plt.title( plotTitle )\n",
    "        \n",
    "        plot.savefig( picPath )\n",
    "        print (\"Pair-plot for the electrode \" + electrode +  \" has been saved\")\n",
    "        plt.close('all')\n",
    "\n",
    "######\n",
    "## HOW TO USE IT: EXAMPLE\n",
    "##patientsDF = loadData( path )\n",
    "##electrodes = ['Fp1', 'F3', 'C3', 'Fz', 'Cz', 'Fp2', 'F4', 'C4']\n",
    "##bandPower = ['Theta', 'Theta2+Alpha1', 'Alpha', 'Beta_Global']\n",
    "##pathToSavePlot = mainPath + \"Plots/\"\n",
    "##pairPlotsPerExperiment ( patientsDF, electrodes, bandPower, pathToSavePlot )\n",
    "##\n",
    "######"
   ]
  },
  {
   "cell_type": "code",
   "execution_count": null,
   "metadata": {
    "collapsed": false
   },
   "outputs": [],
   "source": [
    "pathToSavePlot"
   ]
  },
  {
   "cell_type": "code",
   "execution_count": null,
   "metadata": {
    "collapsed": false
   },
   "outputs": [],
   "source": [
    "patientsDF = load ( rawDataPath )\n",
    "dataFrame = patientsDF[patientsDF.experiment == 'C'].copy()\n",
    "electrodes = ['Fp1', 'F3', 'C3', 'Fz', 'Cz', 'Fp2', 'F4', 'C4']\n",
    "bandPower = ['Theta', 'Theta2+Alpha1', 'Alpha', 'Beta_Global', 'Gamma']\n",
    "title = \"Experimento C\"\n",
    "pairPlotsPerExperiment ( dataFrame, electrodes, bandPower, pathToSavePairPlot, title )"
   ]
  },
  {
   "cell_type": "markdown",
   "metadata": {},
   "source": [
    "## 3. Correlation graph plot"
   ]
  },
  {
   "cell_type": "code",
   "execution_count": 86,
   "metadata": {
    "collapsed": true
   },
   "outputs": [],
   "source": [
    "def corrGraphPlot( dataFrame, electrodes, bandPower, numberOfEdges, plotTitle ):\n",
    "    \n",
    "    #Create columns for the band powers\n",
    "    label_names=[]\n",
    "    for i in electrodes:\n",
    "        for j in bandPower:\n",
    "            combination = i + '_(' + j + ')'\n",
    "            label_names.append(combination)\n",
    "        \n",
    "    node_angles = circular_layout(label_names, label_names, start_pos=90, group_boundaries=[0, len(label_names) / 2 ])\n",
    "    # Dataframe to plot correlations\n",
    "    valuesDF = dataFrame[label_names]\n",
    "\n",
    "    # Create Correlation matrix\n",
    "    corrDF = valuesDF.corr()\n",
    "    corrValues = corrDF.values\n",
    "    \n",
    "    #Set size nodes depending on their amounmt of correlation with other nodes\n",
    "    #dfAbs = corrDF.abs()\n",
    "    #absoluteValues = np.absolute(corrDF.values)\n",
    "    #sumAbsValues =  dfAbs.sum()/a.sum()\n",
    "    #sizeNodes = sumAbsValues.values*50\n",
    "\n",
    "    # Plot correlationGraph\n",
    "    plot = plot_connectivity_circle( corrValues, \n",
    "                             label_names, \n",
    "                             n_lines = numberOfEdges,\n",
    "                             node_angles=node_angles,\n",
    "                             colormap  = 'RdYlGn',\n",
    "                             facecolor ='White',\n",
    "                             textcolor = 'Black',\n",
    "                             node_width = 3,\n",
    "                             title = plotTitle,\n",
    "                             vmin = -1,\n",
    "                             vmax = 1 )\n",
    "\n",
    "######\n",
    "## HOW TO USE IT: EXAMPLE\n",
    "##\n",
    "#patientsDF = load ( rawDataPath )\n",
    "#dataFrame = addLabel ( pathCSV, patientsDF ).copy()\n",
    "#dataFrame = dataFrame[dataFrame['experiment'] == 'A']\n",
    "#dataFrame = dataFrame[dataFrame.Best_Cluster == 1]\n",
    "#electrodes = ['Fp1', 'F3', 'C3', 'Fz', 'Cz', 'Fp2', 'F4', 'C4']\n",
    "#bandPower = ['Theta2+Alpha1', 'Theta', 'Alpha', 'Beta_Global', 'Gamma']\n",
    "#experiment = 'A'\n",
    "#numberOfEdges = 100\n",
    "#plotTitle = 'All-to-All Correlation - Experiment A'\n",
    "#corrGraphPlot( dataFrame, electrodes, bandPower, numberOfEdges, plotTitle )\n",
    "##\n",
    "######"
   ]
  },
  {
   "cell_type": "code",
   "execution_count": 87,
   "metadata": {
    "collapsed": false
   },
   "outputs": [],
   "source": [
    "patientsDF = load ( rawDataPath )\n",
    "dataFrame = addLabel ( pathCSV, patientsDF ).copy()\n",
    "dataFrame = dataFrame[ dataFrame['experiment'] == 'B' ]\n",
    "dataFrame = dataFrame[ dataFrame.cluster_Hierarchichal == 1 ]\n",
    "\n",
    "electrodes = [ 'F3', 'C3', 'Fz', 'Cz', 'C4', 'F4']\n",
    "bandPower = ['Theta2+Alpha1', 'Theta', 'Alpha', 'Beta_Global', 'Gamma']\n",
    "numberOfEdges = 20\n",
    "plotTitle = 'All-to-All Correlation - Experiment B - Label Patient 1'\n",
    "\n",
    "corrGraphPlot( dataFrame, electrodes, bandPower, numberOfEdges, plotTitle )"
   ]
  },
  {
   "cell_type": "code",
   "execution_count": 98,
   "metadata": {
    "collapsed": false
   },
   "outputs": [],
   "source": [
    "def corrGraphPlotMAxCorr( dataFrame, electrodes, bandPower, numberOfEdges, maxCorr, plotTitle ):\n",
    "    \n",
    "    #Create columns for the band powers\n",
    "    label_names=[]\n",
    "    for i in electrodes:\n",
    "        for j in bandPower:\n",
    "            combination = i + '_(' + j + ')'\n",
    "            label_names.append(combination)\n",
    "        \n",
    "    node_angles = circular_layout(label_names, label_names, start_pos=90, group_boundaries=[0, len(label_names) / 2 ])\n",
    "    # Dataframe to plot correlations\n",
    "    valuesDF = dataFrame[label_names]\n",
    "\n",
    "    # Create Correlation matrix\n",
    "    corrDF = valuesDF.corr()\n",
    "    corrValues = corrDF.values\n",
    "    corrValues[ np.absolute(corrValues) < maxCorr] = 0\n",
    "    \n",
    "    #Set size nodes depending on their amounmt of correlation with other nodes\n",
    "    #dfAbs = corrDF.abs()\n",
    "    #absoluteValues = np.absolute(corrDF.values)\n",
    "    #sumAbsValues =  dfAbs.sum()/a.sum()\n",
    "    #sizeNodes = sumAbsValues.values*50\n",
    "\n",
    "    # Plot correlationGraph\n",
    "    plot = plot_connectivity_circle( corrValues, \n",
    "                             label_names, \n",
    "                             n_lines = numberOfEdges,\n",
    "                             node_angles = node_angles,\n",
    "                             colormap  = 'RdYlGn',\n",
    "                             facecolor ='White',\n",
    "                             textcolor = 'Black',\n",
    "                             node_width = 3,\n",
    "                             title = plotTitle,\n",
    "                             vmin = -1,\n",
    "                             vmax = 1 )"
   ]
  },
  {
   "cell_type": "code",
   "execution_count": 109,
   "metadata": {
    "collapsed": false
   },
   "outputs": [],
   "source": [
    "patientsDF = load ( rawDataPath )\n",
    "dataFrame = addLabel ( pathCSV, patientsDF ).copy()\n",
    "dataFrame = dataFrame[ dataFrame['experiment'] == 'C' ]\n",
    "dataFrame = dataFrame[ dataFrame.cluster_Hierarchichal == 0 ]\n",
    "\n",
    "electrodes = [ 'F3', 'C3', 'Fz', 'Cz', 'C4', 'F4']\n",
    "bandPower = ['Theta2+Alpha1', 'Theta', 'Alpha', 'Beta_Global', 'Gamma']\n",
    "numberOfEdges = None\n",
    "plotTitle = 'All-to-All Correlation > 0.8 - Experiment C - Label Patient 0'\n",
    "maxCorr = 0.8\n",
    "corrGraphPlotMAxCorr( dataFrame, electrodes, bandPower, numberOfEdges, maxCorr, plotTitle )"
   ]
  },
  {
   "cell_type": "markdown",
   "metadata": {},
   "source": [
    "Graph representing how different are correlation between electrode_band's for each label patient"
   ]
  },
  {
   "cell_type": "code",
   "execution_count": 59,
   "metadata": {
    "collapsed": false
   },
   "outputs": [],
   "source": [
    "def diffBetweenLabelsCorrGraphPlot( dataFrame, electrodes, bandPower, numberOfEdges, plotTitle ):\n",
    "    \n",
    "    #Create columns for the band powers\n",
    "    label_names=[]\n",
    "    for i in electrodes:\n",
    "        for j in bandPower:\n",
    "            combination = i + '_(' + j + ')'\n",
    "            label_names.append(combination)\n",
    "\n",
    "    node_angles = circular_layout(label_names, label_names, start_pos=90, group_boundaries=[0, len(label_names) / 2 ])\n",
    "    # Dataframe to plot correlations\n",
    "\n",
    "    # Dataframe label 1\n",
    "    valuesDF_l1 = dataFrame[ dataFrame.cluster_Hierarchichal == 1 ]\n",
    "    valuesDF_l0 = dataFrame[ dataFrame.cluster_Hierarchichal == 0 ]\n",
    "    # Create Correlation matrix\n",
    "    corrDF_l1 = valuesDF_l1[label_names].corr()\n",
    "    corrDF_l0 = valuesDF_l0[label_names].corr()\n",
    "    diffCorrDF = corrDF_l1 - corrDF_l0\n",
    "    diffCorrValue = np.absolute(diffCorrDF.values)\n",
    "    plot = plot_connectivity_circle( diffCorrValue, \n",
    "                                 label_names, \n",
    "                                 n_lines = numberOfEdges,\n",
    "                                 node_angles=node_angles,\n",
    "                                 colormap  = 'OrRd',\n",
    "                                 facecolor ='White',\n",
    "                                 textcolor = 'Black',\n",
    "                                 node_width = 1,\n",
    "                                 title = plotTitle,\n",
    "                                 vmin = 0\n",
    "                             )\n"
   ]
  },
  {
   "cell_type": "code",
   "execution_count": 61,
   "metadata": {
    "collapsed": false
   },
   "outputs": [],
   "source": [
    "patientsDF = load ( rawDataPath )\n",
    "dataFrame = addLabel ( pathCSV, patientsDF ).copy()\n",
    "dataFrame = dataFrame[ dataFrame['experiment'] == 'B' ]\n",
    "\n",
    "electrodes = [ 'F3', 'C3', 'Fz', 'Cz', 'C4', 'F4',]\n",
    "bandPower = ['Theta2+Alpha1', 'Theta', 'Alpha', 'Beta_Global', 'Gamma']\n",
    "plotTitle =  'Absolute difference between correlations - Experiment A'\n",
    "numberOfEdges = 435\n",
    "\n",
    "# Plot correlationGraph\n",
    "diffBetweenLabelsCorrGraphPlot( dataFrame, electrodes, bandPower, numberOfEdges, plotTitle )"
   ]
  },
  {
   "cell_type": "markdown",
   "metadata": {},
   "source": [
    "# 4. Plot absolute different values "
   ]
  },
  {
   "cell_type": "markdown",
   "metadata": {},
   "source": [
    "Plot electrodes and bands in a brain pic"
   ]
  },
  {
   "cell_type": "code",
   "execution_count": 164,
   "metadata": {
    "collapsed": false
   },
   "outputs": [],
   "source": [
    "\n",
    "def scatterPlotBrain ( resultToPlot, brainPath, plotTitle, size ):\n",
    "\n",
    "    electrodes = [ 'F3', 'C3', 'Fz', 'Cz', 'F4', 'C4']\n",
    "    bandPower = ['Theta2+Alpha1', 'Theta', 'Alpha', 'Beta_Global', 'Gamma']\n",
    "\n",
    "    fig = plt.figure()\n",
    "    ax = fig.add_subplot(111)\n",
    "\n",
    "    #Plot electrodes name\n",
    "    electrodesX = (300, 300, 500, 500, 700, 700 )\n",
    "    electrodesY = (300,850,450,700, 300, 850)\n",
    "    electrodesArea = (15000, 15000, 15000, 15000, 15000)\n",
    "    for i, txt in enumerate(electrodes):\n",
    "        ax.text(electrodesX[i],electrodesY[i]-100, txt)\n",
    "\n",
    "    #Labels\n",
    "    colors = ['b', 'c', 'y', 'm', 'r']\n",
    "    recs = []\n",
    "    for i in range(0,len(colors)):\n",
    "        recs.append(mpatches.Circle((0, 0), 0.1, color= colors[i]))\n",
    "    plt.legend(recs, bandPower, loc = 'center right', fontsize=15)\n",
    "\n",
    "    #Plot brain picture\n",
    "    im = plt.imread( brainPath )\n",
    "    implot = plt.imshow( im )\n",
    "\n",
    "    #Plot electrode area\n",
    "    electrodesScatterPlot = plt.scatter(electrodesX, electrodesY, s = electrodesArea, color = 'whitesmoke' )\n",
    "\n",
    "    #Plot band powers per electrode\n",
    "    y1 = (250,400,250, 800,650, 800)\n",
    "    y2 = (300,450,300, 850,700, 850)\n",
    "    y3 = (350,500,350, 900,750, 900)\n",
    "\n",
    "    theta2Alpha1X = (250, 450, 650, 250, 450, 650 )\n",
    "    theta2Alpha1Values = resultToPlot[0::5]\n",
    "    theta2Alpha1Area = np.pi * theta2Alpha1Values.values**2*size\n",
    "\n",
    "    electrodes = theta2Alpha1ScatterPlot = plt.scatter(theta2Alpha1X, y1, s = theta2Alpha1Area, color = colors[0])\n",
    "\n",
    "    thetaX = (350, 550, 750, 350, 550, 750 )\n",
    "    thetaValues = resultToPlot[1::5]\n",
    "    thetaArea = np.pi * thetaValues.values**2*size\n",
    "    thetaScatterPlot = plt.scatter(thetaX, y1, s = thetaArea, color = colors[1])\n",
    "\n",
    "    alphaX = (300, 500, 700, 300, 500, 700 )\n",
    "    alphaValues = resultToPlot[2::5]\n",
    "    alphaArea = np.pi * alphaValues.values**2*size\n",
    "    alphaScatterPlot = plt.scatter(alphaX, y2, s = alphaArea, color = colors[2])\n",
    "\n",
    "    betaGlobalX = (250, 450, 650, 250, 450, 650 )\n",
    "    betaGlobalValues = resultToPlot[3::5]\n",
    "    betaGlobalArea = np.pi * betaGlobalValues.values**2*size\n",
    "    betaGlobalScatterPlot = plt.scatter(betaGlobalX, y3, s = betaGlobalArea, color = colors[3])\n",
    "\n",
    "\n",
    "    gammaX = (350, 550, 750, 350, 550, 750 )\n",
    "    gammaValues = resultToPlot[4::5]\n",
    "    gammaArea = np.pi * gammaValues.values**2*size\n",
    "    gammaScatterPlot = plt.scatter(gammaX, y3, s = gammaArea, color = colors[4])\n",
    "\n",
    "    plt.axis('off')\n",
    "    plt.title( plotTitle,  fontsize=20 )\n",
    "    plt.show()\n"
   ]
  },
  {
   "cell_type": "code",
   "execution_count": 142,
   "metadata": {
    "collapsed": false
   },
   "outputs": [],
   "source": [
    "#different values\n",
    "patientsDF = load ( rawDataPath )\n",
    "dataFrame = addLabel ( pathCSV, patientsDF ).copy()\n",
    "dataFrame = dataFrame[ dataFrame['experiment'] == 'C' ]\n",
    "\n",
    "electrodes = [ 'F3', 'C3', 'Fz', 'Cz', 'F4', 'C4']\n",
    "bandPower = ['Theta2+Alpha1', 'Theta', 'Alpha', 'Beta_Global', 'Gamma']\n",
    "\n",
    "label_names=[]\n",
    "for i in electrodes:\n",
    "    for j in bandPower:\n",
    "        combination = i + '_(' + j + ')'\n",
    "        label_names.append(combination)\n",
    "\n",
    "cluster = dataFrame.cluster_Hierarchichal\n",
    "dataFrame = normalizeData ( dataFrame [ label_names ] )\n",
    "dataFrame['cluster_Hierarchichal'] = cluster\n",
    "# Dataframe per label \n",
    "valuesDF_l1 = dataFrame[ dataFrame.cluster_Hierarchichal == 1 ]\n",
    "valuesDF_l0 = dataFrame[ dataFrame.cluster_Hierarchichal == 0 ]\n",
    "len_l1 = valuesDF_l1.shape[0]\n",
    "len_l0 = valuesDF_l0.shape[0]\n",
    "sum_l1 = valuesDF_l1[label_names].sum()\n",
    "sum_l0 = valuesDF_l0[label_names].sum()\n",
    "resultToPlot = np.absolute((sum_l1*len_l0 - sum_l0*len_l1)/(len_l1*len_l0) )\n",
    "\n",
    "plotTitle = \"Differences between labels - Experiment C\"\n",
    "size = 100\n",
    "scatterPlotBrain ( resultToPlot, brainPath, plotTitle, size )"
   ]
  },
  {
   "cell_type": "code",
   "execution_count": 176,
   "metadata": {
    "collapsed": false
   },
   "outputs": [],
   "source": [
    "#Connectivity from correlation graph\n",
    "patientsDF = load ( rawDataPath )\n",
    "dataFrame = addLabel ( pathCSV, patientsDF ).copy()\n",
    "dataFrame = dataFrame[ dataFrame['experiment'] == 'A' ]\n",
    "dataFrame = dataFrame[ dataFrame.cluster_Hierarchichal == 0 ]\n",
    "\n",
    "electrodes = [ 'F3', 'C3', 'Fz', 'Cz', 'F4', 'C4']\n",
    "bandPower = ['Theta2+Alpha1', 'Theta', 'Alpha', 'Beta_Global', 'Gamma']\n",
    "\n",
    "label_names=[]\n",
    "for i in electrodes:\n",
    "    for j in bandPower:\n",
    "        combination = i + '_(' + j + ')'\n",
    "        label_names.append(combination)\n",
    "\n",
    "valuesDF = dataFrame [ label_names ]\n",
    "\n",
    "# Dataframe per label \n",
    "\n",
    "\n",
    "\n",
    "corrDF = np.absolute(valuesDF.corr())\n",
    "sumcorrDF = corrDF.sum()\n",
    "total = sum(sumcorrDF)\n",
    "resultToPlot = (sumcorrDF / total) * 100\n",
    "\n",
    "plotTitle = \"Connectivity for correlation Graph - Experiment A - Label Patient 0\"\n",
    "\n",
    "size = 10\n",
    "scatterPlotBrain ( resultToPlot, brainPath, plotTitle, size )\n",
    "\n"
   ]
  }
 ],
 "metadata": {
  "kernelspec": {
   "display_name": "Python 3",
   "language": "python",
   "name": "python3"
  },
  "language_info": {
   "codemirror_mode": {
    "name": "ipython",
    "version": 3
   },
   "file_extension": ".py",
   "mimetype": "text/x-python",
   "name": "python",
   "nbconvert_exporter": "python",
   "pygments_lexer": "ipython3",
   "version": "3.5.1"
  }
 },
 "nbformat": 4,
 "nbformat_minor": 0
}
