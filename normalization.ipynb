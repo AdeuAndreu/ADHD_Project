{
 "cells": [
  {
   "cell_type": "code",
   "execution_count": 1,
   "metadata": {
    "collapsed": true
   },
   "outputs": [],
   "source": [
    "#import libraries\n",
    "import numpy as np\n",
    "import pandas as pd\n",
    "import scipy.io as sio\n",
    "import os\n",
    "import re\n",
    "\n",
    "import pickle\n",
    "import pylab as pl\n",
    "from matplotlib import pyplot as plt #Provides a MATLAB-like plotting framework.\n",
    "from mpl_toolkits.mplot3d import Axes3D\n",
    "from mpl_toolkits.mplot3d import proj3d\n",
    "\n",
    "from scipy.linalg import eig"
   ]
  },
  {
   "cell_type": "code",
   "execution_count": 2,
   "metadata": {
    "collapsed": true
   },
   "outputs": [],
   "source": [
    "#set path to the data\n",
    "path = '/home/carles/Desktop/PG/capstone/data/'\n",
    "\n",
    "#set the path for the filenames\n",
    "filenames = os.listdir(path)\n",
    "\n",
    "#electrodes names\n",
    "electrodes = ['Fp1', 'F3', 'C3', 'Fz', 'Cz', 'Fp2', 'F4', 'C4']\n",
    "\n",
    "#bandPower names\n",
    "bandPower = ['Theta2+Alpha1', 'Theta', 'Alpha', 'Beta_Global', 'Beta_Alta', 'Beta_Baja', 'Gamma']\n",
    "\n",
    "#let us create the real dataframe\n",
    "#columns for the band powers\n",
    "columns_df=[]\n",
    "for i in electrodes:\n",
    "    for j in bandPower:\n",
    "        combination = i + '_(' + j + ')'\n",
    "        columns_df.append(combination)\n",
    "\n",
    "#columns for the band power ratios\n",
    "columns_df2 = ['BPR_Fp1', 'BPR_F3', 'BPR_C3', 'BPR_Fz', 'BPR_Cz', 'BPR_Fp2', 'BPR_F4', 'BPR_C4']\n",
    "\n",
    "#patterns to determine experiments\n",
    "patternA = r'[\\w]+A\\.mat'\n",
    "patternB = r'[\\w]+B\\.mat'\n",
    "patternC = r'[\\w]+C\\.mat'\n",
    "\n",
    "#define the list of dataframes\n",
    "list_df=[]\n",
    "for i in filenames:\n",
    "    patient = sio.loadmat(path + i)\n",
    "    bandPowerDF = pd.DataFrame(patient['BandPower'].reshape(1,56), columns = columns_df)\n",
    "    bandPowerRatioDF = pd.DataFrame(patient['BandPowerRatio'].reshape(1,8), columns = columns_df2)\n",
    "    patientDF =  pd.concat([bandPowerDF, bandPowerRatioDF], axis=1)\n",
    "    #patientDF = pd.DataFrame(patient['BandPower'].reshape(1,56), columns = columns_df)\n",
    "    patientDF['patientName']=i.split('.mat')[0]\n",
    "    if re.match(patternA,i) != None:\n",
    "        patientDF['experiment'] = 'A'\n",
    "    elif re.match(patternB,i) != None:\n",
    "        patientDF['experiment'] = 'B'\n",
    "    elif re.match(patternC,i) != None:\n",
    "        patientDF['experiment'] = 'C'\n",
    "    list_df.append(patientDF)\n",
    "\n",
    "#via the concat all the dataframes are concatenated\n",
    "patientsDF = pd.concat(list_df)\n",
    "#nans are dropped\n",
    "patientsDF = patientsDF.dropna(how='any')\n",
    "\n",
    "#dataframe is sorted by experiment type: order A, B and C\n",
    "patientsDF.sort_values(by='experiment', ascending= True, inplace=True)\n",
    "\n",
    "#indexs are reset\n",
    "#patientsDF = patientsDF.reset_index(drop = True)\n",
    "\n",
    "#indexs are set according to the patient file\n",
    "patientsDF.set_index(['patientName'], inplace=True)"
   ]
  },
  {
   "cell_type": "code",
   "execution_count": 3,
   "metadata": {
    "collapsed": true
   },
   "outputs": [],
   "source": [
    "#let us separate the data of the three experiments\n",
    "ApatientsDF = patientsDF[patientsDF['experiment']=='A'].copy()\n",
    "dropApatientsDF = ApatientsDF.drop(['experiment'],1)\n",
    "#dropApatientsDF = ApatientsDF.drop(['experiment', 'patientName'],1)\n",
    "BpatientsDF = patientsDF[patientsDF['experiment']=='B'].copy()\n",
    "dropBpatientsDF = BpatientsDF.drop(['experiment'],1)\n",
    "#dropBpatientsDF = BpatientsDF.drop(['experiment', 'patientName'],1)\n",
    "CpatientsDF = patientsDF[patientsDF['experiment']=='C'].copy()\n",
    "dropCpatientsDF = CpatientsDF.drop(['experiment'],1)\n",
    "#dropCpatientsDF = CpatientsDF.drop(['experiment', 'patientName'],1)"
   ]
  },
  {
   "cell_type": "code",
   "execution_count": 4,
   "metadata": {
    "collapsed": true
   },
   "outputs": [],
   "source": [
    "from sklearn.preprocessing import StandardScaler\n",
    "#normalize datasets for easier parameter selection\n",
    "normApatients64 = StandardScaler().fit_transform(dropApatientsDF.values)\n",
    "normBpatients64 = StandardScaler().fit_transform(dropBpatientsDF.values)\n",
    "normCpatients64 = StandardScaler().fit_transform(dropCpatientsDF.values)\n",
    "\n",
    "normApatients56 = StandardScaler().fit_transform(dropApatientsDF[columns_df].values)\n",
    "normBpatients56 = StandardScaler().fit_transform(dropBpatientsDF[columns_df].values)\n",
    "normCpatients56 = StandardScaler().fit_transform(dropCpatientsDF[columns_df].values)"
   ]
  },
  {
   "cell_type": "code",
   "execution_count": null,
   "metadata": {
    "collapsed": true
   },
   "outputs": [],
   "source": []
  }
 ],
 "metadata": {
  "kernelspec": {
   "display_name": "Python 3",
   "language": "python",
   "name": "python3"
  },
  "language_info": {
   "codemirror_mode": {
    "name": "ipython",
    "version": 3
   },
   "file_extension": ".py",
   "mimetype": "text/x-python",
   "name": "python",
   "nbconvert_exporter": "python",
   "pygments_lexer": "ipython3",
   "version": "3.5.1"
  }
 },
 "nbformat": 4,
 "nbformat_minor": 0
}
